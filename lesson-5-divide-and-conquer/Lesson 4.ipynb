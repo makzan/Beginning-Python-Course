{
 "cells": [
  {
   "cell_type": "markdown",
   "metadata": {},
   "source": [
    "# Lecture 4: "
   ]
  },
  {
   "cell_type": "markdown",
   "metadata": {},
   "source": [
    "In this lecture, we explore more details about Python language."
   ]
  },
  {
   "cell_type": "markdown",
   "metadata": {},
   "source": [
    "- [Defining functions](#Defining-functions)\n",
    "- [Comment and DocString](#Comments-and-DocString)\n",
    "- [List comprehension](#List-comprehension)\n",
    "- [Dunder methods](#Dunder-methods)\n",
    "- [Lambda function](#Lambda-function)\n",
    "- [Object-Oriented Programming](#Object-Oriented-Programming)\n",
    "- [Date Helper Example](#Date-Helper-class-example)\n",
    "- [Iteration and Generator](#Iteration-and-Generator)\n",
    "- [Repeater](#Repeater)\n",
    "- [Generators](#Generators)"
   ]
  },
  {
   "cell_type": "markdown",
   "metadata": {},
   "source": [
    "## Defining functions"
   ]
  },
  {
   "cell_type": "markdown",
   "metadata": {},
   "source": [
    "We can define our function by using `def`. A function contains a block of code that only executes when we call it. A function has a name for us to call. We can also pass variables into the function, they are called **parameters**."
   ]
  },
  {
   "cell_type": "code",
   "execution_count": null,
   "metadata": {},
   "outputs": [],
   "source": [
    "def square(x):\n",
    "    return x*x"
   ]
  },
  {
   "cell_type": "code",
   "execution_count": null,
   "metadata": {},
   "outputs": [],
   "source": [
    "square(3)"
   ]
  },
  {
   "cell_type": "markdown",
   "metadata": {},
   "source": [
    "**Exercise time:**\n",
    "Try to write a function that given two number `a` and `b`, result the `sum` result."
   ]
  },
  {
   "cell_type": "code",
   "execution_count": null,
   "metadata": {},
   "outputs": [],
   "source": [
    "def add(a, b):\n",
    "    return None\n",
    "\n",
    "print(add(1, 3))\n",
    "print(add(100, 1))"
   ]
  },
  {
   "cell_type": "markdown",
   "metadata": {},
   "source": [
    "|Expected Result|\n",
    "|---|\n",
    "|4\n",
    "101|"
   ]
  },
  {
   "cell_type": "markdown",
   "metadata": {},
   "source": [
    "## Comments and DocString"
   ]
  },
  {
   "cell_type": "markdown",
   "metadata": {},
   "source": [
    "We can store multiple lines of string by using three quotes. Any string within a pair of `\"\"\"`."
   ]
  },
  {
   "cell_type": "markdown",
   "metadata": {},
   "source": [
    "For example, we can store a multiple-lines strings as following code example:"
   ]
  },
  {
   "cell_type": "code",
   "execution_count": 4,
   "metadata": {},
   "outputs": [
    {
     "data": {
      "text/plain": [
       "3"
      ]
     },
     "execution_count": 4,
     "metadata": {},
     "output_type": "execute_result"
    }
   ],
   "source": [
    "source = \"\"\"Alice was beginning to get very tired of sitting by her sister on the bank, and of having nothing to do: once or twice she had peeped into the book her sister was reading, but it had no pictures or conversations in it, “and what is the use of a book,” thought Alice “without pictures or conversations?”\n",
    "So she was considering in her own mind (as well as she could, for the hot day made her feel very sleepy and stupid), whether the pleasure of making a daisy-chain would be worth the trouble of getting up and picking the daisies, when suddenly a White Rabbit with pink eyes ran close by her.\n",
    "There was nothing so very remarkable in that; nor did Alice think it so very much out of the way to hear the Rabbit say to itself, “Oh dear! Oh dear! I shall be late!” (when she thought it over afterwards, it occurred to her that she ought to have wondered at this, but at the time it all seemed quite natural); but when the Rabbit actually took a watch out of its waistcoat-pocket, and looked at it, and then hurried on, Alice started to her feet, for it flashed across her mind that she had never before seen a rabbit with either a waistcoat-pocket, or a watch to take out of it, and burning with curiosity, she ran across the field after it, and fortunately was just in time to see it pop down a large rabbit-hole under the hedge.\"\"\"\n",
    "\n",
    "paragraphs = source.split(\"\\n\")\n",
    "len(paragraphs)"
   ]
  },
  {
   "cell_type": "markdown",
   "metadata": {},
   "source": [
    "Beyond using multiple-lines in variables, we can also use it as **DocString**. DocString is a description on function, on module, on file. It provide a brief on what the block of code does."
   ]
  },
  {
   "cell_type": "code",
   "execution_count": null,
   "metadata": {},
   "outputs": [],
   "source": [
    "# Comment begins with #\n",
    "\n",
    "\"\"\"\n",
    "Multi-lines comments\n",
    "by using 3 quotes.\n",
    "\"\"\"\n",
    "\n",
    "def hello(message):\n",
    "  \"\"\"DocString:\n",
    "      3-quote comments as first line of functions\n",
    "      is called DocString.\n",
    "  \"\"\"\n",
    "  return f\"Hello {message}\"\n",
    "\n"
   ]
  },
  {
   "cell_type": "code",
   "execution_count": null,
   "metadata": {},
   "outputs": [],
   "source": [
    "def square(x):\n",
    "  \"\"\"Return a square of input\"\"\"\n",
    "  return x*x\n",
    "\n",
    "\n",
    "help(square)\n",
    "\n",
    "print(square.__doc__)"
   ]
  },
  {
   "cell_type": "markdown",
   "metadata": {},
   "source": [
    "**Exercise time:**\n",
    "Given the following function that print today’s date, try to write a Doc String for it."
   ]
  },
  {
   "cell_type": "code",
   "execution_count": null,
   "metadata": {},
   "outputs": [],
   "source": [
    "def today():\n",
    "    '''WRITE_YOUR_DOC_STRING_HERE'''\n",
    "    import datetime\n",
    "    return datetime.date.today().isoformat()"
   ]
  },
  {
   "cell_type": "code",
   "execution_count": null,
   "metadata": {},
   "outputs": [],
   "source": [
    "today.__doc__"
   ]
  },
  {
   "cell_type": "code",
   "execution_count": 8,
   "metadata": {},
   "outputs": [
    {
     "name": "stdout",
     "output_type": "stream",
     "text": [
      "Help on function today in module __main__:\n",
      "\n",
      "today()\n",
      "    WRITE_YOUR_DOC_STRING_HERE\n",
      "\n"
     ]
    }
   ],
   "source": [
    "help(today)"
   ]
  },
  {
   "cell_type": "markdown",
   "metadata": {},
   "source": [
    "## List comprehension\n",
    "\n",
    "We can create a list by transforming another list."
   ]
  },
  {
   "cell_type": "code",
   "execution_count": 9,
   "metadata": {},
   "outputs": [
    {
     "data": {
      "text/plain": [
       "[0, 1, 4, 9, 16, 25, 36, 49, 64, 81]"
      ]
     },
     "execution_count": 9,
     "metadata": {},
     "output_type": "execute_result"
    }
   ],
   "source": [
    "[x**2 for x in range(10)]"
   ]
  },
  {
   "cell_type": "markdown",
   "metadata": {},
   "source": [
    "Furthermore, we can have condition to include only the item we want into the new list."
   ]
  },
  {
   "cell_type": "code",
   "execution_count": 1,
   "metadata": {},
   "outputs": [
    {
     "data": {
      "text/plain": [
       "[0, 1, 4, 9, 16, 25, 36, 49]"
      ]
     },
     "execution_count": 1,
     "metadata": {},
     "output_type": "execute_result"
    }
   ],
   "source": [
    "[x**2 for x in range(10) if x**2 < 50]"
   ]
  },
  {
   "cell_type": "markdown",
   "metadata": {},
   "source": [
    "**Exercise time:**\n",
    "Try creating a list that contains sequence of 10, 20, 30, ... 100."
   ]
  },
  {
   "cell_type": "code",
   "execution_count": null,
   "metadata": {},
   "outputs": [],
   "source": []
  },
  {
   "cell_type": "markdown",
   "metadata": {},
   "source": [
    "|Expected Result|\n",
    "|---|\n",
    "|[10, 20, 30, 40, 50, 60, 70, 80, 90, 100]|"
   ]
  },
  {
   "cell_type": "markdown",
   "metadata": {},
   "source": [
    "**Exercise time:**\n",
    "Try creating a list that contains sequence of **square** of 10, 20, 30, ... 100."
   ]
  },
  {
   "cell_type": "code",
   "execution_count": null,
   "metadata": {},
   "outputs": [],
   "source": []
  },
  {
   "cell_type": "markdown",
   "metadata": {},
   "source": [
    "|Expected Result|\n",
    "|---|\n",
    "|[100, 400, 900, 1600, 2500, 3600, 4900, 6400, 8100, 10000]|"
   ]
  },
  {
   "cell_type": "markdown",
   "metadata": {},
   "source": [
    "Using list comprehension with existing data list."
   ]
  },
  {
   "cell_type": "code",
   "execution_count": 12,
   "metadata": {},
   "outputs": [
    {
     "data": {
      "text/plain": [
       "[65, 67, 78, 80]"
      ]
     },
     "execution_count": 12,
     "metadata": {},
     "output_type": "execute_result"
    }
   ],
   "source": [
    "scores = [34, 65, 45, 67, 78, 56, 80]\n",
    "\n",
    "[x for x in scores if x >= 60]\n"
   ]
  },
  {
   "cell_type": "markdown",
   "metadata": {},
   "source": [
    "Another example, given the following dataset."
   ]
  },
  {
   "cell_type": "code",
   "execution_count": 4,
   "metadata": {},
   "outputs": [],
   "source": [
    "contacts = [\n",
    "    {'name': 'Thomas', 'email': 'thomas@example.com', 'tel':'66661234'},\n",
    "    {'name': 'Susanna', 'email': 'susanna@example.com', 'tel':'66334455'},\n",
    "    {'name': 'Dick', 'email': 'dick@example.com', 'tel':'66664321'},\n",
    "    {'name': 'Tom', 'email': 'tom@example.com', 'tel':'67891230'},\n",
    "]"
   ]
  },
  {
   "cell_type": "markdown",
   "metadata": {},
   "source": [
    "Filtering by name"
   ]
  },
  {
   "cell_type": "code",
   "execution_count": 14,
   "metadata": {},
   "outputs": [
    {
     "data": {
      "text/plain": [
       "[{'name': 'Thomas', 'email': 'thomas@example.com', 'tel': '66661234'},\n",
       " {'name': 'Tom', 'email': 'tom@example.com', 'tel': '67891230'}]"
      ]
     },
     "execution_count": 14,
     "metadata": {},
     "output_type": "execute_result"
    }
   ],
   "source": [
    "[x for x in contacts if x['name'][0]=='T' ]"
   ]
  },
  {
   "cell_type": "markdown",
   "metadata": {},
   "source": [
    "Getting all emails from the list"
   ]
  },
  {
   "cell_type": "code",
   "execution_count": 15,
   "metadata": {
    "scrolled": true
   },
   "outputs": [
    {
     "data": {
      "text/plain": [
       "['thomas@example.com',\n",
       " 'susanna@example.com',\n",
       " 'dick@example.com',\n",
       " 'tom@example.com']"
      ]
     },
     "execution_count": 15,
     "metadata": {},
     "output_type": "execute_result"
    }
   ],
   "source": [
    "emails = [ c['email'] for c in contacts]\n",
    "emails"
   ]
  },
  {
   "cell_type": "markdown",
   "metadata": {},
   "source": [
    "Displaying emails list in a string"
   ]
  },
  {
   "cell_type": "code",
   "execution_count": 17,
   "metadata": {},
   "outputs": [
    {
     "name": "stdout",
     "output_type": "stream",
     "text": [
      "thomas@example.com, susanna@example.com, dick@example.com, tom@example.com\n"
     ]
    }
   ],
   "source": [
    "print(\", \".join(emails))"
   ]
  },
  {
   "cell_type": "markdown",
   "metadata": {},
   "source": [
    "**Exercise time**: Try to get all names into a list from the `contacts` dataset."
   ]
  },
  {
   "cell_type": "code",
   "execution_count": null,
   "metadata": {},
   "outputs": [],
   "source": []
  },
  {
   "cell_type": "markdown",
   "metadata": {},
   "source": [
    "| Expected Result|\n",
    "|---|\n",
    "|['Thomas', 'Susanna', 'Dick', 'Tom']|"
   ]
  },
  {
   "cell_type": "markdown",
   "metadata": {},
   "source": [
    "**Exercise time**: Try to get all tels from the `contacts` dataset. We want the output to be comma-separated."
   ]
  },
  {
   "cell_type": "code",
   "execution_count": null,
   "metadata": {},
   "outputs": [],
   "source": []
  },
  {
   "cell_type": "markdown",
   "metadata": {},
   "source": [
    "| Expected Result|\n",
    "|---|\n",
    "|66661234,66334455,66664321,67891230|"
   ]
  },
  {
   "cell_type": "markdown",
   "metadata": {},
   "source": [
    "## Module import"
   ]
  },
  {
   "cell_type": "markdown",
   "metadata": {},
   "source": [
    "We can import modules into the python script to extend the abilities. In our previous examples, we have imported `datetime` module, `random` module and a 3rd party `docx` module."
   ]
  },
  {
   "cell_type": "markdown",
   "metadata": {},
   "source": [
    "We can also import a custom external python script. Given the `test_helper.py` in the same folder of the python script, we can import it for us to use."
   ]
  },
  {
   "cell_type": "code",
   "execution_count": 18,
   "metadata": {},
   "outputs": [],
   "source": [
    "import test_helper"
   ]
  },
  {
   "cell_type": "code",
   "execution_count": 19,
   "metadata": {},
   "outputs": [
    {
     "data": {
      "text/plain": [
       "'2020-08-13'"
      ]
     },
     "execution_count": 19,
     "metadata": {},
     "output_type": "execute_result"
    }
   ],
   "source": [
    "test_helper.today()"
   ]
  },
  {
   "cell_type": "markdown",
   "metadata": {},
   "source": [
    "We may alias the module name by using `import...as...`."
   ]
  },
  {
   "cell_type": "code",
   "execution_count": 20,
   "metadata": {},
   "outputs": [],
   "source": [
    "import test_helper as helper"
   ]
  },
  {
   "cell_type": "code",
   "execution_count": 21,
   "metadata": {},
   "outputs": [
    {
     "data": {
      "text/plain": [
       "'2020-08-13'"
      ]
     },
     "execution_count": 21,
     "metadata": {},
     "output_type": "execute_result"
    }
   ],
   "source": [
    "helper.today()"
   ]
  },
  {
   "cell_type": "markdown",
   "metadata": {},
   "source": [
    "We may use `from...import...` syntax to import individual function from a module."
   ]
  },
  {
   "cell_type": "code",
   "execution_count": 22,
   "metadata": {},
   "outputs": [],
   "source": [
    "from test_helper import download_file\n",
    "\n",
    "\n",
    "download_file(\"https://xml.smg.gov.mo/c_7daysforecast.xml\")"
   ]
  },
  {
   "cell_type": "markdown",
   "metadata": {},
   "source": [
    "### Easter Egg: import this"
   ]
  },
  {
   "cell_type": "markdown",
   "metadata": {},
   "source": [
    "Let’s try `import this`. Python gives us a poem of the [Zen of Python](https://en.wikipedia.org/wiki/Zen_of_Python). [PEP20](https://www.python.org/dev/peps/pep-0020/) has reference on this too."
   ]
  },
  {
   "cell_type": "code",
   "execution_count": 23,
   "metadata": {},
   "outputs": [
    {
     "name": "stdout",
     "output_type": "stream",
     "text": [
      "The Zen of Python, by Tim Peters\n",
      "\n",
      "Beautiful is better than ugly.\n",
      "Explicit is better than implicit.\n",
      "Simple is better than complex.\n",
      "Complex is better than complicated.\n",
      "Flat is better than nested.\n",
      "Sparse is better than dense.\n",
      "Readability counts.\n",
      "Special cases aren't special enough to break the rules.\n",
      "Although practicality beats purity.\n",
      "Errors should never pass silently.\n",
      "Unless explicitly silenced.\n",
      "In the face of ambiguity, refuse the temptation to guess.\n",
      "There should be one-- and preferably only one --obvious way to do it.\n",
      "Although that way may not be obvious at first unless you're Dutch.\n",
      "Now is better than never.\n",
      "Although never is often better than *right* now.\n",
      "If the implementation is hard to explain, it's a bad idea.\n",
      "If the implementation is easy to explain, it may be a good idea.\n",
      "Namespaces are one honking great idea -- let's do more of those!\n"
     ]
    }
   ],
   "source": [
    "import this"
   ]
  },
  {
   "cell_type": "markdown",
   "metadata": {},
   "source": [
    "## Optional: Dunder methods\n",
    "\n",
    "Dunder method stands for Double Underscore Method.\n",
    "\n",
    "They are special usage for Python behind-the-scene.\n",
    "\n",
    "Take `with` as example, it automatically calls the method `__enter__` and `__exit__`. When existing the indentation block, the `__exit__` is called.\n",
    "\n",
    "That’s why when we `open` a file by using `with` block, Python handles the opening and closing for us."
   ]
  },
  {
   "cell_type": "markdown",
   "metadata": {},
   "source": [
    "Another example of dunder method is the `__doc__`"
   ]
  },
  {
   "cell_type": "markdown",
   "metadata": {},
   "source": [
    "List of dunder methods:"
   ]
  },
  {
   "cell_type": "markdown",
   "metadata": {},
   "source": [
    "![](./dunder_methods_1.png)"
   ]
  },
  {
   "cell_type": "markdown",
   "metadata": {},
   "source": [
    "![](dunder_methods_2.png)"
   ]
  },
  {
   "cell_type": "markdown",
   "metadata": {},
   "source": [
    "Table clipped from [Python Tricks](https://realpython.com/products/python-tricks-book/)."
   ]
  },
  {
   "cell_type": "markdown",
   "metadata": {},
   "source": [
    "## Optional: Lambda function"
   ]
  },
  {
   "cell_type": "markdown",
   "metadata": {},
   "source": [
    "Lambda function is a single line function."
   ]
  },
  {
   "cell_type": "code",
   "execution_count": 24,
   "metadata": {},
   "outputs": [],
   "source": [
    "def square(x):\n",
    "    return x*x"
   ]
  },
  {
   "cell_type": "code",
   "execution_count": 25,
   "metadata": {},
   "outputs": [],
   "source": [
    "square2 = lambda x: x*x"
   ]
  },
  {
   "cell_type": "code",
   "execution_count": 26,
   "metadata": {},
   "outputs": [
    {
     "data": {
      "text/plain": [
       "9"
      ]
     },
     "execution_count": 26,
     "metadata": {},
     "output_type": "execute_result"
    }
   ],
   "source": [
    "square2(3)"
   ]
  },
  {
   "cell_type": "markdown",
   "metadata": {},
   "source": [
    "Why single line of function?\n",
    "\n",
    "Useful when we need an ad-hoc function to quick converting value, which can be expressed in one line of calculation."
   ]
  },
  {
   "cell_type": "markdown",
   "metadata": {},
   "source": [
    "We often use it with `map`"
   ]
  },
  {
   "cell_type": "code",
   "execution_count": 27,
   "metadata": {},
   "outputs": [
    {
     "data": {
      "text/plain": [
       "[0, 1, 4, 9, 16, 25, 36, 49, 64, 81]"
      ]
     },
     "execution_count": 27,
     "metadata": {},
     "output_type": "execute_result"
    }
   ],
   "source": [
    "list(map(lambda x: x*x, range(10)))"
   ]
  },
  {
   "cell_type": "markdown",
   "metadata": {},
   "source": [
    "But indeed, we can use list comprehension to better express this transform:"
   ]
  },
  {
   "cell_type": "markdown",
   "metadata": {},
   "source": [
    "## Object-Oriented Programming"
   ]
  },
  {
   "cell_type": "markdown",
   "metadata": {},
   "source": [
    "The concept of Object-oriented programming method is to think of the system components as objects. Objects communicate to each other. Objects have their own attributes and behaviors. Objects has definition. The definition defines what attributes this object should contain and what functions the object is able to do. Then we create instances from the definition.\n",
    "\n",
    "Here is an example of defining Car class and extend the `Car` ability with `Motorcycle` and `ElectronicCar`."
   ]
  },
  {
   "cell_type": "code",
   "execution_count": 28,
   "metadata": {},
   "outputs": [],
   "source": [
    "class Car:\n",
    "    '''A basic Car definition.'''\n",
    "    wheels = 4\n",
    "    gas = 100\n",
    "    speed = 0\n",
    "    def __repr__(self):\n",
    "        return '{}: speed:{} gas:{} wheels:{}'.format(type(self).__name__, self.speed, self.gas, self.wheels)\n",
    "    def refill(self):\n",
    "        self.gas = 100\n",
    "    def forward(self):\n",
    "        self.speed += 10\n",
    "        self.gas -= 1\n",
    "    def brake(self):\n",
    "        self.speed -= 10\n",
    "    def stop(self):\n",
    "        self.speed = 0  "
   ]
  },
  {
   "cell_type": "code",
   "execution_count": 29,
   "metadata": {},
   "outputs": [],
   "source": [
    "class Motorcycle(Car):\n",
    "    '''Definition of Motocycle.'''\n",
    "    wheels = 2\n",
    "\n",
    "class ElectronicCar(Car):\n",
    "    '''Electronic car definition'''\n",
    "    gas = 0\n",
    "    battery = 50\n",
    "    def refill(self):\n",
    "        self.battery = 500\n",
    "    def forward(self):\n",
    "        self.speed += 10\n",
    "        self.battery -= 1"
   ]
  },
  {
   "cell_type": "markdown",
   "metadata": {},
   "source": [
    "Using the `Car`, `ElectronicCar` and `Motorcycle`."
   ]
  },
  {
   "cell_type": "code",
   "execution_count": 30,
   "metadata": {},
   "outputs": [
    {
     "name": "stdout",
     "output_type": "stream",
     "text": [
      "carA:  Car: speed:0 gas:100 wheels:4\n",
      "carA:  Car: speed:10 gas:99 wheels:4\n",
      "carB:  ElectronicCar: speed:20 gas:0 wheels:4\n",
      "carC:  Motorcycle: speed:0 gas:100 wheels:2\n",
      "carC:  Motorcycle: speed:0 gas:100 wheels:3\n"
     ]
    }
   ],
   "source": [
    "# use the Car\n",
    "carA = Car()\n",
    "print(\"carA: \", carA)\n",
    "carA.forward()\n",
    "print(\"carA: \", carA)\n",
    "carA.refill()\n",
    "\n",
    "carB = ElectronicCar()\n",
    "carB.forward()\n",
    "carB.forward()\n",
    "print(\"carB: \", carB)\n",
    "carB.refill()\n",
    "\n",
    "carC = Motorcycle()\n",
    "print(\"carC: \", carC)\n",
    "carC.wheels = 3\n",
    "print(\"carC: \", carC)"
   ]
  },
  {
   "cell_type": "markdown",
   "metadata": {},
   "source": [
    "## Date Helper class example"
   ]
  },
  {
   "cell_type": "markdown",
   "metadata": {},
   "source": [
    "Version 1"
   ]
  },
  {
   "cell_type": "code",
   "execution_count": 31,
   "metadata": {},
   "outputs": [],
   "source": [
    "import datetime\n",
    "\n",
    "class DateHelper:\n",
    "    '''Some helper functions to quickly calculate date.'''\n",
    "    def today(self):\n",
    "        '''Return today in YYYY-MM-DD format.'''\n",
    "        date = datetime.date.today()\n",
    "        return date.isoformat()"
   ]
  },
  {
   "cell_type": "markdown",
   "metadata": {},
   "source": [
    "Version 2"
   ]
  },
  {
   "cell_type": "code",
   "execution_count": 32,
   "metadata": {},
   "outputs": [],
   "source": [
    "import datetime\n",
    "\n",
    "class DateHelper:\n",
    "    '''Some helper functions to quickly calculate date.'''\n",
    "\n",
    "    today_date = datetime.date.today()\n",
    "\n",
    "    def today(self):\n",
    "        '''Return today in YYYY-MM-DD format.'''\n",
    "        return self.today_date.isoformat()\n",
    "    def tomorrow(self):\n",
    "        '''Return tomorrow in YYYY-MM-DD format.'''\n",
    "        date = self.today_date + datetime.timedelta(days=1)\n",
    "        return date.isoformat()\n",
    "    def yesterday(self):\n",
    "        '''Return yesterday in YYYY-MM-DD format.'''\n",
    "        date = self.today_date + datetime.timedelta(days=1)\n",
    "        return date.isoformat()"
   ]
  },
  {
   "cell_type": "markdown",
   "metadata": {},
   "source": [
    "Version 3"
   ]
  },
  {
   "cell_type": "code",
   "execution_count": 33,
   "metadata": {},
   "outputs": [],
   "source": [
    "import datetime\n",
    "\n",
    "class DateHelper:\n",
    "    '''Some helper functions to quickly calculate date.'''\n",
    "\n",
    "    today_date = datetime.date.today()\n",
    "\n",
    "    def days_later(self, days):\n",
    "        '''Return days later in YYYY-MM-DD format.'''\n",
    "        date = self.today_date + datetime.timedelta(days=days)\n",
    "        return date.isoformat()\n",
    "    def days_ago(self, days):\n",
    "        '''Return days ago in YYYY-MM-DD format.'''\n",
    "        date = self.today_date - datetime.timedelta(days=days)\n",
    "        return date.isoformat()\n",
    "    def today(self):\n",
    "        '''Return today in YYYY-MM-DD format.'''\n",
    "        return self.today_date.isoformat()        \n",
    "    def tomorrow(self):\n",
    "        '''Return tomorrow in YYYY-MM-DD format.'''\n",
    "        return self.days_later(1)\n",
    "    def yesterday(self):\n",
    "        '''Return yesterday in YYYY-MM-DD format.'''\n",
    "        return self.days_ago(1)"
   ]
  },
  {
   "cell_type": "markdown",
   "metadata": {},
   "source": [
    "### Using the Date Helper"
   ]
  },
  {
   "cell_type": "code",
   "execution_count": 6,
   "metadata": {},
   "outputs": [
    {
     "name": "stdout",
     "output_type": "stream",
     "text": [
      "2020-08-13\n",
      "2020-08-14\n",
      "2021-08-13\n",
      "2020-08-03\n"
     ]
    }
   ],
   "source": [
    "from date_helper_v4 import DateHelper\n",
    "\n",
    "helper = DateHelper()\n",
    "print(helper.today())\n",
    "print(helper.tomorrow())\n",
    "print(helper.days_later(365))\n",
    "print(helper.days_ago(10))"
   ]
  },
  {
   "cell_type": "markdown",
   "metadata": {},
   "source": [
    "## Iteration and Generator\n",
    "\n",
    "We have learned that `range` creates a sequence of numbers."
   ]
  },
  {
   "cell_type": "code",
   "execution_count": null,
   "metadata": {},
   "outputs": [],
   "source": [
    "for item in range(10):\n",
    "    print(item)"
   ]
  },
  {
   "cell_type": "markdown",
   "metadata": {},
   "source": [
    "range is actually an iterator:"
   ]
  },
  {
   "cell_type": "code",
   "execution_count": null,
   "metadata": {},
   "outputs": [],
   "source": [
    "iterator = iter(range(3))\n",
    "print(next(iterator))\n",
    "print(next(iterator))\n",
    "print(next(iterator))\n",
    "# print(next(iterator)) # Raise StopIteration Error "
   ]
  },
  {
   "cell_type": "markdown",
   "metadata": {},
   "source": [
    "## Repeater"
   ]
  },
  {
   "cell_type": "markdown",
   "metadata": {},
   "source": [
    "Here is an example of defining our own iterator class."
   ]
  },
  {
   "cell_type": "code",
   "execution_count": null,
   "metadata": {},
   "outputs": [],
   "source": [
    "class Repeater:\n",
    "    def __init__(self, value):\n",
    "        self.value = value\n",
    "    def __iter__(self):\n",
    "        return self\n",
    "    def __next__(self):\n",
    "        return self.value\n"
   ]
  },
  {
   "cell_type": "markdown",
   "metadata": {},
   "source": [
    "Please uncomment the following line to run it. Beware that the following code never ends. You have to manually interrupt it."
   ]
  },
  {
   "cell_type": "code",
   "execution_count": null,
   "metadata": {},
   "outputs": [],
   "source": [
    "#for item in Repeater('Keep saying Hello'):\n",
    "#    print(item)"
   ]
  },
  {
   "cell_type": "markdown",
   "metadata": {},
   "source": [
    "## Repeater with max_repeat boundary"
   ]
  },
  {
   "cell_type": "markdown",
   "metadata": {},
   "source": [
    "We improve the above example by setting a repeat limit. When the limit reaches, the `Repeater` raises the `StopIteration` event. For-loop syntax will then know when to end the loop."
   ]
  },
  {
   "cell_type": "code",
   "execution_count": null,
   "metadata": {},
   "outputs": [],
   "source": [
    "class Repeater:\n",
    "    def __init__(self, value, max_repeat=1):\n",
    "        self.value = value\n",
    "        self.count = 0\n",
    "        self.max_repeat = max_repeat\n",
    "    def __iter__(self):\n",
    "        return self\n",
    "    def __next__(self):\n",
    "        if self.count >= self.max_repeat:\n",
    "            raise StopIteration\n",
    "        self.count += 1\n",
    "        return self.value\n",
    "      \n",
    "# Using it\n",
    "for item in Repeater('Keep saying Hello',10):\n",
    "    print(item)"
   ]
  },
  {
   "cell_type": "markdown",
   "metadata": {},
   "source": [
    "## Generators"
   ]
  },
  {
   "cell_type": "markdown",
   "metadata": {},
   "source": [
    "Another way to create iteration is to use `yield`. This is also known as _Generator_."
   ]
  },
  {
   "cell_type": "code",
   "execution_count": null,
   "metadata": {},
   "outputs": [],
   "source": [
    "def repeat_twice(value):\n",
    "    yield value\n",
    "    yield value"
   ]
  },
  {
   "cell_type": "code",
   "execution_count": null,
   "metadata": {},
   "outputs": [],
   "source": [
    "for item in repeat_twice('I say only once, do I?'):\n",
    "    print(item)"
   ]
  },
  {
   "cell_type": "markdown",
   "metadata": {},
   "source": [
    "Repeater by using `yield`:"
   ]
  },
  {
   "cell_type": "code",
   "execution_count": null,
   "metadata": {},
   "outputs": [],
   "source": [
    "def repeater(value, max_repeat=1):\n",
    "    count = 0\n",
    "    while count < max_repeat:\n",
    "        count += 1\n",
    "        yield value\n",
    "\n",
    "for item in repeater('Hey Yield', 3):\n",
    "    print(item)\n",
    "\n",
    "print(list(repeater('Hey Yield', 3)))\n"
   ]
  },
  {
   "cell_type": "markdown",
   "metadata": {},
   "source": [
    "## Example: Dice Randomizer"
   ]
  },
  {
   "cell_type": "code",
   "execution_count": null,
   "metadata": {},
   "outputs": [],
   "source": [
    "import random\n",
    "\n",
    "def dice_randomizer(max_repeat=1):\n",
    "    count = 0\n",
    "    while count < max_repeat:\n",
    "        count += 1\n",
    "        yield random.randint(1,6)"
   ]
  },
  {
   "cell_type": "code",
   "execution_count": null,
   "metadata": {},
   "outputs": [],
   "source": [
    "list(dice_randomizer(10))"
   ]
  },
  {
   "cell_type": "markdown",
   "metadata": {},
   "source": [
    "## Example: Using yield to convert value of a given list"
   ]
  },
  {
   "cell_type": "code",
   "execution_count": null,
   "metadata": {},
   "outputs": [],
   "source": [
    "import math\n",
    "\n",
    "def convert_by_formula(sequence):\n",
    "    for x in sequence:\n",
    "        yield math.sqrt(x[0]**2 + x[1]**2)"
   ]
  },
  {
   "cell_type": "code",
   "execution_count": null,
   "metadata": {},
   "outputs": [],
   "source": [
    "source = [(1,2),(2,2),(3,3),(5,6),(8,9)]\n",
    "print( list( convert_by_formula(source) ))"
   ]
  },
  {
   "cell_type": "markdown",
   "metadata": {},
   "source": [
    "Note that we can use Pandas to improve the performance of the above calculation."
   ]
  },
  {
   "cell_type": "markdown",
   "metadata": {},
   "source": [
    "## Summary\n",
    "\n",
    "We learned the behind-the-scene of the Python programming language."
   ]
  },
  {
   "cell_type": "markdown",
   "metadata": {},
   "source": [
    "- Defining functions\n",
    "- Comment and DocString\n",
    "- Lambda function\n",
    "- List comprehension\n",
    "- Dunder methods\n",
    "- Object-Oriented Programming\n",
    "- Date Helper Example\n",
    "- Iteration and Generator\n",
    "- Repeater\n",
    "- Generators"
   ]
  }
 ],
 "metadata": {
  "kernelspec": {
   "display_name": "Python 3",
   "language": "python",
   "name": "python3"
  },
  "language_info": {
   "codemirror_mode": {
    "name": "ipython",
    "version": 3
   },
   "file_extension": ".py",
   "mimetype": "text/x-python",
   "name": "python",
   "nbconvert_exporter": "python",
   "pygments_lexer": "ipython3",
   "version": "3.8.5"
  }
 },
 "nbformat": 4,
 "nbformat_minor": 4
}
