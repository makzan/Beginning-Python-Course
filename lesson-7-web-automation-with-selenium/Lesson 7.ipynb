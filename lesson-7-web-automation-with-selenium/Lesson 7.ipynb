{
 "cells": [
  {
   "cell_type": "markdown",
   "metadata": {},
   "source": [
    "# Lesson 7—Web Automation with Selenium\n",
    "\n",
    "\n",
    "\n"
   ]
  },
  {
   "cell_type": "markdown",
   "metadata": {},
   "source": [
    "In this series, we will use 3 lectures to learn fetching data online. This includes:\n",
    "\n",
    "- Finding patterns in URL\n",
    "- Open web URL\n",
    "- Downloading files in Python\n",
    "- Fetch data with API\n",
    "- Web scraping with Requests and BeautifulSoup\n",
    "- **Web automation with Selenium**\n",
    "- **Converting Wikipedia tabular data into CSV**"
   ]
  },
  {
   "cell_type": "markdown",
   "metadata": {},
   "source": [
    "We use Selenium when:\n",
    "- When Requests and BeautifulSoup does not work.\n",
    "- When page requires JavaScript to render the data.\n",
    "\n",
    "Pros:\n",
    "- It launches real browser and automate browser.\n",
    "- Better compatibility .\n",
    "\n",
    "Cons:\n",
    "- Slow because it launches real browser.\n"
   ]
  },
  {
   "cell_type": "markdown",
   "metadata": {},
   "source": [
    "## Downloading browser driver\n",
    "\n",
    "We need web browser driver to use Selenium. \n",
    "\n",
    "- [Gecko Driver for Firefox](https://github.com/mozilla/geckodriver/releases)\n",
    "- [Chrome Driver](https://chromedriver.chromium.org/)"
   ]
  },
  {
   "cell_type": "code",
   "execution_count": 3,
   "metadata": {},
   "outputs": [
    {
     "name": "stdout",
     "output_type": "stream",
     "text": [
      "Collecting selenium\n",
      "  Downloading https://files.pythonhosted.org/packages/80/d6/4294f0b4bce4de0abf13e17190289f9d0613b0a44e5dd6a7f5ca98459853/selenium-3.141.0-py2.py3-none-any.whl (904kB)\n",
      "Requirement already satisfied: urllib3 in c:\\users\\thomas\\appdata\\local\\continuum\\anaconda3\\lib\\site-packages (from selenium) (1.24.1)\n",
      "Installing collected packages: selenium\n",
      "Successfully installed selenium-3.141.0\n",
      "Note: you may need to restart the kernel to use updated packages.\n"
     ]
    }
   ],
   "source": [
    "pip install selenium"
   ]
  },
  {
   "cell_type": "code",
   "execution_count": 4,
   "metadata": {},
   "outputs": [],
   "source": [
    "from selenium import webdriver\n",
    "from selenium.webdriver.chrome.options import Options"
   ]
  },
  {
   "cell_type": "code",
   "execution_count": 6,
   "metadata": {},
   "outputs": [],
   "source": [
    "options = Options()\n",
    "# options.add_argument('-headless')\n",
    "\n",
    "browser = webdriver.Chrome(options=options)\n",
    "browser.quit()"
   ]
  },
  {
   "cell_type": "markdown",
   "metadata": {},
   "source": [
    "If Selenium raises an error about missing PATH for chrome driver, we may need to specific the PATH when creating the browser instance:"
   ]
  },
  {
   "cell_type": "code",
   "execution_count": null,
   "metadata": {},
   "outputs": [],
   "source": [
    "browser = webdriver.Chrome('./chromedriver', options=options)\n",
    "browser.quit()"
   ]
  },
  {
   "cell_type": "markdown",
   "metadata": {},
   "source": [
    "## Selenium Cheat Sheet"
   ]
  },
  {
   "cell_type": "markdown",
   "metadata": {},
   "source": [
    "https://codoid.com/selenium-webdriver-python-cheat-sheet/"
   ]
  },
  {
   "cell_type": "markdown",
   "metadata": {},
   "source": [
    "Here are some essential commands to control web browser through Selenium:"
   ]
  },
  {
   "cell_type": "code",
   "execution_count": 31,
   "metadata": {},
   "outputs": [],
   "source": [
    "browser = webdriver.Chrome()\n",
    "browser.maximize_window()\n",
    "browser.get('https://example.com')\n",
    "browser.find_element_by_css_selector('a')\n",
    "browser.find_elements_by_css_selector('a')\n",
    "browser.quit()"
   ]
  },
  {
   "cell_type": "markdown",
   "metadata": {},
   "source": [
    "## Taking screenshot"
   ]
  },
  {
   "cell_type": "code",
   "execution_count": 7,
   "metadata": {},
   "outputs": [],
   "source": [
    "'''Capture the screenshot of a website via Headless Browser.'''\n",
    "\n",
    "from selenium import webdriver\n",
    "from selenium.webdriver.chrome.options import Options\n",
    "\n",
    "options = Options()\n",
    "options.add_argument('-headless')\n",
    "\n",
    "browser = webdriver.Chrome(options=options)\n",
    "browser.maximize_window()\n",
    "browser.get('http://macaodaily.com')\n",
    "browser.save_screenshot('MacaoDaily.png')\n",
    "browser.quit()"
   ]
  },
  {
   "cell_type": "markdown",
   "metadata": {},
   "source": [
    "## Example: Fetching stock data from aastock"
   ]
  },
  {
   "cell_type": "markdown",
   "metadata": {},
   "source": [
    "Let's try to fetch stock quote from aastock.com. If we try to directly access the stock page, the data may not load. We can load any one page from aastock and then simulate inputting the stock number and press enter. By using this automation, we can simulate a normal web browser browsing behavior."
   ]
  },
  {
   "cell_type": "code",
   "execution_count": 26,
   "metadata": {},
   "outputs": [
    {
     "name": "stdout",
     "output_type": "stream",
     "text": [
      "收市價(港元)\n",
      "(指數|行業)\n",
      "波幅\n",
      "48.800 - 50.000\n",
      "▼\n",
      "49.250\n"
     ]
    }
   ],
   "source": [
    "'''Fetch current stock from aastock.'''\n",
    "\n",
    "from selenium import webdriver\n",
    "from selenium.webdriver.chrome.options import Options\n",
    "from selenium.webdriver.common.keys import Keys\n",
    "import time\n",
    "\n",
    "stock_number = '0001'\n",
    "\n",
    "options = Options()\n",
    "options.add_argument('-headless')\n",
    "\n",
    "browser = webdriver.Chrome(options=options)\n",
    "browser.maximize_window()\n",
    "\n",
    "browser.get('http://www.aastocks.com/tc/stocks/aboutus/companyinfo.aspx')\n",
    "element = browser.find_element_by_css_selector('#txtHKQuote')\n",
    "element.send_keys(stock_number)\n",
    "element.send_keys(Keys.RETURN)\n",
    "\n",
    "time.sleep(3)\n",
    "\n",
    "element = browser.find_element_by_css_selector('.lastBox')\n",
    "print(element.text)\n",
    "\n",
    "\n",
    "browser.quit()"
   ]
  },
  {
   "cell_type": "markdown",
   "metadata": {},
   "source": [
    "## Example: Fetch dicj data with Selenium"
   ]
  },
  {
   "cell_type": "markdown",
   "metadata": {},
   "source": [
    "We had used API to fetch DICJ data. This example shows an alternative to fetch the same data by using Selenium."
   ]
  },
  {
   "cell_type": "code",
   "execution_count": 12,
   "metadata": {},
   "outputs": [
    {
     "name": "stdout",
     "output_type": "stream",
     "text": [
      "2020年及2019年每月幸運博彩毛收入\n",
      "一月份 22,126 24,942 -11.3% 22,126 24,942 -11.3%\n",
      "二月份 3,104 25,370 -87.8% 25,229 50,312 -49.9%\n",
      "三月份 5,257 25,840 -79.7% 30,486 76,152 -60.0%\n",
      "四月份 754 23,588 -96.8% 31,240 99,739 -68.7%\n",
      "五月份 1,764 25,952 -93.2% 33,004 125,691 -73.7%\n",
      "六月份 - - - - - -\n",
      "七月份 - - - - - -\n",
      "八月份 - - - - - -\n",
      "九月份 - - - - - -\n",
      "十月份 - - - - - -\n",
      "十一月份 - - - - - -\n",
      "十二月份 - - - - - -\n"
     ]
    }
   ],
   "source": [
    "from selenium import webdriver\n",
    "from selenium.webdriver.chrome.options import Options\n",
    "import time\n",
    "\n",
    "options = Options()\n",
    "options.add_argument('-headless')\n",
    "\n",
    "browser = webdriver.Chrome(options=options)\n",
    "\n",
    "browser.get('http://www.dicj.gov.mo/web/cn/information/DadosEstat_mensal/2020/index.html')\n",
    "\n",
    "time.sleep(5)\n",
    "\n",
    "element = browser.find_element_by_css_selector(\"#report #table1\")\n",
    "\n",
    "rows = element.find_elements_by_css_selector(\"tr\")\n",
    "print(rows[0].text)\n",
    "for row in rows[3:]:\n",
    "    print(row.text)\n"
   ]
  },
  {
   "cell_type": "markdown",
   "metadata": {},
   "source": [
    "## Example: Fetch flight price from ctrip"
   ]
  },
  {
   "cell_type": "markdown",
   "metadata": {},
   "source": [
    "In this example, we will fetch airline query by querying flights.ctrip.com with 4 parameters: departure date, arrival date, departure airport, arrival airport."
   ]
  },
  {
   "cell_type": "code",
   "execution_count": 13,
   "metadata": {},
   "outputs": [],
   "source": [
    "from selenium import webdriver\n",
    "from selenium.webdriver.chrome.options import Options\n",
    "import time\n",
    "import datetime"
   ]
  },
  {
   "cell_type": "code",
   "execution_count": 16,
   "metadata": {
    "scrolled": true
   },
   "outputs": [
    {
     "name": "stdout",
     "output_type": "stream",
     "text": [
      "2020-06-29\n",
      "2020-07-04\n"
     ]
    }
   ],
   "source": [
    "today = datetime.date.today()\n",
    "five_days_later = today + datetime.timedelta(days=5)\n",
    "\n",
    "print(today.isoformat())\n",
    "print(five_days_later.isoformat())\n"
   ]
  },
  {
   "cell_type": "code",
   "execution_count": 23,
   "metadata": {},
   "outputs": [
    {
     "name": "stdout",
     "output_type": "stream",
     "text": [
      "https://flights.ctrip.com/international/search/round-hkg-hel?depdate=2020-06-29_2020-07-04&cabin=y_s&adult=1&child=0&infant=0\n",
      "Found 3 results.\n",
      "HKG\n",
      "HEL\n",
      "英国航空\n",
      "¥10072起\n",
      "英国航空\n",
      "¥22167起\n",
      "法国航空\n",
      "¥24908起\n"
     ]
    }
   ],
   "source": [
    "options = Options()\n",
    "#options.add_argument('-headless')\n",
    "\n",
    "from_city = \"hkg\"\n",
    "to_city = \"hel\"\n",
    "\n",
    "url = f\"https://flights.ctrip.com/international/search/round-{from_city}-{to_city}?depdate={today}_{five_days_later}&cabin=y_s&adult=1&child=0&infant=0\"\n",
    "\n",
    "print(url)\n",
    "\n",
    "browser = webdriver.Chrome(options=options)\n",
    "browser.maximize_window()\n",
    "browser.get(url)\n",
    "\n",
    "time.sleep(3)\n",
    "\n",
    "elements = browser.find_elements_by_css_selector(\".flight-item\")\n",
    "\n",
    "print(f\"Found {len(elements)} results.\")\n",
    "\n",
    "print(from_city.upper())\n",
    "print(to_city.upper())\n",
    "for row in elements:\n",
    "    airline = row.find_element_by_css_selector(\".airline-name\")\n",
    "    print(airline.text)\n",
    "    price = row.find_element_by_css_selector(\".price\")\n",
    "    print(price.text)\n",
    "    \n",
    "    \n",
    "browser.quit()"
   ]
  },
  {
   "cell_type": "markdown",
   "metadata": {},
   "source": [
    "## Example: Use MailGun to send result to yourself"
   ]
  },
  {
   "cell_type": "code",
   "execution_count": 2,
   "metadata": {},
   "outputs": [],
   "source": [
    "DOMAIN = None\n",
    "API_KEY= None\n",
    "FROM = \"mak@makzan.net\"\n",
    "TO = [\"mak@makzan.net\"]"
   ]
  },
  {
   "cell_type": "code",
   "execution_count": 27,
   "metadata": {},
   "outputs": [
    {
     "name": "stdout",
     "output_type": "stream",
     "text": [
      "今日有1篇新聞您可能感興趣\n",
      "2020-06-29: 粵打造婦女助農創業就業基地\n"
     ]
    }
   ],
   "source": [
    "from bs4 import BeautifulSoup\n",
    "import requests\n",
    "import datetime\n",
    "\n",
    "def send_simple_message(content, subject=\"Yeah\"):\n",
    "    return requests.post(\n",
    "        f\"https://api.mailgun.net/v3/{DOMAIN}/messages\",\n",
    "        auth=(\"api\", API_KEY),\n",
    "        data={\"from\": FROM,\n",
    "        \"to\": TO,\n",
    "        \"subject\": subject,\n",
    "        \"text\": content})\n",
    "\n",
    "# keywords\n",
    "keywords = [\"創業\", \"科技\"]\n",
    "\n",
    "# today\n",
    "today = datetime.datetime.today()\n",
    "year = str(today.year).zfill(2)\n",
    "month = str(today.month).zfill(2)\n",
    "day = str(today.day).zfill(2)\n",
    "\n",
    "res = requests.get(f\"http://www.macaodaily.com/html/{year}-{month}/{day}/node_1.htm\")\n",
    "\n",
    "res.encoding = \"utf-8\"\n",
    "\n",
    "soup = BeautifulSoup(res.text, \"html5lib\")\n",
    "\n",
    "results = []\n",
    "\n",
    "links = soup.select(\"#all_article_list a\")\n",
    "for link in links:\n",
    "    news_title = link.getText()\n",
    "\n",
    "    for keyword in keywords:\n",
    "        if keyword in news_title:\n",
    "            results.append(f\"{year}-{month}-{day}: {news_title}\")\n",
    "\n",
    "content = \"\\n\".join(results)\n",
    "subject = f\"今日有{len(results)}篇新聞您可能感興趣\"\n",
    "# send_simple_message(content, subject=subject)\n",
    "print(subject)\n",
    "print(content)"
   ]
  }
 ],
 "metadata": {
  "kernelspec": {
   "display_name": "Python 3",
   "language": "python",
   "name": "python3"
  },
  "language_info": {
   "codemirror_mode": {
    "name": "ipython",
    "version": 3
   },
   "file_extension": ".py",
   "mimetype": "text/x-python",
   "name": "python",
   "nbconvert_exporter": "python",
   "pygments_lexer": "ipython3",
   "version": "3.7.3"
  }
 },
 "nbformat": 4,
 "nbformat_minor": 4
}
