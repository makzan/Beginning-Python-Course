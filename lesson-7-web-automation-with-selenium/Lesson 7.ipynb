{
 "cells": [
  {
   "cell_type": "markdown",
   "metadata": {},
   "source": [
    "# Lesson 7—Web Automation with Selenium\n",
    "\n",
    "\n",
    "\n"
   ]
  },
  {
   "cell_type": "markdown",
   "metadata": {},
   "source": [
    "In this series, we will use 3 lectures to learn fetching data online. This includes:\n",
    "\n",
    "- Finding patterns in URL\n",
    "- Open web URL\n",
    "- Downloading files in Python\n",
    "- Fetch data with API\n",
    "- Web scraping with Requests and BeautifulSoup\n",
    "- **Web automation with Selenium**\n",
    "- **Converting Wikipedia tabular data into CSV**"
   ]
  },
  {
   "cell_type": "markdown",
   "metadata": {},
   "source": [
    "We use Selenium when:\n",
    "- When Requests and BeautifulSoup does not work.\n",
    "- When page requires JavaScript to render the data.\n",
    "\n",
    "Pros:\n",
    "- It launches real browser and automate browser.\n",
    "- Better compatibility .\n",
    "\n",
    "Cons:\n",
    "- Slow because it launches real browser.\n"
   ]
  },
  {
   "cell_type": "markdown",
   "metadata": {},
   "source": [
    "## Downloading browser driver\n",
    "\n",
    "We need web browser driver to use Selenium. \n",
    "\n",
    "- [Gecko Driver for Firefox](https://github.com/mozilla/geckodriver/releases)\n",
    "- [Chrome Driver](https://chromedriver.chromium.org/)"
   ]
  },
  {
   "cell_type": "code",
   "execution_count": null,
   "metadata": {},
   "outputs": [],
   "source": [
    "browser = webdriver.Chrome(options=options)\n",
    "browser.quit()"
   ]
  },
  {
   "cell_type": "markdown",
   "metadata": {},
   "source": [
    "If Selenium raises an error about missing PATH for chrome driver, we may need to specific the PATH when creating the browser instance:"
   ]
  },
  {
   "cell_type": "code",
   "execution_count": null,
   "metadata": {},
   "outputs": [],
   "source": [
    "browser = webdriver.Chrome('./chromedriver', options=options)\n",
    "browser.quit()"
   ]
  },
  {
   "cell_type": "markdown",
   "metadata": {},
   "source": [
    "## Selenium Cheat Sheet"
   ]
  },
  {
   "cell_type": "markdown",
   "metadata": {},
   "source": [
    "https://codoid.com/selenium-webdriver-python-cheat-sheet/"
   ]
  },
  {
   "cell_type": "markdown",
   "metadata": {},
   "source": [
    "## Taking screenshot"
   ]
  },
  {
   "cell_type": "code",
   "execution_count": 3,
   "metadata": {},
   "outputs": [],
   "source": [
    "'''Capture the screenshot of a website via Headless Firefox.'''\n",
    "\n",
    "from selenium import webdriver\n",
    "from selenium.webdriver.chrome.options import Options\n",
    "\n",
    "options = Options()\n",
    "options.add_argument('-headless')\n",
    "\n",
    "browser = webdriver.Chrome(options=options)\n",
    "browser.maximize_window()\n",
    "browser.get('https://makclass.com/')\n",
    "browser.save_screenshot('makclass.png')\n",
    "browser.quit()"
   ]
  },
  {
   "cell_type": "markdown",
   "metadata": {},
   "source": [
    "## Example: Fetching stock data from aastock"
   ]
  },
  {
   "cell_type": "code",
   "execution_count": null,
   "metadata": {},
   "outputs": [],
   "source": [
    "'''Fetch current stock from aastock.'''\n",
    "\n",
    "from selenium import webdriver\n",
    "from selenium.webdriver.chrome.options import Options\n",
    "import time\n",
    "\n",
    "stock_number = '0001'\n",
    "\n",
    "options = Options()\n",
    "options.add_argument('-headless')\n",
    "\n",
    "browser = webdriver.Firefox(options=options)\n",
    "browser.maximize_window()\n",
    "\n",
    "browser.get('http://www.aastocks.com/tc/stocks/aboutus/companyinfo.aspx')\n",
    "element = browser.find_element_by_css_selector('#txtHKQuote')\n",
    "element.send_keys(stock_number)\n",
    "browser.execute_script(\"shhkquote($('#txtHKQuote').val(), 'quote', mainPageMarket)\")\n",
    "\n",
    "time.sleep(3)\n",
    "\n",
    "element = browser.find_element_by_css_selector('.font28')\n",
    "print(element.text)\n",
    "\n",
    "\n",
    "browser.quit()"
   ]
  },
  {
   "cell_type": "code",
   "execution_count": null,
   "metadata": {},
   "outputs": [],
   "source": []
  },
  {
   "cell_type": "markdown",
   "metadata": {},
   "source": [
    "## Example: Fetch dicj data with Selenium"
   ]
  },
  {
   "cell_type": "code",
   "execution_count": null,
   "metadata": {},
   "outputs": [],
   "source": [
    "from selenium import webdriver\n",
    "from selenium.webdriver.firefox.options import Options\n",
    "import time\n",
    "\n",
    "options = Options()\n",
    "options.add_argument('-headless')\n",
    "\n",
    "browser = webdriver.Firefox(options=options)\n",
    "\n",
    "browser.get('http://www.dicj.gov.mo/web/cn/information/DadosEstat_mensal/2019/index.html')\n",
    "\n",
    "time.sleep(5)\n",
    "\n",
    "element = browser.find_element_by_css_selector(\"#report #table1\")\n",
    "\n",
    "rows = element.find_elements_by_css_selector(\"tr\")\n",
    "print(rows[0].text)\n",
    "for row in rows[3:]:\n",
    "    print(row.text)\n",
    "\n",
    "input(\"Press enter to dismiss.\")"
   ]
  },
  {
   "cell_type": "markdown",
   "metadata": {},
   "source": [
    "## Example: Fetch flight price from ctrip"
   ]
  },
  {
   "cell_type": "code",
   "execution_count": null,
   "metadata": {},
   "outputs": [],
   "source": [
    "from selenium import webdriver\n",
    "from selenium.webdriver.firefox.options import Options\n",
    "import time\n",
    "\n",
    "options = Options()\n",
    "#options.add_argument('-headless')\n",
    "\n",
    "from_city = \"hkg\"\n",
    "to_city = \"hel\"\n",
    "\n",
    "url = f\"https://flights.ctrip.com/international/search/round-{from_city}-{to_city}?depdate=2019-10-01_2019-10-05&cabin=y_s&adult=1&child=0&infant=0\"\n",
    "\n",
    "browser = webdriver.Firefox(options=options)\n",
    "browser.maximize_window()\n",
    "browser.get(url)\n",
    "\n",
    "time.sleep(3)\n",
    "\n",
    "elements = browser.find_elements_by_css_selector(\".flight-operate\")\n",
    "\n",
    "print(from_city.upper())\n",
    "print(to_city.upper())\n",
    "for row in elements:\n",
    "    price = row.find_element_by_css_selector(\".price\")\n",
    "    print(price.text)"
   ]
  },
  {
   "cell_type": "markdown",
   "metadata": {},
   "source": [
    "## Example: Use MailGun to send result to yourself"
   ]
  },
  {
   "cell_type": "code",
   "execution_count": 2,
   "metadata": {},
   "outputs": [],
   "source": [
    "DOMAIN = None\n",
    "API_KEY= None\n",
    "FROM = \"mak@makzan.net\"\n",
    "TO = [\"mak@makzan.net\"]"
   ]
  },
  {
   "cell_type": "code",
   "execution_count": 1,
   "metadata": {},
   "outputs": [
    {
     "ename": "ModuleNotFoundError",
     "evalue": "No module named 'bs4'",
     "output_type": "error",
     "traceback": [
      "\u001b[0;31m---------------------------------------------------------------------------\u001b[0m",
      "\u001b[0;31mModuleNotFoundError\u001b[0m                       Traceback (most recent call last)",
      "\u001b[0;32m<ipython-input-1-235363e00b2b>\u001b[0m in \u001b[0;36m<module>\u001b[0;34m\u001b[0m\n\u001b[0;32m----> 1\u001b[0;31m \u001b[0;32mfrom\u001b[0m \u001b[0mbs4\u001b[0m \u001b[0;32mimport\u001b[0m \u001b[0mBeautifulSoup\u001b[0m\u001b[0;34m\u001b[0m\u001b[0;34m\u001b[0m\u001b[0m\n\u001b[0m\u001b[1;32m      2\u001b[0m \u001b[0;32mimport\u001b[0m \u001b[0mrequests\u001b[0m\u001b[0;34m\u001b[0m\u001b[0;34m\u001b[0m\u001b[0m\n\u001b[1;32m      3\u001b[0m \u001b[0;32mimport\u001b[0m \u001b[0mdatetime\u001b[0m\u001b[0;34m\u001b[0m\u001b[0;34m\u001b[0m\u001b[0m\n\u001b[1;32m      4\u001b[0m \u001b[0;34m\u001b[0m\u001b[0m\n\u001b[1;32m      5\u001b[0m \u001b[0;32mdef\u001b[0m \u001b[0msend_simple_message\u001b[0m\u001b[0;34m(\u001b[0m\u001b[0mcontent\u001b[0m\u001b[0;34m,\u001b[0m \u001b[0msubject\u001b[0m\u001b[0;34m=\u001b[0m\u001b[0;34m\"Yeah\"\u001b[0m\u001b[0;34m)\u001b[0m\u001b[0;34m:\u001b[0m\u001b[0;34m\u001b[0m\u001b[0;34m\u001b[0m\u001b[0m\n",
      "\u001b[0;31mModuleNotFoundError\u001b[0m: No module named 'bs4'"
     ]
    }
   ],
   "source": [
    "from bs4 import BeautifulSoup\n",
    "import requests\n",
    "import datetime\n",
    "\n",
    "def send_simple_message(content, subject=\"Yeah\"):\n",
    "    return requests.post(\n",
    "        f\"https://api.mailgun.net/v3/{DOMAIN}/messages\",\n",
    "        auth=(\"api\", API_KEY),\n",
    "        data={\"from\": FROM,\n",
    "        \"to\": TO,\n",
    "        \"subject\": subject,\n",
    "        \"text\": content})\n",
    "\n",
    "# keywords\n",
    "keywords = [\"脫歐\", \"賀一誠\", \"創業\", \"科技\"]\n",
    "\n",
    "# today\n",
    "today = datetime.datetime.today()\n",
    "year = str(today.year).zfill(2)\n",
    "month = str(today.month).zfill(2)\n",
    "day = str(today.day).zfill(2)\n",
    "\n",
    "res = requests.get(f\"http://www.macaodaily.com/html/{year}-{month}/{day}/node_1.htm\")\n",
    "\n",
    "res.encoding = \"utf-8\"\n",
    "\n",
    "soup = BeautifulSoup(res.text, \"html5lib\")\n",
    "\n",
    "results = []\n",
    "\n",
    "links = soup.select(\"#all_article_list a\")\n",
    "for link in links:\n",
    "    news_title = link.getText()\n",
    "\n",
    "    # Task 2: Change keyword into input\n",
    "    for keyword in keywords:\n",
    "        if keyword in news_title:\n",
    "            # Task 3: Save the result in TXT intead of printing out.\n",
    "            results.append(f\"{year}-{month}-{day}: {news_title}\")\n",
    "\n",
    "content = \"\\n\".join(results)\n",
    "subject = f\"今日有{len(results)}篇新聞您可能感興趣\"\n",
    "# send_simple_message(content, subject=subject)\n",
    "print(content)"
   ]
  }
 ],
 "metadata": {
  "kernelspec": {
   "display_name": "Python 3",
   "language": "python",
   "name": "python3"
  },
  "language_info": {
   "codemirror_mode": {
    "name": "ipython",
    "version": 3
   },
   "file_extension": ".py",
   "mimetype": "text/x-python",
   "name": "python",
   "nbconvert_exporter": "python",
   "pygments_lexer": "ipython3",
   "version": "3.7.1"
  }
 },
 "nbformat": 4,
 "nbformat_minor": 4
}
