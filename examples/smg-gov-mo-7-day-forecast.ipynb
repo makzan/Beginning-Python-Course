{
 "cells": [
  {
   "cell_type": "markdown",
   "metadata": {},
   "source": [
    "# 澳門天文台七日天氣預報\n",
    "\n",
    "https://xml.smg.gov.mo"
   ]
  },
  {
   "cell_type": "code",
   "execution_count": 24,
   "metadata": {},
   "outputs": [
    {
     "name": "stdout",
     "output_type": "stream",
     "text": [
      "2022-03-14: 20 至 26 度，多雲，部份時間有陽光。早晚有薄霧或霧。吹微風。\n",
      "2022-03-15: 20 至 26 度，多雲，部份時間有陽光。早晚有霧。吹微風。\n",
      "2022-03-16: 20 至 25 度，大致多雲。早晚有薄霧或霧。吹2至4級東至東南風。\n",
      "2022-03-17: 21 至 26 度，大致多雲。有幾陣雨。有薄霧或霧。吹2至3級南至東南風。\n",
      "2022-03-18: 20 至 25 度，天氣潮濕。多雲。有幾陣雨。有霧。吹微風。\n",
      "2022-03-19: 20 至 25 度，大致多雲。初時有薄霧或霧。有幾陣微雨。吹2至3級南至東南風。\n",
      "2022-03-20: 21 至 26 度，大致多雲。有幾陣微雨。吹3至4級東南風。\n"
     ]
    }
   ],
   "source": [
    "import untangle\n",
    "\n",
    "url = \"https://xml.smg.gov.mo/c_7daysforecast.xml\"\n",
    "\n",
    "data = untangle.parse(url)\n",
    "\n",
    "for forecast in data.SevenDaysForecast.Custom.WeatherForecast:\n",
    "    date = forecast.ValidFor.cdata\n",
    "    high = forecast.Temperature[0].Value.cdata\n",
    "    low = forecast.Temperature[1].Value.cdata  \n",
    "    description = forecast.WeatherDescription.cdata\n",
    "    print(f\"{date}: {low} 至 {high} 度，{description}\")"
   ]
  },
  {
   "cell_type": "markdown",
   "metadata": {},
   "source": [
    "---\n",
    "## Breakdown the steps"
   ]
  },
  {
   "cell_type": "code",
   "execution_count": 2,
   "metadata": {},
   "outputs": [
    {
     "data": {
      "text/plain": [
       "['SevenDaysForecast']"
      ]
     },
     "execution_count": 2,
     "metadata": {},
     "output_type": "execute_result"
    }
   ],
   "source": [
    "import untangle\n",
    "\n",
    "url = \"https://xml.smg.gov.mo/c_7daysforecast.xml\"\n",
    "\n",
    "data = untangle.parse(url)\n",
    "dir(data)"
   ]
  },
  {
   "cell_type": "markdown",
   "metadata": {},
   "source": []
  },
  {
   "cell_type": "code",
   "execution_count": 3,
   "metadata": {},
   "outputs": [
    {
     "data": {
      "text/plain": [
       "['Custom', 'System']"
      ]
     },
     "execution_count": 3,
     "metadata": {},
     "output_type": "execute_result"
    }
   ],
   "source": [
    "dir(data.SevenDaysForecast)"
   ]
  },
  {
   "cell_type": "code",
   "execution_count": 4,
   "metadata": {},
   "outputs": [
    {
     "data": {
      "text/plain": [
       "['IssuedTime',\n",
       " 'WeatherForecast',\n",
       " 'WeatherForecast',\n",
       " 'WeatherForecast',\n",
       " 'WeatherForecast',\n",
       " 'WeatherForecast',\n",
       " 'WeatherForecast',\n",
       " 'WeatherForecast']"
      ]
     },
     "execution_count": 4,
     "metadata": {},
     "output_type": "execute_result"
    }
   ],
   "source": [
    "dir(data.SevenDaysForecast.Custom)"
   ]
  },
  {
   "cell_type": "code",
   "execution_count": 5,
   "metadata": {},
   "outputs": [
    {
     "data": {
      "text/plain": [
       "['AstronomicalTide',\n",
       " 'Humidity',\n",
       " 'Humidity',\n",
       " 'Icon',\n",
       " 'Temperature',\n",
       " 'Temperature',\n",
       " 'ValidFor',\n",
       " 'WeatherDescription',\n",
       " 'WeatherStatus',\n",
       " 'c_DayOfWeek']"
      ]
     },
     "execution_count": 5,
     "metadata": {},
     "output_type": "execute_result"
    }
   ],
   "source": [
    "dir(data.SevenDaysForecast.Custom.WeatherForecast[0])"
   ]
  },
  {
   "cell_type": "code",
   "execution_count": 9,
   "metadata": {},
   "outputs": [
    {
     "name": "stdout",
     "output_type": "stream",
     "text": [
      "2022-02-04 最低溫 8\n",
      "2022-02-05 最低溫 9\n",
      "2022-02-06 最低溫 12\n",
      "2022-02-07 最低溫 13\n",
      "2022-02-08 最低溫 10\n",
      "2022-02-09 最低溫 12\n",
      "2022-02-10 最低溫 14\n"
     ]
    }
   ],
   "source": [
    "for forecast in data.SevenDaysForecast.Custom.WeatherForecast:\n",
    "    print(forecast.ValidFor.cdata, '最低溫', forecast.Temperature[1].Value.cdata)"
   ]
  },
  {
   "cell_type": "code",
   "execution_count": null,
   "metadata": {},
   "outputs": [],
   "source": []
  }
 ],
 "metadata": {
  "kernelspec": {
   "display_name": "Python 3",
   "language": "python",
   "name": "python3"
  },
  "language_info": {
   "codemirror_mode": {
    "name": "ipython",
    "version": 3
   },
   "file_extension": ".py",
   "mimetype": "text/x-python",
   "name": "python",
   "nbconvert_exporter": "python",
   "pygments_lexer": "ipython3",
   "version": "3.7.6"
  }
 },
 "nbformat": 4,
 "nbformat_minor": 4
}
