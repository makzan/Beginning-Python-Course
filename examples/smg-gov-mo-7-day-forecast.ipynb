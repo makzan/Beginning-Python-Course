{
 "cells": [
  {
   "cell_type": "markdown",
   "metadata": {},
   "source": [
    "# 澳門天文台七日天氣預報\n",
    "\n",
    "https://xml.smg.gov.mo"
   ]
  },
  {
   "cell_type": "code",
   "execution_count": 27,
   "metadata": {},
   "outputs": [
    {
     "name": "stdout",
     "output_type": "stream",
     "text": [
      "2022-03-15: 20–27C, 天晴，部份時間多雲。早晚有薄霧或霧。吹微風。\n",
      "2022-03-16: 20–24C, 大致多雲。早晚有薄霧。吹2至4級東至東南風。\n",
      "2022-03-17: 21–25C, 大致多雲。有幾陣雨。有薄霧或霧。吹2至3級南至東南風。\n",
      "2022-03-18: 21–25C, 天氣潮濕。多雲。有幾陣雨。有霧。吹微風。\n",
      "2022-03-19: 22–26C, 大致多雲。有薄霧或霧。吹2至3級南至東南風。\n",
      "2022-03-20: 22–26C, 大致多雲。有薄霧。吹3至4級東南風。\n",
      "2022-03-21: 21–25C, 大致多雲。有幾陣驟雨。吹2至3級南至東南風。\n"
     ]
    }
   ],
   "source": [
    "import untangle\n",
    "\n",
    "url = \"https://xml.smg.gov.mo/c_7daysforecast.xml\"\n",
    "\n",
    "data = untangle.parse(url)\n",
    "\n",
    "for forecast in data.SevenDaysForecast.Custom.WeatherForecast:\n",
    "    date = forecast.ValidFor.cdata\n",
    "    high = forecast.Temperature[0].Value.cdata\n",
    "    low = forecast.Temperature[1].Value.cdata\n",
    "    description = forecast.WeatherDescription.cdata\n",
    "    print(f\"{date}: {low}–{high}C, {description}\")"
   ]
  },
  {
   "cell_type": "code",
   "execution_count": 34,
   "metadata": {},
   "outputs": [
    {
     "name": "stdout",
     "output_type": "stream",
     "text": [
      "2022-03-15: 20 至 27 度，天晴，部份時間多雲。早晚有薄霧或霧。吹微風。\n",
      "2022-03-16: 20 至 24 度，大致多雲。早晚有薄霧。吹2至4級東至東南風。\n",
      "2022-03-17: 21 至 25 度，大致多雲。有幾陣雨。有薄霧或霧。吹2至3級南至東南風。\n",
      "2022-03-18: 21 至 25 度，天氣潮濕。多雲。有幾陣雨。有霧。吹微風。\n",
      "2022-03-19: 22 至 26 度，大致多雲。有薄霧或霧。吹2至3級南至東南風。\n",
      "2022-03-20: 22 至 26 度，大致多雲。有薄霧。吹3至4級東南風。\n",
      "2022-03-21: 21 至 25 度，大致多雲。有幾陣驟雨。吹2至3級南至東南風。\n"
     ]
    }
   ],
   "source": [
    "import untangle\n",
    "\n",
    "url = \"https://xml.smg.gov.mo/c_7daysforecast.xml\"\n",
    "\n",
    "data = untangle.parse(url)\n",
    "\n",
    "for forecast in data.SevenDaysForecast.Custom.WeatherForecast:\n",
    "    date = forecast.ValidFor.cdata\n",
    "    high = forecast.Temperature[0].Value.cdata\n",
    "    low = forecast.Temperature[1].Value.cdata  \n",
    "    description = forecast.WeatherDescription.cdata\n",
    "    print(f\"{date}: {low} 至 {high} 度，{description}\")"
   ]
  },
  {
   "cell_type": "markdown",
   "metadata": {},
   "source": [
    "---\n",
    "## Breakdown the steps"
   ]
  },
  {
   "cell_type": "code",
   "execution_count": 28,
   "metadata": {},
   "outputs": [
    {
     "data": {
      "text/plain": [
       "['SevenDaysForecast']"
      ]
     },
     "execution_count": 28,
     "metadata": {},
     "output_type": "execute_result"
    }
   ],
   "source": [
    "import untangle\n",
    "\n",
    "url = \"https://xml.smg.gov.mo/c_7daysforecast.xml\"\n",
    "\n",
    "data = untangle.parse(url)\n",
    "dir(data)"
   ]
  },
  {
   "cell_type": "markdown",
   "metadata": {},
   "source": []
  },
  {
   "cell_type": "code",
   "execution_count": 30,
   "metadata": {},
   "outputs": [
    {
     "data": {
      "text/plain": [
       "['Custom', 'System']"
      ]
     },
     "execution_count": 30,
     "metadata": {},
     "output_type": "execute_result"
    }
   ],
   "source": [
    "dir(data.SevenDaysForecast)"
   ]
  },
  {
   "cell_type": "code",
   "execution_count": 31,
   "metadata": {},
   "outputs": [
    {
     "data": {
      "text/plain": [
       "['IssuedTime',\n",
       " 'WeatherForecast',\n",
       " 'WeatherForecast',\n",
       " 'WeatherForecast',\n",
       " 'WeatherForecast',\n",
       " 'WeatherForecast',\n",
       " 'WeatherForecast',\n",
       " 'WeatherForecast']"
      ]
     },
     "execution_count": 31,
     "metadata": {},
     "output_type": "execute_result"
    }
   ],
   "source": [
    "dir(data.SevenDaysForecast.Custom)"
   ]
  },
  {
   "cell_type": "code",
   "execution_count": 32,
   "metadata": {},
   "outputs": [
    {
     "data": {
      "text/plain": [
       "['AstronomicalTide',\n",
       " 'Humidity',\n",
       " 'Humidity',\n",
       " 'Icon',\n",
       " 'Temperature',\n",
       " 'Temperature',\n",
       " 'ValidFor',\n",
       " 'WeatherDescription',\n",
       " 'WeatherStatus',\n",
       " 'c_DayOfWeek']"
      ]
     },
     "execution_count": 32,
     "metadata": {},
     "output_type": "execute_result"
    }
   ],
   "source": [
    "dir(data.SevenDaysForecast.Custom.WeatherForecast[0])"
   ]
  },
  {
   "cell_type": "code",
   "execution_count": 33,
   "metadata": {},
   "outputs": [
    {
     "name": "stdout",
     "output_type": "stream",
     "text": [
      "2022-03-15 最低溫 20\n",
      "2022-03-16 最低溫 20\n",
      "2022-03-17 最低溫 21\n",
      "2022-03-18 最低溫 21\n",
      "2022-03-19 最低溫 22\n",
      "2022-03-20 最低溫 22\n",
      "2022-03-21 最低溫 21\n"
     ]
    }
   ],
   "source": [
    "for forecast in data.SevenDaysForecast.Custom.WeatherForecast:\n",
    "    print(forecast.ValidFor.cdata, '最低溫', forecast.Temperature[1].Value.cdata)"
   ]
  },
  {
   "cell_type": "code",
   "execution_count": null,
   "metadata": {},
   "outputs": [],
   "source": []
  }
 ],
 "metadata": {
  "kernelspec": {
   "display_name": "Python 3",
   "language": "python",
   "name": "python3"
  },
  "language_info": {
   "codemirror_mode": {
    "name": "ipython",
    "version": 3
   },
   "file_extension": ".py",
   "mimetype": "text/x-python",
   "name": "python",
   "nbconvert_exporter": "python",
   "pygments_lexer": "ipython3",
   "version": "3.8.5"
  }
 },
 "nbformat": 4,
 "nbformat_minor": 4
}
