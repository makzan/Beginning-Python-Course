{
 "cells": [
  {
   "cell_type": "markdown",
   "metadata": {},
   "source": [
    "# Pandas Merge Example 合併分數例子\n",
    "\n",
    "在這個例子，假設我們有幾個 Excel 表，假設當中有不同學科的成績。當中是同一班同學的資料，但每個 Excel 分別儲存了不同科目成績。現在我們想將同一班同學的各科目成績整合，我們將會使用 Python 的 Pandas 套件配合當中的 Merge 功能來達成。"
   ]
  },
  {
   "cell_type": "code",
   "execution_count": null,
   "metadata": {},
   "outputs": [],
   "source": [
    "# Load the libraries\n",
    "import numpy as np\n",
    "import pandas as pd"
   ]
  },
  {
   "cell_type": "code",
   "execution_count": null,
   "metadata": {},
   "outputs": [],
   "source": [
    "# A list of .xlsx files to merge\n",
    "files = [\n",
    "    \"中文\", \n",
    "    \"英文\", \n",
    "    \"數學\",\n",
    "    \"物理\",\n",
    "    \"化學\",\n",
    "]"
   ]
  },
  {
   "cell_type": "code",
   "execution_count": null,
   "metadata": {},
   "outputs": [],
   "source": [
    "df = pd.read_excel(files[0] + \".xlsx\")\n",
    "df = df.rename(columns={\n",
    "    \"總成績\": files[0]\n",
    "})\n",
    "df"
   ]
  },
  {
   "cell_type": "code",
   "execution_count": null,
   "metadata": {
    "scrolled": false
   },
   "outputs": [],
   "source": [
    "# 載入一個檔案檢查一下\n",
    "\n",
    "df = pd.read_excel(files[0] + \".xlsx\")\n",
    "\n",
    "# 將總成績改名為科目名稱，不然所有科目都會叫「總成績」\n",
    "df = df.rename(columns={\n",
    "    \"總成績\": files[0]\n",
    "})\n",
    "\n",
    "# 我們只取學生編號及原總成績兩欄。\n",
    "df = df[[\"學生編號\", files[0]]]\n",
    "df"
   ]
  },
  {
   "cell_type": "code",
   "execution_count": null,
   "metadata": {},
   "outputs": [],
   "source": [
    "# 載入第二個檔案\n",
    "\n",
    "df2 = pd.read_excel(files[1] + \".xlsx\")\n",
    "df2 = df2.rename(columns={\n",
    "    \"總成績\": files[1]\n",
    "})\n",
    "df2 = df2[[\"學生編號\", files[1]]]\n",
    "df2"
   ]
  },
  {
   "cell_type": "code",
   "execution_count": null,
   "metadata": {
    "scrolled": true
   },
   "outputs": [],
   "source": [
    "help(df.merge)"
   ]
  },
  {
   "cell_type": "code",
   "execution_count": null,
   "metadata": {},
   "outputs": [],
   "source": [
    "# 使用 DataFrame Merge 將 df 和 df2 兩組數據整合\n",
    "df_result = df.merge(df2, on=\"學生編號\")\n",
    "df_result"
   ]
  },
  {
   "cell_type": "code",
   "execution_count": null,
   "metadata": {},
   "outputs": [],
   "source": [
    "df"
   ]
  },
  {
   "cell_type": "code",
   "execution_count": null,
   "metadata": {},
   "outputs": [],
   "source": [
    "for topic in files[1:]:\n",
    "    df2 = pd.read_excel(topic + \".xlsx\")\n",
    "    df2 = df2.rename(columns={\n",
    "        \"總成績\": topic\n",
    "    })\n",
    "\n",
    "    df2 = df2[[\"學生編號\", topic]]\n",
    "    df = df.merge(df2, on=\"學生編號\")\n",
    "    \n",
    "df.round()\n",
    "df"
   ]
  },
  {
   "cell_type": "code",
   "execution_count": null,
   "metadata": {},
   "outputs": [],
   "source": [
    "df = df.round()\n",
    "df = df.astype(int)\n",
    "\n",
    "#df = df.set_index(\"學生編號\")\n",
    "df.to_excel(\"final result.xlsx\")"
   ]
  },
  {
   "cell_type": "code",
   "execution_count": null,
   "metadata": {},
   "outputs": [],
   "source": [
    "\n",
    "for topic in files[1:]:\n",
    "    df2 = pd.read_excel(topic + \".xlsx\")\n",
    "    df2 = df2.rename(columns={\n",
    "        \"總成績\": topic\n",
    "    })\n",
    "\n",
    "    df2 = df2[[\"學生編號\", topic]]\n",
    "    df = df.merge(df2, on=\"學生編號\")\n",
    "    \n",
    "df = df.round()\n",
    "df[\"學生編號\"] = df[\"學生編號\"].astype(int)\n",
    "df = df.set_index(\"學生編號\")\n",
    "df"
   ]
  },
  {
   "cell_type": "markdown",
   "metadata": {},
   "source": [
    "## 完整代碼\n",
    "\n",
    "Full Code"
   ]
  },
  {
   "cell_type": "code",
   "execution_count": 1,
   "metadata": {},
   "outputs": [],
   "source": [
    "import numpy as np\n",
    "import pandas as pd\n",
    "\n",
    "files = [\n",
    "    \"中文\", \n",
    "    \"英文\", \n",
    "    \"數學\",\n",
    "    \"物理\",\n",
    "    \"化學\",\n",
    "]\n",
    "\n",
    "# The first file\n",
    "topic = files[0]\n",
    "df = pd.read_excel(topic + \".xlsx\")\n",
    "\n",
    "df = df.rename(columns={ \"總成績\": topic })\n",
    "\n",
    "df = df[[\"學生編號\", topic]]\n",
    "\n",
    "# All other files\n",
    "\n",
    "for topic in files[1:]:\n",
    "    df2 = pd.read_excel(topic + \".xlsx\")\n",
    "    df2 = df2.rename(columns={\n",
    "        \"總成績\": topic\n",
    "    })\n",
    "\n",
    "    df2 = df2[[\"學生編號\", topic]]\n",
    "    df = df.merge(df2, on=\"學生編號\")\n",
    "    \n",
    "df = df.round()\n",
    "df[\"學生編號\"] = df[\"學生編號\"].astype(int)\n",
    "df = df.set_index(\"學生編號\")\n",
    "df.to_excel(\"final_results.xlsx\")"
   ]
  },
  {
   "cell_type": "code",
   "execution_count": null,
   "metadata": {},
   "outputs": [],
   "source": []
  }
 ],
 "metadata": {
  "kernelspec": {
   "display_name": "Python 3",
   "language": "python",
   "name": "python3"
  },
  "language_info": {
   "codemirror_mode": {
    "name": "ipython",
    "version": 3
   },
   "file_extension": ".py",
   "mimetype": "text/x-python",
   "name": "python",
   "nbconvert_exporter": "python",
   "pygments_lexer": "ipython3",
   "version": "3.8.5"
  }
 },
 "nbformat": 4,
 "nbformat_minor": 4
}
