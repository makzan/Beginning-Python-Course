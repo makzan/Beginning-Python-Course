{
 "cells": [
  {
   "cell_type": "markdown",
   "metadata": {},
   "source": [
    "# Lecture 10—Text Processing"
   ]
  },
  {
   "cell_type": "markdown",
   "metadata": {},
   "source": [
    "In this lecture, we will explore reading and writing plain text files.\n",
    "\n",
    "We will learn:\n",
    "\n",
    "- [Process text using regular expression](#Process-Text-with-Regular-Expression)\n",
    "- [Combining DataFrame and Regex](#Combining-DataFrame-and-Regex)"
   ]
  },
  {
   "cell_type": "markdown",
   "metadata": {},
   "source": [
    "## Process Text with Regular Expression\n",
    "\n",
    "We can use Regular Expression to process text with patterns."
   ]
  },
  {
   "cell_type": "code",
   "execution_count": 13,
   "metadata": {},
   "outputs": [
    {
     "data": {
      "text/plain": [
       "['Steven Hawking was born in 1942.',\n",
       " 'Albert Einstein was born in 1879',\n",
       " 'Albert Einstein won Nobel Prize in 1921.',\n",
       " 'Stephen Curry wear No. 30.',\n",
       " 'Stephen Curry went into NBA in 2009',\n",
       " 'Stephen Curry won NBA MVP in 2015 and 2016.',\n",
       " 'Micheal Jordan was born in 1963.']"
      ]
     },
     "execution_count": 13,
     "metadata": {},
     "output_type": "execute_result"
    }
   ],
   "source": [
    "with open(\"sample-years.txt\") as file_obj:\n",
    "    lines = file_obj.read().splitlines()\n",
    "    \n",
    "lines"
   ]
  },
  {
   "cell_type": "markdown",
   "metadata": {},
   "source": [
    "The following code finds all the years in the text document."
   ]
  },
  {
   "cell_type": "code",
   "execution_count": 14,
   "metadata": {},
   "outputs": [
    {
     "name": "stdout",
     "output_type": "stream",
     "text": [
      "['1942']\n",
      "['1879']\n",
      "['1921']\n",
      "[]\n",
      "['2009']\n",
      "['2015', '2016']\n",
      "['1963']\n"
     ]
    }
   ],
   "source": [
    "import re\n",
    "\n",
    "for line in lines:\n",
    "    pattern = '\\d{4}'\n",
    "    print(re.findall(pattern, line))\n"
   ]
  },
  {
   "cell_type": "markdown",
   "metadata": {},
   "source": [
    "What if we only want the first year found? \n",
    "\n",
    "Let’s try using `[0]` to get the first result for each line. And then, we have an error:"
   ]
  },
  {
   "cell_type": "code",
   "execution_count": 18,
   "metadata": {},
   "outputs": [
    {
     "name": "stdout",
     "output_type": "stream",
     "text": [
      "1942\n",
      "1879\n",
      "1921\n"
     ]
    },
    {
     "ename": "IndexError",
     "evalue": "list index out of range",
     "output_type": "error",
     "traceback": [
      "\u001b[0;31m---------------------------------------------------------------------------\u001b[0m",
      "\u001b[0;31mIndexError\u001b[0m                                Traceback (most recent call last)",
      "\u001b[0;32m<ipython-input-18-f0bcda632400>\u001b[0m in \u001b[0;36m<module>\u001b[0;34m\u001b[0m\n\u001b[1;32m      3\u001b[0m \u001b[0;32mfor\u001b[0m \u001b[0mline\u001b[0m \u001b[0;32min\u001b[0m \u001b[0mlines\u001b[0m\u001b[0;34m:\u001b[0m\u001b[0;34m\u001b[0m\u001b[0;34m\u001b[0m\u001b[0m\n\u001b[1;32m      4\u001b[0m     \u001b[0mpattern\u001b[0m \u001b[0;34m=\u001b[0m \u001b[0;34m'\\d{4}'\u001b[0m\u001b[0;34m\u001b[0m\u001b[0;34m\u001b[0m\u001b[0m\n\u001b[0;32m----> 5\u001b[0;31m     \u001b[0mprint\u001b[0m\u001b[0;34m(\u001b[0m\u001b[0mre\u001b[0m\u001b[0;34m.\u001b[0m\u001b[0mfindall\u001b[0m\u001b[0;34m(\u001b[0m\u001b[0mpattern\u001b[0m\u001b[0;34m,\u001b[0m \u001b[0mline\u001b[0m\u001b[0;34m)\u001b[0m\u001b[0;34m[\u001b[0m\u001b[0;36m0\u001b[0m\u001b[0;34m]\u001b[0m\u001b[0;34m)\u001b[0m\u001b[0;34m\u001b[0m\u001b[0;34m\u001b[0m\u001b[0m\n\u001b[0m",
      "\u001b[0;31mIndexError\u001b[0m: list index out of range"
     ]
    }
   ],
   "source": [
    "import re\n",
    "\n",
    "for line in lines:\n",
    "    pattern = '\\d{4}'\n",
    "    print(re.findall(pattern, line)[0])\n"
   ]
  },
  {
   "cell_type": "markdown",
   "metadata": {},
   "source": [
    "The error occurs because there is one line that failed to find any year result.\n",
    "\n",
    "We can ensure there is empty result by searching the ending of line too. This result in an extra result in every reuslt:"
   ]
  },
  {
   "cell_type": "code",
   "execution_count": 20,
   "metadata": {},
   "outputs": [
    {
     "name": "stdout",
     "output_type": "stream",
     "text": [
      "['1942', '']\n",
      "['1879', '']\n",
      "['1921', '']\n",
      "['']\n",
      "['2009', '']\n",
      "['2015', '2016', '']\n",
      "['1963', '']\n"
     ]
    }
   ],
   "source": [
    "import re\n",
    "\n",
    "for line in lines:\n",
    "    pattern = '\\d{4}|$'\n",
    "    print(re.findall(pattern, line))\n"
   ]
  },
  {
   "cell_type": "markdown",
   "metadata": {},
   "source": [
    "But it is useful if we need to ensure the first result."
   ]
  },
  {
   "cell_type": "code",
   "execution_count": 21,
   "metadata": {},
   "outputs": [
    {
     "name": "stdout",
     "output_type": "stream",
     "text": [
      "1942\n",
      "1879\n",
      "1921\n",
      "\n",
      "2009\n",
      "2015\n",
      "1963\n"
     ]
    }
   ],
   "source": [
    "import re\n",
    "\n",
    "for line in lines:\n",
    "    pattern = '\\d{4}|$'\n",
    "    print(re.findall(pattern, line)[0])\n"
   ]
  },
  {
   "cell_type": "markdown",
   "metadata": {},
   "source": [
    "The following code finds all the names in the text document"
   ]
  },
  {
   "cell_type": "code",
   "execution_count": 15,
   "metadata": {},
   "outputs": [
    {
     "name": "stdout",
     "output_type": "stream",
     "text": [
      "['Steven Hawking']\n",
      "['Albert Einstein']\n",
      "['Albert Einstein', 'Nobel Prize']\n",
      "['Stephen Curry']\n",
      "['Stephen Curry']\n",
      "['Stephen Curry', 'A M']\n",
      "['Micheal Jordan']\n"
     ]
    }
   ],
   "source": [
    "import re\n",
    "\n",
    "for line in lines:\n",
    "    pattern = '[A-Z][a-z]* [A-Z][a-z]*'\n",
    "    print(re.findall(pattern, line))\n"
   ]
  },
  {
   "cell_type": "code",
   "execution_count": 16,
   "metadata": {},
   "outputs": [
    {
     "name": "stdout",
     "output_type": "stream",
     "text": [
      "['Steven Hawking']\n",
      "['Albert Einstein']\n",
      "['Albert Einstein', 'Nobel Prize']\n",
      "['Stephen Curry']\n",
      "['Stephen Curry']\n",
      "['Stephen Curry']\n",
      "['Micheal Jordan']\n"
     ]
    }
   ],
   "source": [
    "import re\n",
    "\n",
    "for line in lines:\n",
    "    pattern = '[A-Z][a-z]+ [A-Z][a-z]+'\n",
    "    print(re.findall(pattern, line))\n"
   ]
  },
  {
   "cell_type": "code",
   "execution_count": 17,
   "metadata": {},
   "outputs": [
    {
     "name": "stdout",
     "output_type": "stream",
     "text": [
      "['Steven Hawking']\n",
      "['Albert Einstein']\n",
      "['Albert Einstein']\n",
      "['Stephen Curry']\n",
      "['Stephen Curry']\n",
      "['Stephen Curry']\n",
      "['Micheal Jordan']\n"
     ]
    }
   ],
   "source": [
    "import re\n",
    "\n",
    "for line in lines:\n",
    "    pattern = '^[A-Z][a-z]+ [A-Z][a-z]+'\n",
    "    print(re.findall(pattern, line))\n"
   ]
  },
  {
   "cell_type": "markdown",
   "metadata": {},
   "source": [
    "You can read more examples of [using Regular Expression on Programiz.com](https://www.programiz.com/python-programming/regex)."
   ]
  },
  {
   "cell_type": "markdown",
   "metadata": {},
   "source": [
    "## Combining DataFrame and Regex\n",
    "\n",
    "We can combine data frame and regular expression to perform column-based operation to all data at once."
   ]
  },
  {
   "cell_type": "code",
   "execution_count": 3,
   "metadata": {},
   "outputs": [
    {
     "data": {
      "text/html": [
       "<div>\n",
       "<style scoped>\n",
       "    .dataframe tbody tr th:only-of-type {\n",
       "        vertical-align: middle;\n",
       "    }\n",
       "\n",
       "    .dataframe tbody tr th {\n",
       "        vertical-align: top;\n",
       "    }\n",
       "\n",
       "    .dataframe thead th {\n",
       "        text-align: right;\n",
       "    }\n",
       "</style>\n",
       "<table border=\"1\" class=\"dataframe\">\n",
       "  <thead>\n",
       "    <tr style=\"text-align: right;\">\n",
       "      <th></th>\n",
       "      <th>Original Text</th>\n",
       "    </tr>\n",
       "  </thead>\n",
       "  <tbody>\n",
       "    <tr>\n",
       "      <th>0</th>\n",
       "      <td>Steven Hawking was born in 1942.</td>\n",
       "    </tr>\n",
       "    <tr>\n",
       "      <th>1</th>\n",
       "      <td>Albert Einstein was born in 1879</td>\n",
       "    </tr>\n",
       "    <tr>\n",
       "      <th>2</th>\n",
       "      <td>Albert Einstein won Nobel Prize in 1921.</td>\n",
       "    </tr>\n",
       "    <tr>\n",
       "      <th>3</th>\n",
       "      <td>Stephen Curry wear No. 30.</td>\n",
       "    </tr>\n",
       "    <tr>\n",
       "      <th>4</th>\n",
       "      <td>Stephen Curry went into NBA in 2009</td>\n",
       "    </tr>\n",
       "    <tr>\n",
       "      <th>5</th>\n",
       "      <td>Stephen Curry won NBA MVP in 2015 and 2016.</td>\n",
       "    </tr>\n",
       "    <tr>\n",
       "      <th>6</th>\n",
       "      <td>Micheal Jordan was born in 1963.</td>\n",
       "    </tr>\n",
       "  </tbody>\n",
       "</table>\n",
       "</div>"
      ],
      "text/plain": [
       "                                 Original Text\n",
       "0             Steven Hawking was born in 1942.\n",
       "1             Albert Einstein was born in 1879\n",
       "2     Albert Einstein won Nobel Prize in 1921.\n",
       "3                   Stephen Curry wear No. 30.\n",
       "4          Stephen Curry went into NBA in 2009\n",
       "5  Stephen Curry won NBA MVP in 2015 and 2016.\n",
       "6             Micheal Jordan was born in 1963."
      ]
     },
     "execution_count": 3,
     "metadata": {},
     "output_type": "execute_result"
    }
   ],
   "source": [
    "import pandas as pd\n",
    "\n",
    "df = pd.read_csv('sample-years.txt', header=None, names=['Original Text'])\n",
    "\n",
    "df"
   ]
  },
  {
   "cell_type": "markdown",
   "metadata": {},
   "source": [
    "Now that we loaded the text into a column, we can create a new column that applies our own transformation.\n",
    "\n",
    "We define the function that find first year and name given the string parameter input."
   ]
  },
  {
   "cell_type": "code",
   "execution_count": 4,
   "metadata": {},
   "outputs": [],
   "source": [
    "def find_first_year(string):\n",
    "    pattern = '\\d{4}|$'\n",
    "    return re.findall(pattern, string)[0]\n",
    "\n",
    "def find_first_name(string):\n",
    "    pattern = '^[A-Z][a-z]+ [A-Z][a-z]+|$'\n",
    "    return re.findall(pattern, string)[0]"
   ]
  },
  {
   "cell_type": "code",
   "execution_count": 5,
   "metadata": {
    "scrolled": true
   },
   "outputs": [
    {
     "data": {
      "text/html": [
       "<div>\n",
       "<style scoped>\n",
       "    .dataframe tbody tr th:only-of-type {\n",
       "        vertical-align: middle;\n",
       "    }\n",
       "\n",
       "    .dataframe tbody tr th {\n",
       "        vertical-align: top;\n",
       "    }\n",
       "\n",
       "    .dataframe thead th {\n",
       "        text-align: right;\n",
       "    }\n",
       "</style>\n",
       "<table border=\"1\" class=\"dataframe\">\n",
       "  <thead>\n",
       "    <tr style=\"text-align: right;\">\n",
       "      <th></th>\n",
       "      <th>Original Text</th>\n",
       "      <th>Years</th>\n",
       "      <th>Name</th>\n",
       "    </tr>\n",
       "  </thead>\n",
       "  <tbody>\n",
       "    <tr>\n",
       "      <th>0</th>\n",
       "      <td>Steven Hawking was born in 1942.</td>\n",
       "      <td>1942</td>\n",
       "      <td>Steven Hawking</td>\n",
       "    </tr>\n",
       "    <tr>\n",
       "      <th>1</th>\n",
       "      <td>Albert Einstein was born in 1879</td>\n",
       "      <td>1879</td>\n",
       "      <td>Albert Einstein</td>\n",
       "    </tr>\n",
       "    <tr>\n",
       "      <th>2</th>\n",
       "      <td>Albert Einstein won Nobel Prize in 1921.</td>\n",
       "      <td>1921</td>\n",
       "      <td>Albert Einstein</td>\n",
       "    </tr>\n",
       "    <tr>\n",
       "      <th>3</th>\n",
       "      <td>Stephen Curry wear No. 30.</td>\n",
       "      <td></td>\n",
       "      <td>Stephen Curry</td>\n",
       "    </tr>\n",
       "    <tr>\n",
       "      <th>4</th>\n",
       "      <td>Stephen Curry went into NBA in 2009</td>\n",
       "      <td>2009</td>\n",
       "      <td>Stephen Curry</td>\n",
       "    </tr>\n",
       "    <tr>\n",
       "      <th>5</th>\n",
       "      <td>Stephen Curry won NBA MVP in 2015 and 2016.</td>\n",
       "      <td>2015</td>\n",
       "      <td>Stephen Curry</td>\n",
       "    </tr>\n",
       "    <tr>\n",
       "      <th>6</th>\n",
       "      <td>Micheal Jordan was born in 1963.</td>\n",
       "      <td>1963</td>\n",
       "      <td>Micheal Jordan</td>\n",
       "    </tr>\n",
       "  </tbody>\n",
       "</table>\n",
       "</div>"
      ],
      "text/plain": [
       "                                 Original Text Years             Name\n",
       "0             Steven Hawking was born in 1942.  1942   Steven Hawking\n",
       "1             Albert Einstein was born in 1879  1879  Albert Einstein\n",
       "2     Albert Einstein won Nobel Prize in 1921.  1921  Albert Einstein\n",
       "3                   Stephen Curry wear No. 30.          Stephen Curry\n",
       "4          Stephen Curry went into NBA in 2009  2009    Stephen Curry\n",
       "5  Stephen Curry won NBA MVP in 2015 and 2016.  2015    Stephen Curry\n",
       "6             Micheal Jordan was born in 1963.  1963   Micheal Jordan"
      ]
     },
     "execution_count": 5,
     "metadata": {},
     "output_type": "execute_result"
    }
   ],
   "source": [
    "import re\n",
    "\n",
    "df[\"Years\"] = df['Original Text'].apply(find_first_year)\n",
    "df[\"Name\"] = df['Original Text'].apply(find_first_name)\n",
    "\n",
    "df"
   ]
  },
  {
   "cell_type": "code",
   "execution_count": 6,
   "metadata": {},
   "outputs": [
    {
     "data": {
      "text/html": [
       "<div>\n",
       "<style scoped>\n",
       "    .dataframe tbody tr th:only-of-type {\n",
       "        vertical-align: middle;\n",
       "    }\n",
       "\n",
       "    .dataframe tbody tr th {\n",
       "        vertical-align: top;\n",
       "    }\n",
       "\n",
       "    .dataframe thead th {\n",
       "        text-align: right;\n",
       "    }\n",
       "</style>\n",
       "<table border=\"1\" class=\"dataframe\">\n",
       "  <thead>\n",
       "    <tr style=\"text-align: right;\">\n",
       "      <th></th>\n",
       "      <th>Original Text</th>\n",
       "      <th>Years</th>\n",
       "      <th>Name</th>\n",
       "    </tr>\n",
       "  </thead>\n",
       "  <tbody>\n",
       "    <tr>\n",
       "      <th>3</th>\n",
       "      <td>Stephen Curry wear No. 30.</td>\n",
       "      <td></td>\n",
       "      <td>Stephen Curry</td>\n",
       "    </tr>\n",
       "    <tr>\n",
       "      <th>1</th>\n",
       "      <td>Albert Einstein was born in 1879</td>\n",
       "      <td>1879</td>\n",
       "      <td>Albert Einstein</td>\n",
       "    </tr>\n",
       "    <tr>\n",
       "      <th>2</th>\n",
       "      <td>Albert Einstein won Nobel Prize in 1921.</td>\n",
       "      <td>1921</td>\n",
       "      <td>Albert Einstein</td>\n",
       "    </tr>\n",
       "    <tr>\n",
       "      <th>0</th>\n",
       "      <td>Steven Hawking was born in 1942.</td>\n",
       "      <td>1942</td>\n",
       "      <td>Steven Hawking</td>\n",
       "    </tr>\n",
       "    <tr>\n",
       "      <th>6</th>\n",
       "      <td>Micheal Jordan was born in 1963.</td>\n",
       "      <td>1963</td>\n",
       "      <td>Micheal Jordan</td>\n",
       "    </tr>\n",
       "    <tr>\n",
       "      <th>4</th>\n",
       "      <td>Stephen Curry went into NBA in 2009</td>\n",
       "      <td>2009</td>\n",
       "      <td>Stephen Curry</td>\n",
       "    </tr>\n",
       "    <tr>\n",
       "      <th>5</th>\n",
       "      <td>Stephen Curry won NBA MVP in 2015 and 2016.</td>\n",
       "      <td>2015</td>\n",
       "      <td>Stephen Curry</td>\n",
       "    </tr>\n",
       "  </tbody>\n",
       "</table>\n",
       "</div>"
      ],
      "text/plain": [
       "                                 Original Text Years             Name\n",
       "3                   Stephen Curry wear No. 30.          Stephen Curry\n",
       "1             Albert Einstein was born in 1879  1879  Albert Einstein\n",
       "2     Albert Einstein won Nobel Prize in 1921.  1921  Albert Einstein\n",
       "0             Steven Hawking was born in 1942.  1942   Steven Hawking\n",
       "6             Micheal Jordan was born in 1963.  1963   Micheal Jordan\n",
       "4          Stephen Curry went into NBA in 2009  2009    Stephen Curry\n",
       "5  Stephen Curry won NBA MVP in 2015 and 2016.  2015    Stephen Curry"
      ]
     },
     "execution_count": 6,
     "metadata": {},
     "output_type": "execute_result"
    }
   ],
   "source": [
    "df.sort_values(by=\"Years\")"
   ]
  },
  {
   "cell_type": "code",
   "execution_count": 7,
   "metadata": {
    "scrolled": true
   },
   "outputs": [
    {
     "data": {
      "text/html": [
       "<div>\n",
       "<style scoped>\n",
       "    .dataframe tbody tr th:only-of-type {\n",
       "        vertical-align: middle;\n",
       "    }\n",
       "\n",
       "    .dataframe tbody tr th {\n",
       "        vertical-align: top;\n",
       "    }\n",
       "\n",
       "    .dataframe thead th {\n",
       "        text-align: right;\n",
       "    }\n",
       "</style>\n",
       "<table border=\"1\" class=\"dataframe\">\n",
       "  <thead>\n",
       "    <tr style=\"text-align: right;\">\n",
       "      <th></th>\n",
       "      <th>Original Text</th>\n",
       "      <th>Years</th>\n",
       "      <th>Name</th>\n",
       "    </tr>\n",
       "  </thead>\n",
       "  <tbody>\n",
       "    <tr>\n",
       "      <th>1</th>\n",
       "      <td>Albert Einstein was born in 1879</td>\n",
       "      <td>1879</td>\n",
       "      <td>Albert Einstein</td>\n",
       "    </tr>\n",
       "    <tr>\n",
       "      <th>2</th>\n",
       "      <td>Albert Einstein won Nobel Prize in 1921.</td>\n",
       "      <td>1921</td>\n",
       "      <td>Albert Einstein</td>\n",
       "    </tr>\n",
       "    <tr>\n",
       "      <th>6</th>\n",
       "      <td>Micheal Jordan was born in 1963.</td>\n",
       "      <td>1963</td>\n",
       "      <td>Micheal Jordan</td>\n",
       "    </tr>\n",
       "    <tr>\n",
       "      <th>3</th>\n",
       "      <td>Stephen Curry wear No. 30.</td>\n",
       "      <td></td>\n",
       "      <td>Stephen Curry</td>\n",
       "    </tr>\n",
       "    <tr>\n",
       "      <th>4</th>\n",
       "      <td>Stephen Curry went into NBA in 2009</td>\n",
       "      <td>2009</td>\n",
       "      <td>Stephen Curry</td>\n",
       "    </tr>\n",
       "    <tr>\n",
       "      <th>5</th>\n",
       "      <td>Stephen Curry won NBA MVP in 2015 and 2016.</td>\n",
       "      <td>2015</td>\n",
       "      <td>Stephen Curry</td>\n",
       "    </tr>\n",
       "    <tr>\n",
       "      <th>0</th>\n",
       "      <td>Steven Hawking was born in 1942.</td>\n",
       "      <td>1942</td>\n",
       "      <td>Steven Hawking</td>\n",
       "    </tr>\n",
       "  </tbody>\n",
       "</table>\n",
       "</div>"
      ],
      "text/plain": [
       "                                 Original Text Years             Name\n",
       "1             Albert Einstein was born in 1879  1879  Albert Einstein\n",
       "2     Albert Einstein won Nobel Prize in 1921.  1921  Albert Einstein\n",
       "6             Micheal Jordan was born in 1963.  1963   Micheal Jordan\n",
       "3                   Stephen Curry wear No. 30.          Stephen Curry\n",
       "4          Stephen Curry went into NBA in 2009  2009    Stephen Curry\n",
       "5  Stephen Curry won NBA MVP in 2015 and 2016.  2015    Stephen Curry\n",
       "0             Steven Hawking was born in 1942.  1942   Steven Hawking"
      ]
     },
     "execution_count": 7,
     "metadata": {},
     "output_type": "execute_result"
    }
   ],
   "source": [
    "df.sort_values(by=\"Name\")"
   ]
  },
  {
   "cell_type": "markdown",
   "metadata": {},
   "source": [
    "More on [sort_values](https://pandas.pydata.org/pandas-docs/stable/reference/api/pandas.DataFrame.sort_values.html) on pandas documentation."
   ]
  }
 ],
 "metadata": {
  "kernelspec": {
   "display_name": "Python 3",
   "language": "python",
   "name": "python3"
  },
  "language_info": {
   "codemirror_mode": {
    "name": "ipython",
    "version": 3
   },
   "file_extension": ".py",
   "mimetype": "text/x-python",
   "name": "python",
   "nbconvert_exporter": "python",
   "pygments_lexer": "ipython3",
   "version": "3.7.6"
  }
 },
 "nbformat": 4,
 "nbformat_minor": 2
}
