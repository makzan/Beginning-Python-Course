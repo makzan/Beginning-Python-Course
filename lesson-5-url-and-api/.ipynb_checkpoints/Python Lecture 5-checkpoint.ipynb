{
 "cells": [
  {
   "cell_type": "markdown",
   "metadata": {},
   "source": [
    "# Lecture 5—Fetching data online"
   ]
  },
  {
   "cell_type": "markdown",
   "metadata": {},
   "source": []
  },
  {
   "cell_type": "markdown",
   "metadata": {},
   "source": [
    "- Downloading files in Python\n",
    "- Open web URL\n",
    "- Fetch data with API\n",
    "- Web scraping with Requests and BeautifulSoup\n",
    "- Web automation with Selenium\n",
    "- Converting Wikipedia tabular data into CSV"
   ]
  },
  {
   "cell_type": "code",
   "execution_count": null,
   "metadata": {},
   "outputs": [],
   "source": []
  },
  {
   "cell_type": "markdown",
   "metadata": {},
   "source": [
    "\n",
    "We need to know the URL In order to download files, or web scrap a web page. Usually it is finding the variable patterns in URL.\n",
    "Edit\n",
    "For example, from the following URL, we can find the pattern of the search query.\n",
    "\n",
    "\n",
    "- https://docs.python.org/3/search.html?q=namedtuple&check_keywords=yes&area=default\n",
    "- https://duckduckgo.com/?q=python+doc\n",
    "- https://www.google.com/maps/search/Libraries/@22.1612464,113.5303786,13z\n",
    "- http://macaodaily.com/html/2020-05/04/node_2.htm\n",
    "- http://www.dicj.gov.mo/web/cn/information/DadosEstat_mensal/2020/index.html\n",
    "- https://bis.dsat.gov.mo:37812/macauweb/routeLine.html?routeName=3&direction=0&language=zh-tw&ver=3.5.12"
   ]
  },
  {
   "cell_type": "markdown",
   "metadata": {},
   "source": [
    "Let’s take a closer look at DSAT.gov.mo bus route page. If we can the bus routes, we can observe that the page URL doesn’t change. There may be 2 reasons:\n",
    "\n",
    "1. The page changes are generated via JavaScript rendering.\n",
    "2. The page is inside an iframe so that page changes do not change the top-level URL.\n",
    "\n",
    "\n",
    "If it is the first reason, we will need a more advanced browser driver technique. If it is the second reason, we can get the URL by opening the link in a new tab, or simply copying the link location via right-click.\n",
    "\n",
    "Now we can observe the URL for each route has the following pattern.\n",
    "\n",
    "https://bis.dsat.gov.mo:37812/macauweb/routeLine.html?routeName=3&direction=0&language=zh-tw&ver=3.5.12\n",
    "\n",
    "![](dsat-bus.png)"
   ]
  },
  {
   "cell_type": "markdown",
   "metadata": {},
   "source": [
    "Take DICJ.gov.mo example, the URL is:\n",
    "\n",
    "http://www.dicj.gov.mo/web/cn/information/DadosEstat_mensal/2020/index.html\n",
    "\n",
    "If we inspect the network requests, we can find the behind-the-scene XML URL:\n",
    "\n",
    "http://www.dicj.gov.mo/web/cn/information/DadosEstat_mensal/2020/report_cn.xml?id=10\n",
    "\n",
    "![](dicj.png)"
   ]
  },
  {
   "cell_type": "markdown",
   "metadata": {},
   "source": [
    "## Example: Web Search Python Documentation Site"
   ]
  },
  {
   "cell_type": "code",
   "execution_count": 2,
   "metadata": {},
   "outputs": [
    {
     "data": {
      "text/plain": [
       "True"
      ]
     },
     "execution_count": 2,
     "metadata": {},
     "output_type": "execute_result"
    }
   ],
   "source": [
    "import webbrowser\n",
    "\n",
    "query = \"webbrowser\"\n",
    "\n",
    "url = f\"https://docs.python.org/3/search.html?q={query}&check_keywords=yes&area=default\"\n",
    "\n",
    "webbrowser.open(url)\n"
   ]
  },
  {
   "cell_type": "code",
   "execution_count": null,
   "metadata": {},
   "outputs": [],
   "source": [
    "The search "
   ]
  },
  {
   "cell_type": "code",
   "execution_count": null,
   "metadata": {},
   "outputs": [],
   "source": [
    "import webbrowser\n",
    "\n",
    "query = input(\"Please input search query to search Python doc. \")\n",
    "\n",
    "url = f\"https://docs.python.org/3/search.html?q={query}&check_keywords=yes&area=default\"\n",
    "\n",
    "webbrowser.open(url)\n"
   ]
  },
  {
   "cell_type": "code",
   "execution_count": null,
   "metadata": {},
   "outputs": [],
   "source": []
  },
  {
   "cell_type": "markdown",
   "metadata": {},
   "source": [
    "## Example: Searching DuckDuckGo search engine\n",
    "\n",
    "DuckDuckGo search engine allows going to the first search result by adding an exclamation mark (!) in the query string. We will use this feature to create a Python script.\n"
   ]
  },
  {
   "cell_type": "code",
   "execution_count": 4,
   "metadata": {},
   "outputs": [
    {
     "name": "stdout",
     "output_type": "stream",
     "text": [
      "Please input search query to search DuckDuckGo and go to first result. python history\n"
     ]
    },
    {
     "data": {
      "text/plain": [
       "True"
      ]
     },
     "execution_count": 4,
     "metadata": {},
     "output_type": "execute_result"
    }
   ],
   "source": [
    "import webbrowser\n",
    "\n",
    "query = \"Python history\"\n",
    "\n",
    "url = f\"https://duckduckgo.com?q=!+{query}\"\n",
    "\n",
    "webbrowser.open(url)"
   ]
  },
  {
   "cell_type": "code",
   "execution_count": null,
   "metadata": {},
   "outputs": [],
   "source": [
    "import webbrowser\n",
    "\n",
    "query = input(\"Please input search query to search DuckDuckGo and go to first result. \")\n",
    "\n",
    "url = f\"https://duckduckgo.com?q=!+{query}\"\n",
    "\n",
    "webbrowser.open(url)"
   ]
  },
  {
   "cell_type": "markdown",
   "metadata": {},
   "source": [
    "## Example: Google map search near Macao"
   ]
  },
  {
   "cell_type": "code",
   "execution_count": 5,
   "metadata": {
    "scrolled": true
   },
   "outputs": [
    {
     "data": {
      "text/plain": [
       "True"
      ]
     },
     "execution_count": 5,
     "metadata": {},
     "output_type": "execute_result"
    }
   ],
   "source": [
    "import webbrowser\n",
    "\n",
    "query = \"Book store\"\n",
    "\n",
    "# A map search in Macao.\n",
    "url = f\"https://www.google.com/maps/search/{query}/@22.1612464,113.5303786,13z\"\n",
    "\n",
    "webbrowser.open(url)"
   ]
  },
  {
   "cell_type": "markdown",
   "metadata": {},
   "source": [
    "![](google-map-result.png)"
   ]
  },
  {
   "cell_type": "markdown",
   "metadata": {},
   "source": [
    "**Exercise Time**\n",
    "\n",
    "Try to turn the map location into Shanghai."
   ]
  },
  {
   "cell_type": "code",
   "execution_count": null,
   "metadata": {},
   "outputs": [],
   "source": [
    "import webbrowser\n",
    "\n",
    "query = input(\"Please input search query to search near-by Macao. \")\n",
    "\n",
    "# A map search in Macao.\n",
    "url = f\"https://www.google.com/maps/search/{query}/@22.1612464,113.5303786,13z\"\n",
    "\n",
    "webbrowser.open(url)"
   ]
  },
  {
   "cell_type": "markdown",
   "metadata": {},
   "source": [
    "## URL for iOS apps\n",
    "\n",
    "\n",
    "In iOS, we can use x-callback-url to interact with apps in iOS by using Python and Pythonista.\n",
    "\n",
    "There are web site that collects x-callback-url for iOS apps:\n",
    "\n",
    "http://x-callback-url.com/apps/\n",
    "\n",
    "For example, Things—A tasks manager—provides x-callback-url API:\n",
    "\n",
    "https://culturedcode.com/things/support/articles/2803573/\n",
    "\n",
    "Another example that Bear—notes taking iOS app—provides x-callback-url API too.\n",
    "\n",
    "https://bear.app/faq/X-callback-url%20Scheme%20documentation/\n"
   ]
  },
  {
   "cell_type": "code",
   "execution_count": null,
   "metadata": {},
   "outputs": [],
   "source": []
  },
  {
   "cell_type": "markdown",
   "metadata": {},
   "source": [
    "## Downloading files\n",
    "\n",
    "We can use `urlretrieve` from `urllib.request` module to download file.\n",
    "\n",
    "For example, we can download geckdriver.zip file from their Github repository with the following code."
   ]
  },
  {
   "cell_type": "code",
   "execution_count": 7,
   "metadata": {},
   "outputs": [
    {
     "name": "stdout",
     "output_type": "stream",
     "text": [
      "('chromedriver.zip', <http.client.HTTPMessage object at 0x1091cd350>)\n"
     ]
    }
   ],
   "source": [
    "'''Download chart from AAStock server with given stock numbers.'''\n",
    "\n",
    "from urllib.request import urlretrieve\n",
    "\n",
    "stock_numbers = ['0011','0005','0001','0700','3333','0002','0012']\n",
    "\n",
    "for stock_number in stock_numbers:\n",
    "    url = \"http://charts.aastocks.com/servlet/Charts?fontsize=12&15MinDelay=T&lang=1&titlestyle=1&vol=1&Indicator=1&indpara1=10&indpara2=20&indpara3=50&indpara4=100&indpara5=150&subChart1=2&ref1para1=14&ref1para2=0&ref1para3=0&subChart2=3&ref2para1=12&ref2para2=26&ref2para3=9&subChart3=12&ref3para1=0&ref3para2=0&ref3para3=0&scheme=3&com=100&chartwidth=660&chartheight=855&stockid=00{}.HK&period=6&type=1&logoStyle=1\".format(stock_number)\n",
    "    urlretrieve(url, '{}-chart.gif'.format(stock_number))"
   ]
  },
  {
   "cell_type": "code",
   "execution_count": null,
   "metadata": {},
   "outputs": [],
   "source": []
  },
  {
   "cell_type": "markdown",
   "metadata": {},
   "source": [
    "# Fetching XML"
   ]
  },
  {
   "cell_type": "code",
   "execution_count": 10,
   "metadata": {},
   "outputs": [
    {
     "name": "stdout",
     "output_type": "stream",
     "text": [
      "Collecting untangle\n",
      "  Downloading untangle-1.1.1.tar.gz (3.1 kB)\n",
      "Building wheels for collected packages: untangle\n",
      "  Building wheel for untangle (setup.py) ... \u001b[?25ldone\n",
      "\u001b[?25h  Created wheel for untangle: filename=untangle-1.1.1-py3-none-any.whl size=3410 sha256=678ed047367a6d024ab37d3d424ef606a5d3de48f1d2aa254c5acdb9da946713\n",
      "  Stored in directory: /Users/makzan/Library/Caches/pip/wheels/b9/a9/9c/45580c8b7a00e3e79b889e8e78a4f3427fff5a4d48f1cfea0a\n",
      "Successfully built untangle\n",
      "Installing collected packages: untangle\n",
      "Successfully installed untangle-1.1.1\n",
      "Note: you may need to restart the kernel to use updated packages.\n"
     ]
    }
   ],
   "source": [
    "pip install untangle"
   ]
  },
  {
   "cell_type": "markdown",
   "metadata": {},
   "source": [
    "## Example: SMG.gov.mo"
   ]
  },
  {
   "cell_type": "code",
   "execution_count": 11,
   "metadata": {},
   "outputs": [
    {
     "name": "stdout",
     "output_type": "stream",
     "text": [
      "現時澳門氣溫 30 度，濕度 81%。\n"
     ]
    }
   ],
   "source": [
    "import untangle\n",
    "import datetime\n",
    "\n",
    "\n",
    "def fetch():\n",
    "    obj = untangle.parse('http://xml.smg.gov.mo/c_actual_brief.xml')\n",
    "\n",
    "    temperature = obj.ActualWeatherBrief.Custom.Temperature.Value.cdata\n",
    "    humidity = obj.ActualWeatherBrief.Custom.Humidity.Value.cdata\n",
    "\n",
    "    print(\"現時澳門氣溫 \" + temperature + \" 度，濕度 \" + humidity + \"%。\")\n",
    "\n",
    "fetch()"
   ]
  },
  {
   "cell_type": "markdown",
   "metadata": {},
   "source": [
    "## Example: 博彩月計毛收入"
   ]
  },
  {
   "cell_type": "code",
   "execution_count": 81,
   "metadata": {
    "scrolled": true
   },
   "outputs": [
    {
     "name": "stdout",
     "output_type": "stream",
     "text": [
      "2020 年 5 月份 毛收入 1,764 (2019:25,952), -93.2%\n",
      "2020 年 5 月份 累計毛收入 33,004 (2019:125,691), -73.7%\n"
     ]
    }
   ],
   "source": [
    "import untangle\n",
    "import datetime\n",
    "\n",
    "year = datetime.date.today().year\n",
    "\n",
    "# list begins at 0, and we look for previous month.\n",
    "month = datetime.date.today().month -1 -1\n",
    "\n",
    "if last_month < 0:\n",
    "    year = year - 1\n",
    "    last_month = 11 # list beings at 0.\n",
    "\n",
    "url = f\"http://www.dicj.gov.mo/web/cn/information/DadosEstat_mensal/{year}/report_cn.xml?id=8\"\n",
    "\n",
    "data = untangle.parse(url)\n",
    "\n",
    "month_data = data.STATISTICS.REPORT.DATA.RECORD[month]\n",
    "\n",
    "net_income = month_data.DATA[1].cdata\n",
    "last_net_income = month_data.DATA[2].cdata\n",
    "change_rate = month_data.DATA[3].cdata\n",
    "acc_net_income = month_data.DATA[4].cdata\n",
    "acc_last_net_income = month_data.DATA[5].cdata\n",
    "acc_change_rate = month_data.DATA[6].cdata\n",
    "\n",
    "print(f\"{year} 年 {month+1} 月份 毛收入 {net_income} ({year-1}:{last_net_income}), {change_rate}\")\n",
    "print(f\"{year} 年 {month+1} 月份 累計毛收入 {acc_net_income} ({year-1}:{acc_last_net_income}), {acc_change_rate}\")"
   ]
  },
  {
   "cell_type": "markdown",
   "metadata": {},
   "source": [
    "## 過去 12 個月博彩月計毛收入"
   ]
  },
  {
   "cell_type": "code",
   "execution_count": 82,
   "metadata": {},
   "outputs": [],
   "source": [
    "def fetch_and_print_dicj_year_month(year, month):\n",
    "    url = f\"http://www.dicj.gov.mo/web/cn/information/DadosEstat_mensal/{year}/report_cn.xml?id=8\"\n",
    "\n",
    "    data = untangle.parse(url)\n",
    "\n",
    "    month_data = data.STATISTICS.REPORT.DATA.RECORD[month]\n",
    "\n",
    "    net_income = month_data.DATA[1].cdata\n",
    "    last_net_income = month_data.DATA[2].cdata\n",
    "    change_rate = month_data.DATA[3].cdata\n",
    "    acc_net_income = month_data.DATA[4].cdata\n",
    "    acc_last_net_income = month_data.DATA[5].cdata\n",
    "    acc_change_rate = month_data.DATA[6].cdata\n",
    "\n",
    "    print(f\"{year} 年 {month+1}  月份 毛收入\\t {net_income} \\t ({year-1}:{last_net_income}), {change_rate}\")\n",
    "#     print(f\"{year} 年 {month+1} 累計毛收入\\t {acc_net_income}\\t ({year-1}:{acc_last_net_income}), {acc_change_rate}\")"
   ]
  },
  {
   "cell_type": "code",
   "execution_count": 83,
   "metadata": {},
   "outputs": [
    {
     "name": "stdout",
     "output_type": "stream",
     "text": [
      "2019 年 6  月份 毛收入\t 23,812 \t (2018:22,490), 5.9%\n",
      "2019 年 7  月份 毛收入\t 24,453 \t (2018:25,327), -3.5%\n",
      "2019 年 8  月份 毛收入\t 24,262 \t (2018:26,559), -8.6%\n",
      "2019 年 9  月份 毛收入\t 22,079 \t (2018:21,952), 0.6%\n",
      "2019 年 10  月份 毛收入\t 26,443 \t (2018:27,328), -3.2%\n",
      "2019 年 11  月份 毛收入\t 22,877 \t (2018:24,995), -8.5%\n",
      "2019 年 12  月份 毛收入\t 22,838 \t (2018:26,468), -13.7%\n",
      "2020 年 1  月份 毛收入\t 22,126 \t (2019:24,942), -11.3%\n",
      "2020 年 2  月份 毛收入\t 3,104 \t (2019:25,370), -87.8%\n",
      "2020 年 3  月份 毛收入\t 5,257 \t (2019:25,840), -79.7%\n",
      "2020 年 4  月份 毛收入\t 754 \t (2019:23,588), -96.8%\n",
      "2020 年 5  月份 毛收入\t 1,764 \t (2019:25,952), -93.2%\n"
     ]
    }
   ],
   "source": [
    "import untangle\n",
    "import datetime\n",
    "\n",
    "for i in range(-12,0):    \n",
    "    date = datetime.date.today() + datetime.timedelta(days=i*30)    \n",
    "    fetch_and_print_dicj_year_month(date.year, date.month-1)"
   ]
  },
  {
   "cell_type": "code",
   "execution_count": null,
   "metadata": {},
   "outputs": [],
   "source": []
  },
  {
   "cell_type": "code",
   "execution_count": 84,
   "metadata": {},
   "outputs": [
    {
     "name": "stdout",
     "output_type": "stream",
     "text": [
      "{'rates': {'HKD': 1.0935529258}, 'base': 'CNY', 'date': '2020-06-17'}\n",
      "1.0935529258\n"
     ]
    }
   ],
   "source": [
    "import json\n",
    "import requests\n",
    "\n",
    "url = \"https://api.exchangeratesapi.io/latest?symbols=HKD&base=CNY\"\n",
    "\n",
    "response = requests.get(url)\n",
    "data = json.loads(response.text)\n",
    "print(data)\n",
    "\n",
    "print(data['rates']['HKD'])\n"
   ]
  },
  {
   "cell_type": "code",
   "execution_count": null,
   "metadata": {},
   "outputs": [],
   "source": []
  },
  {
   "cell_type": "markdown",
   "metadata": {},
   "source": [
    "## Web Scraping\n",
    "\n",
    "1. Querying web page\n",
    "1. Parse the DOM tree\n",
    "1. Get the data we want from the HTML code"
   ]
  },
  {
   "cell_type": "code",
   "execution_count": 87,
   "metadata": {},
   "outputs": [
    {
     "name": "stdout",
     "output_type": "stream",
     "text": [
      "新型冠狀病毒感染應變協調中心查詢熱線統計數字 (6月17日08H00 至06月18日08H00)\n",
      "明起重新開放澳門居民入境珠海豁免隔離預約系統        獲批人士可 7天內入境珠海獲豁免隔離\n",
      "101X路線繁忙時間增密班次\n",
      "中國經典《四書》之《大學》、《中庸》葡譯本在中國文化周面世\n",
      "自助辦理身份證續期服務延伸至全日24小時\n",
      "HUSH!!首場網上音樂會周日舉行　工作坊及音樂短片比賽接受報名\n",
      "市政署繼續檢疫進口冷藏水產　再檢測22樣本結果未見異常\n",
      "文化傳播大使呈獻領航計劃 穿越崗頂劇院之旅6月下旬登場\n",
      "澳大線上華人芯片設計技術研討會萬人參與\n",
      "澳大學生奪商業精英國際賽季軍\n",
      "經香港國際機場返澳的居民今日下午乘坐特別渡輪服務抵達氹仔北安碼頭\n",
      "新城A區B4地段公共房屋建造工程 - 基礎及地庫公開開標\n",
      "“環松山步行系統設計連建造工程”之公開開標\n",
      "澳門節能週2020系列活動－齊熄燈，一小時\n",
      "行政長官賀一誠出席植樹活動\n",
      "荷香飄飄（攝影：盧錦烈）\n",
      "【新聞局】經香港國際機場返澳的居民乘搭首班特別渡輪抵達氹仔北安碼頭\n",
      "【新聞局】新型冠狀病毒最新疫情及本澳各項防控措施新聞發佈會(17-06)\n",
      "【新聞局】心出發-遊澳門新聞發佈會16-06\n",
      "【新聞局】新型冠狀病毒最新疫情及本澳各項防控措施新聞發佈會(15-06)\n",
      "【新聞局】行政長官 賀一誠 栽種幼樹 宣揚珍惜大自然\n",
      "【新聞局】新型冠狀病毒最新疫情及本澳各項防控措施新聞發佈會(12-06)\n",
      "【新聞局】黃少澤：爭取推動盡快恢復正常通關\n",
      "【新聞局】新型冠狀病毒最新疫情及本澳各項防控措施新聞發佈會(10-06)\n",
      "【新聞局】新型冠狀病毒最新疫情及本澳各項防控措施新聞發佈會(08-06)\n",
      "【新聞局】新型冠狀病毒最新疫情及本澳各項防控措施新聞發佈會(05-06)\n",
      "\n",
      "\n",
      "\n",
      "\n",
      "焯公亭 記華商 抗疫貢獻\n",
      "夜香行業七十年代式微 垃圾處理三十年前變天\n",
      "病疫影響城市規劃\n",
      "澳門藝術界 為抗疫打氣\n",
      "2020暑期活動開始網上報名\n",
      "非強制央積金2020年度預算盈餘特別分配款項名單公佈\n",
      "“澳門居民入境珠海暫不實施集中隔離醫學觀察”申請獲審批後須預約核酸檢測　查詢請電應變中心熱線\n",
      "“澳門居民入境珠海暫不實施集中隔離醫學觀察”申請系統首日運作暢順\n",
      "本澳連續65日無新增確診病例 “豁免澳門居民前往珠海十四日隔離醫學觀察”措施明再小額開放申請\n",
      "－記者會快訊（“心出發‧遊澳門”本地遊活動的統籌及詳情）－\n",
      "應變協調中心暫停接受 “豁免澳門居民前往珠海十四日隔離醫學觀察”的新申請\n",
      "黃少澤：爭取推動盡快恢復正常通關\n",
      "治安警轉發「珠海市新型冠狀病毒肺炎疫情防控指揮部關於調整珠海市經珠澳口岸入境暫不實施集中隔離醫學觀察的特定人員新冠病毒核酸檢測服務收費政策」通告\n",
      "明起珠海對本澳合資格人士入境暫不實施集中醫學隔離安排 應變協調中心提醒市民留意獲批的開始日期及提早填報資料\n"
     ]
    }
   ],
   "source": [
    "from bs4 import BeautifulSoup\n",
    "import requests\n",
    "\n",
    "try:\n",
    "    res = requests.get(\"https://news.gov.mo/home/zh-hant\")\n",
    "except requests.exceptions.ConnectionError:\n",
    "    print(\"Error: Invalid URL\")\n",
    "    exit()\n",
    "\n",
    "\n",
    "soup = BeautifulSoup(res.text, \"html.parser\")\n",
    "\n",
    "for h5 in soup.select(\"h5\"):\n",
    "    print(h5.getText().strip())\n"
   ]
  },
  {
   "cell_type": "code",
   "execution_count": null,
   "metadata": {},
   "outputs": [],
   "source": []
  },
  {
   "cell_type": "code",
   "execution_count": 90,
   "metadata": {},
   "outputs": [
    {
     "name": "stdout",
     "output_type": "stream",
     "text": [
      "1月1日: 元旦\n",
      "1月25日: 農曆正月初一\n",
      "1月26日: 農曆正月初二\n",
      "1月27日: 農曆正月初三\n",
      "4月4日: 清明節\n",
      "4月10日: 耶穌受難日\n",
      "4月11日: 復活節前日\n",
      "4月30日: 佛誕節\n",
      "5月1日: 勞動節\n",
      "6月25日: 端午節\n",
      "10月1日: 中華人民共和國國慶日\n",
      "10月2日: 中華人民共和國國慶日翌日\n",
      "10月2日: 中秋節翌日\n",
      "10月25日: 重陽節\n",
      "11月2日: 追思節\n",
      "12月8日: 聖母無原罪瞻禮\n",
      "12月20日: 澳門特別行政區成立紀念日\n",
      "12月21日: 冬至\n",
      "12月24日: 聖誕節前日\n",
      "12月25日: 聖誕節\n"
     ]
    }
   ],
   "source": [
    "import requests\n",
    "from bs4 import BeautifulSoup\n",
    "\n",
    "response = requests.get(\"https://www.gov.mo/zh-hant/public-holidays/year-2020/\")\n",
    "soup = BeautifulSoup(response.text, \"html.parser\")\n",
    "\n",
    "tables = soup.select(\".table\")\n",
    "\n",
    "for row in tables[0].select(\"tr\"):\n",
    "    if len(row.select(\"td\")) > 0:\n",
    "        date = row.select(\"td\")[1].text\n",
    "        name = row.select(\"td\")[3].text\n",
    "        print(f\"{date}: {name}\")\n",
    "  "
   ]
  },
  {
   "cell_type": "code",
   "execution_count": 89,
   "metadata": {},
   "outputs": [
    {
     "name": "stdout",
     "output_type": "stream",
     "text": [
      "1月1日: 元旦\n",
      "1月25日: 農曆正月初一\n",
      "1月26日: 農曆正月初二\n",
      "1月27日: 農曆正月初三\n",
      "4月4日: 清明節\n",
      "5月1日: 勞動節\n",
      "10月1日: 中華人民共和國國慶日\n",
      "10月2日: 中秋節翌日\n",
      "10月25日: 重陽節\n",
      "12月20日: 澳門特別行政區成立紀念日\n"
     ]
    }
   ],
   "source": [
    "import requests\n",
    "from bs4 import BeautifulSoup\n",
    "\n",
    "response = requests.get(\"https://www.gov.mo/zh-hant/public-holidays/year-2020/\")\n",
    "soup = BeautifulSoup(response.text, \"html.parser\")\n",
    "\n",
    "tables = soup.select(\".table\")\n",
    "\n",
    "for row in tables[0].select(\"tr\"):\n",
    "    if len(row.select(\"td\")) > 0:\n",
    "        is_obligatory = (row.select(\"td\")[0].text == \"*\")\n",
    "        if is_obligatory:\n",
    "            date = row.select(\"td\")[1].text\n",
    "            name = row.select(\"td\")[3].text\n",
    "            print(f\"{date}: {name}\")\n",
    "  "
   ]
  },
  {
   "cell_type": "markdown",
   "metadata": {},
   "source": [
    "## Is today government holiday?"
   ]
  },
  {
   "cell_type": "code",
   "execution_count": 92,
   "metadata": {},
   "outputs": [
    {
     "name": "stdout",
     "output_type": "stream",
     "text": [
      "6月18日\n",
      "今天不是公眾假期。\n"
     ]
    }
   ],
   "source": [
    "import requests\n",
    "from bs4 import BeautifulSoup\n",
    "import datetime\n",
    "\n",
    "# Get today's year, month and day\n",
    "today = datetime.date.today()\n",
    "year = today.year\n",
    "month = today.month\n",
    "day = today.day\n",
    "today_weekday = today.weekday()\n",
    "today_date = f\"{month}月{day}日\"\n",
    "\n",
    "\n",
    "# Fetch gov.mo\n",
    "url = f\"https://www.gov.mo/zh-hant/public-holidays/year-{year}/\"\n",
    "response = requests.get(url)\n",
    "soup = BeautifulSoup(response.text, \"html.parser\")\n",
    "\n",
    "tables = soup.select(\".table\")\n",
    "\n",
    "holidays = {}\n",
    "\n",
    "for table in tables:\n",
    "    for row in table.select(\"tr\"):\n",
    "        if len(row.select(\"td\")) > 0:    \n",
    "            date = row.select(\"td\")[1].text\n",
    "            weekday = row.select(\"td\")[2].text\n",
    "            name = row.select(\"td\")[3].text\n",
    "            holidays[date] = name\n",
    "\n",
    "\n",
    "# Query holidays\n",
    "print(today_date)\n",
    "if today_date in holidays:\n",
    "    holiday = holidays[today_date]\n",
    "    print(f\"今天是公眾假期：{holiday}\")\n",
    "elif today_weekday == 0:\n",
    "    print(\"今天是星期日，但不是公眾假期。\")\n",
    "elif today_weekday == 6:\n",
    "    print(\"今天是星期六，但不是公眾假期。\")  \n",
    "else:\n",
    "    print(\"今天不是公眾假期。\")"
   ]
  },
  {
   "cell_type": "code",
   "execution_count": 104,
   "metadata": {},
   "outputs": [],
   "source": [
    "def is_macao_holiday(query_date):    \n",
    "    # Fetch gov.mo\n",
    "    url = f\"https://www.gov.mo/zh-hant/public-holidays/year-{query_date.year}/\"\n",
    "    response = requests.get(url)\n",
    "    soup = BeautifulSoup(response.text, \"html.parser\")\n",
    "\n",
    "    tables = soup.select(\".table\")\n",
    "\n",
    "    holidays = {}\n",
    "\n",
    "    for table in tables:\n",
    "        for row in table.select(\"tr\"):\n",
    "            if len(row.select(\"td\")) > 0:    \n",
    "                date = row.select(\"td\")[1].text\n",
    "                weekday = row.select(\"td\")[2].text\n",
    "                name = row.select(\"td\")[3].text\n",
    "                holidays[date] = name\n",
    "\n",
    "\n",
    "    # Query holidays\n",
    "    date_key = f\"{query_date.month}月{query_date.day}日\"\n",
    "\n",
    "    if date_key in holidays:        \n",
    "        holiday = holidays[date_key]\n",
    "        print(f\"{date_key}是公眾假期：{holiday}\")\n",
    "    elif query_date.weekday() == 0:\n",
    "        print(f\"{date_key}是星期日，但不是公眾假期。\")\n",
    "    elif query_date.weekday() == 6:\n",
    "        print(f\"{date_key}是星期六，但不是公眾假期。\")  \n",
    "    else:\n",
    "        print(f\"{date_key}不是公眾假期。\")"
   ]
  },
  {
   "cell_type": "code",
   "execution_count": 105,
   "metadata": {},
   "outputs": [
    {
     "name": "stdout",
     "output_type": "stream",
     "text": [
      "6月18日不是公眾假期。\n"
     ]
    }
   ],
   "source": [
    "is_macao_holiday(datetime.date.today())"
   ]
  },
  {
   "cell_type": "code",
   "execution_count": 106,
   "metadata": {},
   "outputs": [
    {
     "name": "stdout",
     "output_type": "stream",
     "text": [
      "1月1日是公眾假期：元旦\n"
     ]
    }
   ],
   "source": [
    "import dateutil\n",
    "date = dateutil.parser.parse(\"2020-01-01\")\n",
    "is_macao_holiday(date)"
   ]
  },
  {
   "cell_type": "code",
   "execution_count": null,
   "metadata": {},
   "outputs": [],
   "source": [
    "import dateutil\n",
    "date = dateutil.parser.parse(\"2020-10-01\")\n",
    "is_macao_holiday(date)"
   ]
  },
  {
   "cell_type": "code",
   "execution_count": null,
   "metadata": {},
   "outputs": [],
   "source": []
  },
  {
   "cell_type": "code",
   "execution_count": null,
   "metadata": {},
   "outputs": [],
   "source": []
  }
 ],
 "metadata": {
  "kernelspec": {
   "display_name": "Python 3",
   "language": "python",
   "name": "python3"
  },
  "language_info": {
   "codemirror_mode": {
    "name": "ipython",
    "version": 3
   },
   "file_extension": ".py",
   "mimetype": "text/x-python",
   "name": "python",
   "nbconvert_exporter": "python",
   "pygments_lexer": "ipython3",
   "version": "3.7.6"
  }
 },
 "nbformat": 4,
 "nbformat_minor": 4
}
