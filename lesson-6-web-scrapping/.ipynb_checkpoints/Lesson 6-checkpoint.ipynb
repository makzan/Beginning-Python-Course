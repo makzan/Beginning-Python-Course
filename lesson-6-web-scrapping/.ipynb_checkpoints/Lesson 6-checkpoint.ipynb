{
 "cells": [
  {
   "cell_type": "markdown",
   "metadata": {},
   "source": [
    "# Lesson 6—Fetching data online"
   ]
  },
  {
   "cell_type": "markdown",
   "metadata": {},
   "source": [
    "Version 1.0, by [Makzan](https://makzan.net)."
   ]
  },
  {
   "cell_type": "markdown",
   "metadata": {},
   "source": [
    "In this series, we will use 3 lectures to learn fetching data online. This includes:\n",
    "\n",
    "- Finding patterns in URL\n",
    "- Open web URL\n",
    "- Downloading files in Python\n",
    "- Fetch data with API\n",
    "- **Web scraping with Requests and BeautifulSoup**\n",
    "- Web automation with Selenium\n",
    "- Converting Wikipedia tabular data into CSV"
   ]
  },
  {
   "cell_type": "markdown",
   "metadata": {},
   "source": [
    "In this lesson, we will learn to download web page and parse the HTML to extract the data we need. We will use `requests` and `BeautifulSoup`. `Requests` downloads the web page HTML file and `BeautifulSoup` parses the HTML into tree structure for us to access and extract data."
   ]
  },
  {
   "cell_type": "markdown",
   "metadata": {},
   "source": [
    "## Web Scraping\n",
    "\n",
    "1. Querying web page\n",
    "1. Parse the DOM tree\n",
    "1. Get the data we want from the HTML code"
   ]
  },
  {
   "cell_type": "code",
   "execution_count": 2,
   "metadata": {},
   "outputs": [
    {
     "name": "stdout",
     "output_type": "stream",
     "text": [
      "法務局與教青局合辦“教師法律培訓計劃”講座\n",
      "地圖繪製暨地籍局推出澳門三維地圖移動版\n",
      "澳門藝術家推廣計劃：“砥礪前行──關權昌畫展”將揭幕\n",
      "“消費補貼計劃＂中期報告：消費卡達致多方面經濟效益\n",
      "新型冠狀病毒感染應變協調中心查詢熱線統計數字 (6月21日08:00至22日08:00)\n",
      "“祐漢七棟樓群”入戶調查6月開展\n",
      "“2020澳門國際龍舟賽”首日賽事揭幕\n",
      "新型冠狀病毒感染應變協調中心查詢熱線統計數字 (6月21日 08:00至16:00)\n",
      "新型冠狀病毒感染應變協調中心查詢熱線統計數字 (6月20日 08:00至21日08:00)\n",
      "高校領導關心和分享學生工作成效\n",
      "行政長官賀一誠與香港特區政府保安局局長李家超一行會面\n",
      "行政長官賀一誠會見澳門理工學院校董會一行\n",
      "澳門歷史名人足跡（攝影：周文來）\n",
      "經香港國際機場返澳的居民今日下午乘坐特別渡輪服務抵達氹仔北安碼頭\n",
      "新城A區B4地段公共房屋建造工程 - 基礎及地庫公開開標\n",
      "“環松山步行系統設計連建造工程”之公開開標\n",
      "【新聞局】消費補貼計劃中期報告新聞發佈會22-06\n",
      "【澳門都市更新股份有限公司】祐漢七棟樓群入戶調查\n",
      "【新聞局】消費補貼計劃中期報告新聞發佈會22-06\n",
      "新型冠狀病毒最新疫情及本澳各項防控措施新聞發佈會(19-06)\n",
      "【新聞局】市政署人員到冷凍倉庫、批發市場和街市採取樣本作新冠病毒核酸檢測\n",
      "【新聞局】經香港國際機場返澳的居民乘搭首班特別渡輪抵達氹仔北安碼頭\n",
      "【新聞局】新型冠狀病毒最新疫情及本澳各項防控措施新聞發佈會(17-06)\n",
      "【新聞局】心出發-遊澳門新聞發佈會16-06\n",
      "【新聞局】新型冠狀病毒最新疫情及本澳各項防控措施新聞發佈會(15-06)\n",
      "【新聞局】行政長官 賀一誠 栽種幼樹 宣揚珍惜大自然\n",
      "\n",
      "\n",
      "\n",
      "\n",
      "焯公亭 記華商 抗疫貢獻\n",
      "夜香行業七十年代式微 垃圾處理三十年前變天\n",
      "病疫影響城市規劃\n",
      "澳門藝術界 為抗疫打氣\n",
      "非強制央積金2020年度預算盈餘特別分配款項名單公佈\n",
      "明起重新開放澳門居民入境珠海豁免隔離預約系統        獲批人士可 7天內入境珠海獲豁免隔離\n",
      "“心出發‧遊澳門”明日起接受報名　冀逐步恢復旅遊業活動\n",
      "－記者會快訊（“心出發‧遊澳門”本地遊活動的統籌及詳情）－\n",
      "明起珠海對本澳合資格人士入境暫不實施集中醫學隔離安排 應變協調中心提醒市民留意獲批的開始日期及提早填報資料\n",
      "百億抗疫援助基金計劃款項6月16日起發放\n",
      "兩項防浸設備資助計劃月杪結束，呼籲商戶如有需要及早申請\n",
      "【圖文包】常住珠海屬內地居民的外地僱員 進入本澳前免14天醫學觀察\n",
      "－記者會快訊（申請豁免隔離入境珠海的網上系統明日重開）－\n",
      "行政長官賀一誠與香港保安局局長李家超會面\n"
     ]
    }
   ],
   "source": [
    "from bs4 import BeautifulSoup\n",
    "import requests\n",
    "\n",
    "\n",
    "res = requests.get(\"https://news.gov.mo/home/zh-hant\")\n",
    "soup = BeautifulSoup(res.text, \"html.parser\")\n",
    "\n",
    "for h5 in soup.select(\"h5\"):\n",
    "    print(h5.getText().strip())\n"
   ]
  },
  {
   "cell_type": "markdown",
   "metadata": {},
   "source": [
    "## Extra: Fetching with try-except"
   ]
  },
  {
   "cell_type": "code",
   "execution_count": 3,
   "metadata": {},
   "outputs": [
    {
     "name": "stdout",
     "output_type": "stream",
     "text": [
      "法務局與教青局合辦“教師法律培訓計劃”講座\n",
      "地圖繪製暨地籍局推出澳門三維地圖移動版\n",
      "澳門藝術家推廣計劃：“砥礪前行──關權昌畫展”將揭幕\n",
      "“消費補貼計劃＂中期報告：消費卡達致多方面經濟效益\n",
      "新型冠狀病毒感染應變協調中心查詢熱線統計數字 (6月21日08:00至22日08:00)\n",
      "“祐漢七棟樓群”入戶調查6月開展\n",
      "“2020澳門國際龍舟賽”首日賽事揭幕\n",
      "新型冠狀病毒感染應變協調中心查詢熱線統計數字 (6月21日 08:00至16:00)\n",
      "新型冠狀病毒感染應變協調中心查詢熱線統計數字 (6月20日 08:00至21日08:00)\n",
      "高校領導關心和分享學生工作成效\n",
      "行政長官賀一誠與香港特區政府保安局局長李家超一行會面\n",
      "行政長官賀一誠會見澳門理工學院校董會一行\n",
      "澳門歷史名人足跡（攝影：周文來）\n",
      "經香港國際機場返澳的居民今日下午乘坐特別渡輪服務抵達氹仔北安碼頭\n",
      "新城A區B4地段公共房屋建造工程 - 基礎及地庫公開開標\n",
      "“環松山步行系統設計連建造工程”之公開開標\n",
      "【新聞局】消費補貼計劃中期報告新聞發佈會22-06\n",
      "【澳門都市更新股份有限公司】祐漢七棟樓群入戶調查\n",
      "【新聞局】消費補貼計劃中期報告新聞發佈會22-06\n",
      "新型冠狀病毒最新疫情及本澳各項防控措施新聞發佈會(19-06)\n",
      "【新聞局】市政署人員到冷凍倉庫、批發市場和街市採取樣本作新冠病毒核酸檢測\n",
      "【新聞局】經香港國際機場返澳的居民乘搭首班特別渡輪抵達氹仔北安碼頭\n",
      "【新聞局】新型冠狀病毒最新疫情及本澳各項防控措施新聞發佈會(17-06)\n",
      "【新聞局】心出發-遊澳門新聞發佈會16-06\n",
      "【新聞局】新型冠狀病毒最新疫情及本澳各項防控措施新聞發佈會(15-06)\n",
      "【新聞局】行政長官 賀一誠 栽種幼樹 宣揚珍惜大自然\n",
      "\n",
      "\n",
      "\n",
      "\n",
      "焯公亭 記華商 抗疫貢獻\n",
      "夜香行業七十年代式微 垃圾處理三十年前變天\n",
      "病疫影響城市規劃\n",
      "澳門藝術界 為抗疫打氣\n",
      "非強制央積金2020年度預算盈餘特別分配款項名單公佈\n",
      "明起重新開放澳門居民入境珠海豁免隔離預約系統        獲批人士可 7天內入境珠海獲豁免隔離\n",
      "“心出發‧遊澳門”明日起接受報名　冀逐步恢復旅遊業活動\n",
      "－記者會快訊（“心出發‧遊澳門”本地遊活動的統籌及詳情）－\n",
      "明起珠海對本澳合資格人士入境暫不實施集中醫學隔離安排 應變協調中心提醒市民留意獲批的開始日期及提早填報資料\n",
      "百億抗疫援助基金計劃款項6月16日起發放\n",
      "兩項防浸設備資助計劃月杪結束，呼籲商戶如有需要及早申請\n",
      "【圖文包】常住珠海屬內地居民的外地僱員 進入本澳前免14天醫學觀察\n",
      "－記者會快訊（申請豁免隔離入境珠海的網上系統明日重開）－\n",
      "行政長官賀一誠與香港保安局局長李家超會面\n"
     ]
    }
   ],
   "source": [
    "from bs4 import BeautifulSoup\n",
    "import requests\n",
    "\n",
    "try:\n",
    "    res = requests.get(\"https://news.gov.mo/home/zh-hant\")\n",
    "except requests.exceptions.ConnectionError:\n",
    "    print(\"Error: Invalid URL\")\n",
    "    exit()\n",
    "\n",
    "\n",
    "soup = BeautifulSoup(res.text, \"html.parser\")\n",
    "\n",
    "for h5 in soup.select(\"h5\"):\n",
    "    print(h5.getText().strip())\n"
   ]
  },
  {
   "cell_type": "code",
   "execution_count": 6,
   "metadata": {},
   "outputs": [
    {
     "name": "stdout",
     "output_type": "stream",
     "text": [
      "法務局與教青局合辦“教師法律培訓計劃”講座\n",
      "\n",
      "\n",
      "為進一步拓展校園法律推廣的普及範圍，加強教師對《憲法》、《基本法》、《維護國家安全法》及預防青少年犯罪等法律知識的認識，法務局與教育暨青年局合辦“教師法律培訓計劃＂活動，組織本澳各中、小學校的教師參加講座，讓教師在深入了解有關法律知識後，更好地向在校青少年學生傳播法律知識，加強國家觀念和培養“愛國愛澳”情懷。\n",
      "今年首場培訓於6月20日下午在宋玉生廣場中航大廈六樓法務局多功能室舉行，共有六十名來自本澳三十所中學的老師參與。培訓內容主要包括兩部分：第一部分由澳門大學法學院駱偉建教授主講《憲法》與《基本法》、《維護國家安全法》以及國家象徵。駱教授結合法律及社會實況，深入淺出地講解作為澳門特區憲制基礎的《憲法》與《基本法》，彼此間的關聯性以及中央與澳門特區之間的關係等，同時亦論述了《維護國家安全法》的重要性及其立法意義。此外，還向老師介紹了國旗、國徽、國歌的歷史由來、精神內涵及相關法律規定。透過駱教授生動的講解，教師們進一步領會了“一國兩制”的深刻含義，更加充分認識到在澳門新一代中培養國家認同感和歸屬感的必要性和迫切性。第二部分内容由法務局人員負責講解，主要圍繞預防青少年犯罪方面的法律規定，尤其涉及毒品犯罪、網絡犯罪、性犯罪、校園欺凌、刑事歸責年齡等方面的內容，旨在讓教師了解青少年犯罪的類型、性質及所須承擔的刑責，從而引起學校及教師的高度重視，加強對學生的法制教育，以防患於未然。\n",
      "培訓活動結束後，參與的教師紛紛表示受益匪淺，並會將所學知識傳授予在校的莘莘學子。下一場“教師法律培訓計劃”講座將於6月27日舉行，對象為本澳小學老師。上述講座將繼續於下半年各開辦一場，歡迎有興趣的老師密切留意教育暨青年局教師天地的培訓資訊。\n",
      "\n",
      "地圖繪製暨地籍局推出澳門三維地圖移動版\n",
      "\n",
      "\n",
      "為進一步推廣三維地圖的應用，地圖繪製暨地籍局繼2019年4月推出桌面版全澳三維地圖後，現正式推出《澳門三維地圖》移動版（https://map3d.gis.gov.mo），讓公眾透過智能手機隨時隨地瀏覽澳門的城市面貌，伴隨智慧城市的發展，實現可持續創新。\n",
      "《澳門三維地圖》移動版結合了移動設備、多點觸控、雲端應用等技術優勢，簡化了三維地圖的操作，配合精細的全澳建築物三維模型，讓公眾透過手機或移動設備，即可瀏覽全澳的三維地圖。《澳門三維地圖》移動版操作簡便，提供包括放大、縮小、旋轉、平移等地圖操作、建築物名稱搜尋、預設三維景點瀏覽、點擊三維模型獲取建築物名稱等多項實用功能。\n",
      "三維地圖的普及應用是智慧城市的發展趨勢，地圖繪製暨地籍局將不斷更新本澳的網上地圖，提供多元的地圖產品，貼近市民的生活所需，以地理資訊服務提升市民的生活質素。歡迎公眾掃描以下二維碼或輸入網址（https://map3d.gis.gov.mo）進行瀏覽，詳情亦可瀏覽本局網站（https://www.dscc.gov.mo）。\n",
      "\n",
      "澳門藝術家推廣計劃：“砥礪前行──關權昌畫展”將揭幕\n",
      "\n",
      "\n",
      "澳門基金會主辦之澳門藝術家推廣計劃：“砥礪前行──關權昌畫展”將於2020年6月24日(星期三)下午六時三十分在澳門回歸賀禮陳列館專題展覽廳揭幕。展出關權昌國畫作品約100幅，同場並首發《砥礪前行──關權昌畫集》。關權昌是第89位參加澳門藝術家推廣計劃的藝術家。\n",
      "關權昌，號碧石，字子同，1940年11月出生，自幼受到父親良好的藝術薰陶，培養對書畫藝術的濃厚興趣。先師事嶺南畫派譚允猷老師，後得嶺南派大師關山月教授的指導。作品以傳統筆墨技法為主，在形態、色彩、構圖、筆調上的表現清新可喜，雅俗共賞。\n",
      "關權昌擅畫花鳥、蟲魚及山水，數十年努力不懈。曾榮獲澳門第十屆全澳書畫聯展國畫組冠軍；1995年和1997年作品入選澳門藝術雙年展；2006年榮獲澳門視覺藝術年展十佳作品；1994年和2009年作品入選全國美術作品展。作品《魚樂圖》《千巖競秀萬壑爭流》《錦繡河山》分別被人民大會堂、中南海、國家博物館收藏。歷年來其作品常在港澳、內地、韓國、日本、美國等地展出，受到好評，並多次舉辦個人展覽及出版畫集。\n",
      "關權昌多年來積極參與各種藝術活動，現為中國美術家協會會員、澳門美術家協會創會會員、澳門美術協會顧問、澳門華夏文化藝術學會會長、澳門老年書畫家協會會長、澳門中華文化聯誼會監事長、澳門行隱畫藝學會副會長、澳門頤圓書畫會副會長、澳門中華文化藝術協會副理事長、賞心堂(澳門)書畫會監事長、澳門理工學院國畫導師等。\n",
      "展覽日期至7月3日，上午十時至下午七時(下午六時三十分後停止入場)逢星期一休館，在澳門新口岸冼星海大馬路澳門回歸賀禮陳列館專題展覽廳展出，免收門票，歡迎有興趣人士前往參觀欣賞。如有查詢，歡迎聯絡澳門基金會教科文中心，電話：28727066，電郵：unesco_info@fm.org.mo。\n",
      "\n",
      "“消費補貼計劃＂中期報告：消費卡達致多方面經濟效益\n",
      "\n",
      "\n",
      "特區政府今(22)日公佈首期《消費補貼計劃》中期報告，報告估算在產生額外消費下，總體帶來約18億至24億元的經濟效益，對穩定本地經濟發揮正面作用。\n",
      "報告指出，在本澳整體經濟仍待恢復期間，電子消費卡達致五方面的效益：(一)穩住內需市場; (二)刺激消費氛圍; (三)增加企業信心; (四)紓解居民壓力; (五)電子支付工具進一步普及，為商戶將來實現提質發展，創造更有利條件。\n",
      "受惠商戶遍佈不同行業，中小企佔交易金額逾6成\n",
      "經濟局今（22）日舉行新聞發佈會，公佈首期《消費補貼計劃》中期報告。報告內容包括5月1日至6月15日電子消費卡的使用數據，以及澳門旅遊學院對商戶及市民的問卷調查結果。\n",
      "截至6月15日，已有600,171名居民領取消費卡，佔登記人數超過90%。已使用消費卡的居民當中，人均使用額約2,481元。消費卡總交易額約為14.6億元，共產生了約1,564萬筆交易，平均每筆交易額為93元。\n",
      "數據反映，多個行業都能不同程度地受惠於消費卡，其中飲食業及零售業，分別佔交易總額近兩成四以及七成。問卷調查結果顯示，超過六成餐飲商戶以及超過四成零售商戶表示，有五成或以上的營業額來自消費卡，消費卡對支持商戶經營具一定作用。\n",
      "在所有可使用電子消費卡的商戶場所中，按交易金額計算，有約63%的消費補貼流入中小企。當中，員工人數少於20人的場所，共獲得約40%的消費卡交易額。\n",
      "居民及商戶對計劃成效意見正面，滿意登記及領卡安排\n",
      "問卷調查結果顯示，居民及商戶對於電子消費卡的各項使用規定，包括使用範圍、每日使用金額上限、使用期限、每張消費卡的總金額等均較為認同。另外，絕大多數受訪居民滿意消費卡的登記（97%)及領卡（96%)安排。\n",
      "整體物價穩定，商戶提供優惠鼓勵消費\n",
      "消費卡於5月開始使用，根據統計暨普查局的數據，5月的綜合消費物價指數為103.03，通脹率為1.67%，數字均較消費卡使用期前（4月）有所下降，反映自年初開始，整體物價穩定。\n",
      "另一方面，不少商戶表示有針對消費卡推出額外優惠，對居民消費具有顯著的鼓勵作用。\n",
      "商戶積極安裝機具，促進移動支付的使用\n",
      "消費補貼計劃除了拉動電子儲值卡的使用外，亦進一步普及了移動支付的使用。自今年2月公佈計劃起至5月底，商戶安裝的移動支付機具及二維碼合共增加了超過14,000部/個。\n",
      "5月移動支付的交易筆數及金額，分別較年初疫情發生之前上升了25%及54%。由此可見，電子消費卡對居民使用移動支付，亦發揮了促進作用。\n",
      "\n",
      "新型冠狀病毒感染應變協調中心查詢熱線統計數字 (6月21日08:00至22日08:00)\n",
      "\n",
      "\n",
      "由2020年6月21日08H00至6月22日08H00，新型冠狀病毒感染應變協調中心的查詢熱線共接獲301宗電話查詢。\n",
      "當中，沒有電話查詢並不涉及疫情。關於疫情的301宗查詢，已即時轉線至相關部門代表跟進，情況如下：\n",
      "\n",
      "衛生局278宗 (涉及：查詢關於隔離、核酸檢測、醫療服務、豁免及其他；病徵查詢；醫生證明書/健康碼；其他。)；\n",
      "治安警察局15宗 (涉及：查詢旅客/單程證出入境措施、珠海防疫熱線電話、往珠海免隔離申請措施及反映通關時間問題；確認常住地為珠海市之珠海市認可機構 ；獲珠海居住證回執後出入境措施；沒有珠海戶籍及珠海居住證之中國外僱從珠海入境澳門措施；中國旅客、台灣旅客從珠海入境澳門措施；查詢港珠澳大橋通關時間。)；\n",
      "經濟局0宗；\n",
      "旅遊局5宗 (涉及：查詢登機返澳措施及隔離酒店事宜。)；\n",
      "教育暨青年局1宗 (涉及：查詢現時能否登記成為跨境學生。)；\n",
      "高等教育局0宗；\n",
      "海事及水務局0宗；\n",
      "博彩監察協調局0宗；\n",
      "勞工局0宗；\n",
      "財政局0宗；\n",
      "民航局0宗；\n",
      "交通事務局0宗；\n",
      "市政署0宗；\n",
      "澳門貿易投資促進局2宗 (涉及：查詢商務人士申請審批不成功原因；查詢商務申請需時什麼資料。) 。\n",
      "\n",
      "\n",
      "Done.\n"
     ]
    }
   ],
   "source": [
    "from bs4 import BeautifulSoup\n",
    "import requests\n",
    "\n",
    "\n",
    "res = requests.get(\"https://news.gov.mo/home/zh-hant\")\n",
    "soup = BeautifulSoup(res.text, \"html.parser\")\n",
    "\n",
    "for h5 in soup.select(\"h5\")[:5]:\n",
    "    print(h5.getText().strip())\n",
    "    \n",
    "    # Fetch the content\n",
    "    href = h5.select_one(\"a\")[\"href\"]\n",
    "    res = requests.get(\"https://news.gov.mo/\" + href)\n",
    "    soup2 = BeautifulSoup(res.text, \"html.parser\")\n",
    "    content = soup2.select_one(\".asideBody p:first-of-type\")\n",
    "    print(content.getText())\n",
    "    print(\"---\")\n",
    "\n",
    "print(\"Done.\")"
   ]
  },
  {
   "cell_type": "markdown",
   "metadata": {},
   "source": [
    "## When is the next holiday?"
   ]
  },
  {
   "cell_type": "code",
   "execution_count": 5,
   "metadata": {},
   "outputs": [
    {
     "name": "stdout",
     "output_type": "stream",
     "text": [
      " 接下來的公眾假期星期四25六月端午節公眾假期\n"
     ]
    }
   ],
   "source": [
    "url = f\"https://www.gov.mo/zh-hant/public-holidays/year-{datetime.date.today().year}/\"\n",
    "response = requests.get(url)\n",
    "soup = BeautifulSoup(response.text, \"html.parser\")\n",
    "\n",
    "print(soup.select(\"#public-holidays\")[0].text.replace('\\n',''))"
   ]
  },
  {
   "cell_type": "code",
   "execution_count": 6,
   "metadata": {},
   "outputs": [
    {
     "name": "stdout",
     "output_type": "stream",
     "text": [
      "接下來的公眾假期：端午節, 六月25日星期四\n"
     ]
    }
   ],
   "source": [
    "month = soup.select(\"#public-holidays .month\")[0].text\n",
    "day = soup.select(\"#public-holidays .day\")[0].text\n",
    "weekday = soup.select(\"#public-holidays .weekday\")[0].text\n",
    "description = soup.select(\"#next-holiday-description strong\")[0].text\n",
    "\n",
    "print(f\"接下來的公眾假期：{description}, {month}{day}日{weekday}\")"
   ]
  },
  {
   "cell_type": "markdown",
   "metadata": {},
   "source": [
    "## A list of holidays in Macao"
   ]
  },
  {
   "cell_type": "code",
   "execution_count": 7,
   "metadata": {},
   "outputs": [
    {
     "name": "stdout",
     "output_type": "stream",
     "text": [
      "1月1日: 元旦\n",
      "1月25日: 農曆正月初一\n",
      "1月26日: 農曆正月初二\n",
      "1月27日: 農曆正月初三\n",
      "4月4日: 清明節\n",
      "4月10日: 耶穌受難日\n",
      "4月11日: 復活節前日\n",
      "4月30日: 佛誕節\n",
      "5月1日: 勞動節\n",
      "6月25日: 端午節\n",
      "10月1日: 中華人民共和國國慶日\n",
      "10月2日: 中華人民共和國國慶日翌日\n",
      "10月2日: 中秋節翌日\n",
      "10月25日: 重陽節\n",
      "11月2日: 追思節\n",
      "12月8日: 聖母無原罪瞻禮\n",
      "12月20日: 澳門特別行政區成立紀念日\n",
      "12月21日: 冬至\n",
      "12月24日: 聖誕節前日\n",
      "12月25日: 聖誕節\n"
     ]
    }
   ],
   "source": [
    "import requests\n",
    "from bs4 import BeautifulSoup\n",
    "\n",
    "response = requests.get(\"https://www.gov.mo/zh-hant/public-holidays/year-2020/\")\n",
    "soup = BeautifulSoup(response.text, \"html.parser\")\n",
    "\n",
    "tables = soup.select(\".table\")\n",
    "\n",
    "for row in tables[0].select(\"tr\"):\n",
    "    if len(row.select(\"td\")) > 0:\n",
    "        date = row.select(\"td\")[1].text\n",
    "        name = row.select(\"td\")[3].text\n",
    "        print(f\"{date}: {name}\")\n",
    "  "
   ]
  },
  {
   "cell_type": "markdown",
   "metadata": {},
   "source": [
    "Only listing obligatory holidays"
   ]
  },
  {
   "cell_type": "code",
   "execution_count": 8,
   "metadata": {},
   "outputs": [
    {
     "name": "stdout",
     "output_type": "stream",
     "text": [
      "1月1日: 元旦\n",
      "1月25日: 農曆正月初一\n",
      "1月26日: 農曆正月初二\n",
      "1月27日: 農曆正月初三\n",
      "4月4日: 清明節\n",
      "5月1日: 勞動節\n",
      "10月1日: 中華人民共和國國慶日\n",
      "10月2日: 中秋節翌日\n",
      "10月25日: 重陽節\n",
      "12月20日: 澳門特別行政區成立紀念日\n"
     ]
    }
   ],
   "source": [
    "import requests\n",
    "from bs4 import BeautifulSoup\n",
    "\n",
    "response = requests.get(\"https://www.gov.mo/zh-hant/public-holidays/year-2020/\")\n",
    "soup = BeautifulSoup(response.text, \"html.parser\")\n",
    "\n",
    "tables = soup.select(\".table\")\n",
    "\n",
    "for row in tables[0].select(\"tr\"):\n",
    "    if len(row.select(\"td\")) > 0:\n",
    "        is_obligatory = (row.select(\"td\")[0].text == \"*\")\n",
    "        if is_obligatory:\n",
    "            date = row.select(\"td\")[1].text\n",
    "            name = row.select(\"td\")[3].text\n",
    "            print(f\"{date}: {name}\")\n",
    "  "
   ]
  },
  {
   "cell_type": "markdown",
   "metadata": {},
   "source": [
    "## Is today government holiday?"
   ]
  },
  {
   "cell_type": "code",
   "execution_count": 9,
   "metadata": {},
   "outputs": [
    {
     "name": "stdout",
     "output_type": "stream",
     "text": [
      "6月18日\n",
      "今天不是公眾假期。\n"
     ]
    }
   ],
   "source": [
    "import requests\n",
    "from bs4 import BeautifulSoup\n",
    "import datetime\n",
    "\n",
    "# Get today's year, month and day\n",
    "today = datetime.date.today()\n",
    "year = today.year\n",
    "month = today.month\n",
    "day = today.day\n",
    "today_weekday = today.weekday()\n",
    "today_date = f\"{month}月{day}日\"\n",
    "\n",
    "\n",
    "# Fetch gov.mo\n",
    "url = f\"https://www.gov.mo/zh-hant/public-holidays/year-{year}/\"\n",
    "response = requests.get(url)\n",
    "soup = BeautifulSoup(response.text, \"html.parser\")\n",
    "\n",
    "tables = soup.select(\".table\")\n",
    "\n",
    "holidays = {}\n",
    "\n",
    "for table in tables:\n",
    "    for row in table.select(\"tr\"):\n",
    "        if len(row.select(\"td\")) > 0:    \n",
    "            date = row.select(\"td\")[1].text\n",
    "            weekday = row.select(\"td\")[2].text\n",
    "            name = row.select(\"td\")[3].text\n",
    "            holidays[date] = name\n",
    "\n",
    "\n",
    "# Query holidays\n",
    "print(today_date)\n",
    "if today_date in holidays:\n",
    "    holiday = holidays[today_date]\n",
    "    print(f\"今天是公眾假期：{holiday}\")\n",
    "elif today_weekday == 0:\n",
    "    print(\"今天是星期日，但不是公眾假期。\")\n",
    "elif today_weekday == 6:\n",
    "    print(\"今天是星期六，但不是公眾假期。\")  \n",
    "else:\n",
    "    print(\"今天不是公眾假期。\")"
   ]
  },
  {
   "cell_type": "code",
   "execution_count": null,
   "metadata": {},
   "outputs": [],
   "source": []
  },
  {
   "cell_type": "code",
   "execution_count": 10,
   "metadata": {},
   "outputs": [],
   "source": [
    "def is_macao_holiday(query_date):    \n",
    "    # Fetch gov.mo\n",
    "    url = f\"https://www.gov.mo/zh-hant/public-holidays/year-{query_date.year}/\"\n",
    "    response = requests.get(url)\n",
    "    soup = BeautifulSoup(response.text, \"html.parser\")\n",
    "\n",
    "    tables = soup.select(\".table\")\n",
    "\n",
    "    holidays = {}\n",
    "\n",
    "    for table in tables:\n",
    "        for row in table.select(\"tr\"):\n",
    "            if len(row.select(\"td\")) > 0:    \n",
    "                date = row.select(\"td\")[1].text\n",
    "                weekday = row.select(\"td\")[2].text\n",
    "                name = row.select(\"td\")[3].text\n",
    "                holidays[date] = name\n",
    "\n",
    "\n",
    "    # Query holidays\n",
    "    date_key = f\"{query_date.month}月{query_date.day}日\"\n",
    "\n",
    "    if date_key in holidays:        \n",
    "        holiday = holidays[date_key]\n",
    "        print(f\"{date_key}是公眾假期：{holiday}\")\n",
    "    elif query_date.weekday() == 0:\n",
    "        print(f\"{date_key}是星期日，但不是公眾假期。\")\n",
    "    elif query_date.weekday() == 6:\n",
    "        print(f\"{date_key}是星期六，但不是公眾假期。\")  \n",
    "    else:\n",
    "        print(f\"{date_key}不是公眾假期。\")"
   ]
  },
  {
   "cell_type": "code",
   "execution_count": 11,
   "metadata": {},
   "outputs": [
    {
     "name": "stdout",
     "output_type": "stream",
     "text": [
      "6月18日不是公眾假期。\n"
     ]
    }
   ],
   "source": [
    "is_macao_holiday(datetime.date.today())"
   ]
  },
  {
   "cell_type": "markdown",
   "metadata": {},
   "source": [
    "### Picking a date other than today"
   ]
  },
  {
   "cell_type": "code",
   "execution_count": 12,
   "metadata": {},
   "outputs": [
    {
     "name": "stdout",
     "output_type": "stream",
     "text": [
      "1月1日是公眾假期：元旦\n"
     ]
    }
   ],
   "source": [
    "import dateutil\n",
    "date = dateutil.parser.parse(\"2020-01-01\")\n",
    "is_macao_holiday(date)"
   ]
  },
  {
   "cell_type": "code",
   "execution_count": 13,
   "metadata": {},
   "outputs": [
    {
     "name": "stdout",
     "output_type": "stream",
     "text": [
      "10月26日是公眾假期：重陽節的補假\n"
     ]
    }
   ],
   "source": [
    "import dateutil\n",
    "date = dateutil.parser.parse(\"2020-10-26\")\n",
    "is_macao_holiday(date)"
   ]
  },
  {
   "cell_type": "markdown",
   "metadata": {},
   "source": [
    "Futhermore, we can store the result in dictionary for further querying."
   ]
  },
  {
   "cell_type": "code",
   "execution_count": 14,
   "metadata": {},
   "outputs": [
    {
     "name": "stdout",
     "output_type": "stream",
     "text": [
      "6月18日\n",
      "今天不是公眾假期。\n"
     ]
    }
   ],
   "source": [
    "import requests\n",
    "from bs4 import BeautifulSoup\n",
    "import datetime\n",
    "\n",
    "# Get today's year, month and day\n",
    "today = datetime.date.today()\n",
    "year = today.year\n",
    "month = today.month\n",
    "day = today.day\n",
    "today_weekday = today.weekday()\n",
    "today_date = f\"{month}月{day}日\"\n",
    "\n",
    "\n",
    "# Fetch gov.mo\n",
    "url = f\"https://www.gov.mo/zh-hant/public-holidays/year-{year}/\"\n",
    "response = requests.get(url)\n",
    "soup = BeautifulSoup(response.text, \"html.parser\")\n",
    "\n",
    "tables = soup.select(\".table\")\n",
    "\n",
    "holidays = {}\n",
    "\n",
    "for table in tables:\n",
    "    for row in table.select(\"tr\"):\n",
    "        if len(row.select(\"td\")) > 0:    \n",
    "            is_obligatory = (row.select(\"td\")[0].text == \"*\")\n",
    "            date = row.select(\"td\")[1].text\n",
    "            weekday = row.select(\"td\")[2].text\n",
    "            name = row.select(\"td\")[3].text\n",
    "            holidays[date] = {\n",
    "                'date': date,\n",
    "                'weekday': weekday,\n",
    "                'name': name,\n",
    "                'is_obligatory': is_obligatory,\n",
    "            }\n",
    "\n",
    "# Query holidays\n",
    "print(today_date)\n",
    "if today_date in holidays:\n",
    "    holiday = holidays[today_date]\n",
    "    if holiday['is_obligatory']:\n",
    "        print(f\"今天是強制公眾假期：{holiday['name']}\")\n",
    "    else:\n",
    "        print(f\"今天是公眾假期：{holiday['name']}\")\n",
    "elif today_weekday == 0:\n",
    "    print(\"今天是星期日，但不是公眾假期。\")\n",
    "elif today_weekday == 6:\n",
    "    print(\"今天是星期六，但不是公眾假期。\")  \n",
    "else:\n",
    "    print(\"今天不是公眾假期。\")"
   ]
  },
  {
   "cell_type": "code",
   "execution_count": 15,
   "metadata": {},
   "outputs": [
    {
     "data": {
      "text/plain": [
       "{'1月1日': {'date': '1月1日',\n",
       "  'weekday': '星期三',\n",
       "  'name': '元旦',\n",
       "  'is_obligatory': True},\n",
       " '1月25日': {'date': '1月25日',\n",
       "  'weekday': '星期六',\n",
       "  'name': '農曆正月初一',\n",
       "  'is_obligatory': True},\n",
       " '1月26日': {'date': '1月26日',\n",
       "  'weekday': '星期日',\n",
       "  'name': '農曆正月初二',\n",
       "  'is_obligatory': True},\n",
       " '1月27日': {'date': '1月27日',\n",
       "  'weekday': '星期一',\n",
       "  'name': '農曆正月初三',\n",
       "  'is_obligatory': True},\n",
       " '4月4日': {'date': '4月4日',\n",
       "  'weekday': '星期六',\n",
       "  'name': '清明節',\n",
       "  'is_obligatory': True},\n",
       " '4月10日': {'date': '4月10日',\n",
       "  'weekday': '星期五',\n",
       "  'name': '耶穌受難日',\n",
       "  'is_obligatory': False},\n",
       " '4月11日': {'date': '4月11日',\n",
       "  'weekday': '星期六',\n",
       "  'name': '復活節前日',\n",
       "  'is_obligatory': False},\n",
       " '4月30日': {'date': '4月30日',\n",
       "  'weekday': '星期四',\n",
       "  'name': '佛誕節',\n",
       "  'is_obligatory': False},\n",
       " '5月1日': {'date': '5月1日',\n",
       "  'weekday': '星期五',\n",
       "  'name': '勞動節',\n",
       "  'is_obligatory': True},\n",
       " '6月25日': {'date': '6月25日',\n",
       "  'weekday': '星期四',\n",
       "  'name': '端午節',\n",
       "  'is_obligatory': False},\n",
       " '10月1日': {'date': '10月1日',\n",
       "  'weekday': '星期四',\n",
       "  'name': '中華人民共和國國慶日',\n",
       "  'is_obligatory': True},\n",
       " '10月2日': {'date': '10月2日',\n",
       "  'weekday': '星期五',\n",
       "  'name': '中秋節翌日',\n",
       "  'is_obligatory': True},\n",
       " '10月25日': {'date': '10月25日',\n",
       "  'weekday': '星期日',\n",
       "  'name': '重陽節',\n",
       "  'is_obligatory': True},\n",
       " '11月2日': {'date': '11月2日',\n",
       "  'weekday': '星期一',\n",
       "  'name': '追思節',\n",
       "  'is_obligatory': False},\n",
       " '12月8日': {'date': '12月8日',\n",
       "  'weekday': '星期二',\n",
       "  'name': '聖母無原罪瞻禮',\n",
       "  'is_obligatory': False},\n",
       " '12月20日': {'date': '12月20日',\n",
       "  'weekday': '星期日',\n",
       "  'name': '澳門特別行政區成立紀念日',\n",
       "  'is_obligatory': True},\n",
       " '12月21日': {'date': '12月21日',\n",
       "  'weekday': '星期一',\n",
       "  'name': '冬至',\n",
       "  'is_obligatory': False},\n",
       " '12月24日': {'date': '12月24日',\n",
       "  'weekday': '星期四',\n",
       "  'name': '聖誕節前日',\n",
       "  'is_obligatory': False},\n",
       " '12月25日': {'date': '12月25日',\n",
       "  'weekday': '星期五',\n",
       "  'name': '聖誕節',\n",
       "  'is_obligatory': False},\n",
       " '1月24日（下午）': {'date': '1月24日（下午）',\n",
       "  'weekday': '星期五',\n",
       "  'name': '農曆除夕',\n",
       "  'is_obligatory': False},\n",
       " '10月5日': {'date': '10月5日',\n",
       "  'weekday': '星期一',\n",
       "  'name': '中華人民共和國國慶日翌日及中秋節翌日重疊',\n",
       "  'is_obligatory': False},\n",
       " '12月31日（下午）': {'date': '12月31日（下午）',\n",
       "  'weekday': '星期四',\n",
       "  'name': '除夕',\n",
       "  'is_obligatory': False},\n",
       " '1月28日': {'date': '1月28日',\n",
       "  'weekday': '星期二',\n",
       "  'name': '農曆正月初一的補假',\n",
       "  'is_obligatory': False},\n",
       " '1月29日': {'date': '1月29日',\n",
       "  'weekday': '星期三',\n",
       "  'name': '農曆正月初二的補假',\n",
       "  'is_obligatory': False},\n",
       " '4月6日': {'date': '4月6日',\n",
       "  'weekday': '星期一',\n",
       "  'name': '清明節的補假',\n",
       "  'is_obligatory': False},\n",
       " '4月13日': {'date': '4月13日',\n",
       "  'weekday': '星期一',\n",
       "  'name': '復活節前日的補假',\n",
       "  'is_obligatory': False},\n",
       " '10月26日': {'date': '10月26日',\n",
       "  'weekday': '星期一',\n",
       "  'name': '重陽節的補假',\n",
       "  'is_obligatory': False},\n",
       " '12月22日': {'date': '12月22日',\n",
       "  'weekday': '星期二',\n",
       "  'name': '澳門特別行政區成立紀念日的補假',\n",
       "  'is_obligatory': False}}"
      ]
     },
     "execution_count": 15,
     "metadata": {},
     "output_type": "execute_result"
    }
   ],
   "source": [
    "holidays"
   ]
  },
  {
   "cell_type": "code",
   "execution_count": null,
   "metadata": {},
   "outputs": [],
   "source": []
  }
 ],
 "metadata": {
  "kernelspec": {
   "display_name": "Python 3",
   "language": "python",
   "name": "python3"
  },
  "language_info": {
   "codemirror_mode": {
    "name": "ipython",
    "version": 3
   },
   "file_extension": ".py",
   "mimetype": "text/x-python",
   "name": "python",
   "nbconvert_exporter": "python",
   "pygments_lexer": "ipython3",
   "version": "3.7.6"
  }
 },
 "nbformat": 4,
 "nbformat_minor": 4
}
