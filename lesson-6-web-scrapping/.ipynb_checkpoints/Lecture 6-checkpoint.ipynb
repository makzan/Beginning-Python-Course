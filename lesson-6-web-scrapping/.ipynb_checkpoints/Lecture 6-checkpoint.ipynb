{
 "cells": [
  {
   "cell_type": "markdown",
   "metadata": {},
   "source": [
    "## Web Scraping\n",
    "\n",
    "1. Querying web page\n",
    "1. Parse the DOM tree\n",
    "1. Get the data we want from the HTML code"
   ]
  },
  {
   "cell_type": "code",
   "execution_count": null,
   "metadata": {},
   "outputs": [],
   "source": [
    "from bs4 import BeautifulSoup\n",
    "import requests\n",
    "\n",
    "\n",
    "res = requests.get(\"https://news.gov.mo/home/zh-hant\")\n",
    "soup = BeautifulSoup(res.text, \"html.parser\")\n",
    "\n",
    "for h5 in soup.select(\"h5\"):\n",
    "    print(h5.getText().strip())\n"
   ]
  },
  {
   "cell_type": "markdown",
   "metadata": {},
   "source": [
    "## Extra: Fetching with try-except"
   ]
  },
  {
   "cell_type": "code",
   "execution_count": null,
   "metadata": {},
   "outputs": [],
   "source": [
    "from bs4 import BeautifulSoup\n",
    "import requests\n",
    "\n",
    "try:\n",
    "    res = requests.get(\"https://news.gov.mo/home/zh-hant\")\n",
    "except requests.exceptions.ConnectionError:\n",
    "    print(\"Error: Invalid URL\")\n",
    "    exit()\n",
    "\n",
    "\n",
    "soup = BeautifulSoup(res.text, \"html.parser\")\n",
    "\n",
    "for h5 in soup.select(\"h5\"):\n",
    "    print(h5.getText().strip())\n"
   ]
  },
  {
   "cell_type": "markdown",
   "metadata": {},
   "source": [
    "## When is the next holiday?"
   ]
  },
  {
   "cell_type": "code",
   "execution_count": null,
   "metadata": {},
   "outputs": [],
   "source": [
    "url = f\"https://www.gov.mo/zh-hant/public-holidays/year-{datetime.date.today().year}/\"\n",
    "response = requests.get(url)\n",
    "soup = BeautifulSoup(response.text, \"html.parser\")\n",
    "\n",
    "print(soup.select(\"#public-holidays\")[0].text.replace('\\n',''))"
   ]
  },
  {
   "cell_type": "code",
   "execution_count": null,
   "metadata": {},
   "outputs": [],
   "source": [
    "month = soup.select(\"#public-holidays .month\")[0].text\n",
    "day = soup.select(\"#public-holidays .day\")[0].text\n",
    "weekday = soup.select(\"#public-holidays .weekday\")[0].text\n",
    "description = soup.select(\"#next-holiday-description strong\")[0].text\n",
    "\n",
    "print(f\"接下來的公眾假期：{description}, {month}{day}日{weekday}\")"
   ]
  },
  {
   "cell_type": "markdown",
   "metadata": {},
   "source": [
    "## A list of holidays in Macao"
   ]
  },
  {
   "cell_type": "code",
   "execution_count": null,
   "metadata": {},
   "outputs": [],
   "source": [
    "import requests\n",
    "from bs4 import BeautifulSoup\n",
    "\n",
    "response = requests.get(\"https://www.gov.mo/zh-hant/public-holidays/year-2020/\")\n",
    "soup = BeautifulSoup(response.text, \"html.parser\")\n",
    "\n",
    "tables = soup.select(\".table\")\n",
    "\n",
    "for row in tables[0].select(\"tr\"):\n",
    "    if len(row.select(\"td\")) > 0:\n",
    "        date = row.select(\"td\")[1].text\n",
    "        name = row.select(\"td\")[3].text\n",
    "        print(f\"{date}: {name}\")\n",
    "  "
   ]
  },
  {
   "cell_type": "markdown",
   "metadata": {},
   "source": [
    "Only listing obligatory holidays"
   ]
  },
  {
   "cell_type": "code",
   "execution_count": null,
   "metadata": {},
   "outputs": [],
   "source": [
    "import requests\n",
    "from bs4 import BeautifulSoup\n",
    "\n",
    "response = requests.get(\"https://www.gov.mo/zh-hant/public-holidays/year-2020/\")\n",
    "soup = BeautifulSoup(response.text, \"html.parser\")\n",
    "\n",
    "tables = soup.select(\".table\")\n",
    "\n",
    "for row in tables[0].select(\"tr\"):\n",
    "    if len(row.select(\"td\")) > 0:\n",
    "        is_obligatory = (row.select(\"td\")[0].text == \"*\")\n",
    "        if is_obligatory:\n",
    "            date = row.select(\"td\")[1].text\n",
    "            name = row.select(\"td\")[3].text\n",
    "            print(f\"{date}: {name}\")\n",
    "  "
   ]
  },
  {
   "cell_type": "markdown",
   "metadata": {},
   "source": [
    "## Is today government holiday?"
   ]
  },
  {
   "cell_type": "code",
   "execution_count": null,
   "metadata": {},
   "outputs": [],
   "source": [
    "import requests\n",
    "from bs4 import BeautifulSoup\n",
    "import datetime\n",
    "\n",
    "# Get today's year, month and day\n",
    "today = datetime.date.today()\n",
    "year = today.year\n",
    "month = today.month\n",
    "day = today.day\n",
    "today_weekday = today.weekday()\n",
    "today_date = f\"{month}月{day}日\"\n",
    "\n",
    "\n",
    "# Fetch gov.mo\n",
    "url = f\"https://www.gov.mo/zh-hant/public-holidays/year-{year}/\"\n",
    "response = requests.get(url)\n",
    "soup = BeautifulSoup(response.text, \"html.parser\")\n",
    "\n",
    "tables = soup.select(\".table\")\n",
    "\n",
    "holidays = {}\n",
    "\n",
    "for table in tables:\n",
    "    for row in table.select(\"tr\"):\n",
    "        if len(row.select(\"td\")) > 0:    \n",
    "            date = row.select(\"td\")[1].text\n",
    "            weekday = row.select(\"td\")[2].text\n",
    "            name = row.select(\"td\")[3].text\n",
    "            holidays[date] = name\n",
    "\n",
    "\n",
    "# Query holidays\n",
    "print(today_date)\n",
    "if today_date in holidays:\n",
    "    holiday = holidays[today_date]\n",
    "    print(f\"今天是公眾假期：{holiday}\")\n",
    "elif today_weekday == 0:\n",
    "    print(\"今天是星期日，但不是公眾假期。\")\n",
    "elif today_weekday == 6:\n",
    "    print(\"今天是星期六，但不是公眾假期。\")  \n",
    "else:\n",
    "    print(\"今天不是公眾假期。\")"
   ]
  },
  {
   "cell_type": "code",
   "execution_count": null,
   "metadata": {},
   "outputs": [],
   "source": []
  },
  {
   "cell_type": "code",
   "execution_count": null,
   "metadata": {},
   "outputs": [],
   "source": [
    "def is_macao_holiday(query_date):    \n",
    "    # Fetch gov.mo\n",
    "    url = f\"https://www.gov.mo/zh-hant/public-holidays/year-{query_date.year}/\"\n",
    "    response = requests.get(url)\n",
    "    soup = BeautifulSoup(response.text, \"html.parser\")\n",
    "\n",
    "    tables = soup.select(\".table\")\n",
    "\n",
    "    holidays = {}\n",
    "\n",
    "    for table in tables:\n",
    "        for row in table.select(\"tr\"):\n",
    "            if len(row.select(\"td\")) > 0:    \n",
    "                date = row.select(\"td\")[1].text\n",
    "                weekday = row.select(\"td\")[2].text\n",
    "                name = row.select(\"td\")[3].text\n",
    "                holidays[date] = name\n",
    "\n",
    "\n",
    "    # Query holidays\n",
    "    date_key = f\"{query_date.month}月{query_date.day}日\"\n",
    "\n",
    "    if date_key in holidays:        \n",
    "        holiday = holidays[date_key]\n",
    "        print(f\"{date_key}是公眾假期：{holiday}\")\n",
    "    elif query_date.weekday() == 0:\n",
    "        print(f\"{date_key}是星期日，但不是公眾假期。\")\n",
    "    elif query_date.weekday() == 6:\n",
    "        print(f\"{date_key}是星期六，但不是公眾假期。\")  \n",
    "    else:\n",
    "        print(f\"{date_key}不是公眾假期。\")"
   ]
  },
  {
   "cell_type": "code",
   "execution_count": null,
   "metadata": {},
   "outputs": [],
   "source": [
    "is_macao_holiday(datetime.date.today())"
   ]
  },
  {
   "cell_type": "markdown",
   "metadata": {},
   "source": [
    "### Picking a date other than today"
   ]
  },
  {
   "cell_type": "code",
   "execution_count": null,
   "metadata": {},
   "outputs": [],
   "source": [
    "import dateutil\n",
    "date = dateutil.parser.parse(\"2020-01-01\")\n",
    "is_macao_holiday(date)"
   ]
  },
  {
   "cell_type": "code",
   "execution_count": null,
   "metadata": {},
   "outputs": [],
   "source": [
    "import dateutil\n",
    "date = dateutil.parser.parse(\"2020-10-26\")\n",
    "is_macao_holiday(date)"
   ]
  },
  {
   "cell_type": "markdown",
   "metadata": {},
   "source": [
    "Futhermore, we can store the result in dictionary for further querying."
   ]
  },
  {
   "cell_type": "code",
   "execution_count": 1,
   "metadata": {},
   "outputs": [
    {
     "name": "stdout",
     "output_type": "stream",
     "text": [
      "6月18日\n",
      "今天不是公眾假期。\n"
     ]
    }
   ],
   "source": [
    "import requests\n",
    "from bs4 import BeautifulSoup\n",
    "import datetime\n",
    "\n",
    "# Get today's year, month and day\n",
    "today = datetime.date.today()\n",
    "year = today.year\n",
    "month = today.month\n",
    "day = today.day\n",
    "today_weekday = today.weekday()\n",
    "today_date = f\"{month}月{day}日\"\n",
    "\n",
    "\n",
    "# Fetch gov.mo\n",
    "url = f\"https://www.gov.mo/zh-hant/public-holidays/year-{year}/\"\n",
    "response = requests.get(url)\n",
    "soup = BeautifulSoup(response.text, \"html.parser\")\n",
    "\n",
    "tables = soup.select(\".table\")\n",
    "\n",
    "holidays = {}\n",
    "\n",
    "for table in tables:\n",
    "    for row in table.select(\"tr\"):\n",
    "        if len(row.select(\"td\")) > 0:    \n",
    "            is_obligatory = (row.select(\"td\")[0].text == \"*\")\n",
    "            date = row.select(\"td\")[1].text\n",
    "            weekday = row.select(\"td\")[2].text\n",
    "            name = row.select(\"td\")[3].text\n",
    "            holidays[date] = {\n",
    "                'date': date,\n",
    "                'weekday': weekday,\n",
    "                'name': name,\n",
    "                'is_obligatory': is_obligatory,\n",
    "            }\n",
    "\n",
    "# Query holidays\n",
    "print(today_date)\n",
    "if today_date in holidays:\n",
    "    holiday = holidays[today_date]\n",
    "    if holiday['is_obligatory']:\n",
    "        print(f\"今天是強制公眾假期：{holiday['name']}\")\n",
    "    else:\n",
    "        print(f\"今天是公眾假期：{holiday['name']}\")\n",
    "elif today_weekday == 0:\n",
    "    print(\"今天是星期日，但不是公眾假期。\")\n",
    "elif today_weekday == 6:\n",
    "    print(\"今天是星期六，但不是公眾假期。\")  \n",
    "else:\n",
    "    print(\"今天不是公眾假期。\")"
   ]
  },
  {
   "cell_type": "code",
   "execution_count": 2,
   "metadata": {},
   "outputs": [
    {
     "data": {
      "text/plain": [
       "{'1月1日': {'date': '1月1日',\n",
       "  'weekday': '星期三',\n",
       "  'name': '元旦',\n",
       "  'is_obligatory': True},\n",
       " '1月25日': {'date': '1月25日',\n",
       "  'weekday': '星期六',\n",
       "  'name': '農曆正月初一',\n",
       "  'is_obligatory': True},\n",
       " '1月26日': {'date': '1月26日',\n",
       "  'weekday': '星期日',\n",
       "  'name': '農曆正月初二',\n",
       "  'is_obligatory': True},\n",
       " '1月27日': {'date': '1月27日',\n",
       "  'weekday': '星期一',\n",
       "  'name': '農曆正月初三',\n",
       "  'is_obligatory': True},\n",
       " '4月4日': {'date': '4月4日',\n",
       "  'weekday': '星期六',\n",
       "  'name': '清明節',\n",
       "  'is_obligatory': True},\n",
       " '4月10日': {'date': '4月10日',\n",
       "  'weekday': '星期五',\n",
       "  'name': '耶穌受難日',\n",
       "  'is_obligatory': False},\n",
       " '4月11日': {'date': '4月11日',\n",
       "  'weekday': '星期六',\n",
       "  'name': '復活節前日',\n",
       "  'is_obligatory': False},\n",
       " '4月30日': {'date': '4月30日',\n",
       "  'weekday': '星期四',\n",
       "  'name': '佛誕節',\n",
       "  'is_obligatory': False},\n",
       " '5月1日': {'date': '5月1日',\n",
       "  'weekday': '星期五',\n",
       "  'name': '勞動節',\n",
       "  'is_obligatory': True},\n",
       " '6月25日': {'date': '6月25日',\n",
       "  'weekday': '星期四',\n",
       "  'name': '端午節',\n",
       "  'is_obligatory': False},\n",
       " '10月1日': {'date': '10月1日',\n",
       "  'weekday': '星期四',\n",
       "  'name': '中華人民共和國國慶日',\n",
       "  'is_obligatory': True},\n",
       " '10月2日': {'date': '10月2日',\n",
       "  'weekday': '星期五',\n",
       "  'name': '中秋節翌日',\n",
       "  'is_obligatory': True},\n",
       " '10月25日': {'date': '10月25日',\n",
       "  'weekday': '星期日',\n",
       "  'name': '重陽節',\n",
       "  'is_obligatory': True},\n",
       " '11月2日': {'date': '11月2日',\n",
       "  'weekday': '星期一',\n",
       "  'name': '追思節',\n",
       "  'is_obligatory': False},\n",
       " '12月8日': {'date': '12月8日',\n",
       "  'weekday': '星期二',\n",
       "  'name': '聖母無原罪瞻禮',\n",
       "  'is_obligatory': False},\n",
       " '12月20日': {'date': '12月20日',\n",
       "  'weekday': '星期日',\n",
       "  'name': '澳門特別行政區成立紀念日',\n",
       "  'is_obligatory': True},\n",
       " '12月21日': {'date': '12月21日',\n",
       "  'weekday': '星期一',\n",
       "  'name': '冬至',\n",
       "  'is_obligatory': False},\n",
       " '12月24日': {'date': '12月24日',\n",
       "  'weekday': '星期四',\n",
       "  'name': '聖誕節前日',\n",
       "  'is_obligatory': False},\n",
       " '12月25日': {'date': '12月25日',\n",
       "  'weekday': '星期五',\n",
       "  'name': '聖誕節',\n",
       "  'is_obligatory': False},\n",
       " '1月24日（下午）': {'date': '1月24日（下午）',\n",
       "  'weekday': '星期五',\n",
       "  'name': '農曆除夕',\n",
       "  'is_obligatory': False},\n",
       " '10月5日': {'date': '10月5日',\n",
       "  'weekday': '星期一',\n",
       "  'name': '中華人民共和國國慶日翌日及中秋節翌日重疊',\n",
       "  'is_obligatory': False},\n",
       " '12月31日（下午）': {'date': '12月31日（下午）',\n",
       "  'weekday': '星期四',\n",
       "  'name': '除夕',\n",
       "  'is_obligatory': False},\n",
       " '1月28日': {'date': '1月28日',\n",
       "  'weekday': '星期二',\n",
       "  'name': '農曆正月初一的補假',\n",
       "  'is_obligatory': False},\n",
       " '1月29日': {'date': '1月29日',\n",
       "  'weekday': '星期三',\n",
       "  'name': '農曆正月初二的補假',\n",
       "  'is_obligatory': False},\n",
       " '4月6日': {'date': '4月6日',\n",
       "  'weekday': '星期一',\n",
       "  'name': '清明節的補假',\n",
       "  'is_obligatory': False},\n",
       " '4月13日': {'date': '4月13日',\n",
       "  'weekday': '星期一',\n",
       "  'name': '復活節前日的補假',\n",
       "  'is_obligatory': False},\n",
       " '10月26日': {'date': '10月26日',\n",
       "  'weekday': '星期一',\n",
       "  'name': '重陽節的補假',\n",
       "  'is_obligatory': False},\n",
       " '12月22日': {'date': '12月22日',\n",
       "  'weekday': '星期二',\n",
       "  'name': '澳門特別行政區成立紀念日的補假',\n",
       "  'is_obligatory': False}}"
      ]
     },
     "execution_count": 2,
     "metadata": {},
     "output_type": "execute_result"
    }
   ],
   "source": [
    "holidays"
   ]
  },
  {
   "cell_type": "code",
   "execution_count": null,
   "metadata": {},
   "outputs": [],
   "source": []
  }
 ],
 "metadata": {
  "kernelspec": {
   "display_name": "Python 3",
   "language": "python",
   "name": "python3"
  },
  "language_info": {
   "codemirror_mode": {
    "name": "ipython",
    "version": 3
   },
   "file_extension": ".py",
   "mimetype": "text/x-python",
   "name": "python",
   "nbconvert_exporter": "python",
   "pygments_lexer": "ipython3",
   "version": "3.7.6"
  }
 },
 "nbformat": 4,
 "nbformat_minor": 4
}
