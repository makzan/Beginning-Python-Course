{
 "cells": [
  {
   "cell_type": "markdown",
   "metadata": {},
   "source": [
    "# Lesson 6—Fetching data online"
   ]
  },
  {
   "cell_type": "markdown",
   "metadata": {},
   "source": [
    "Version 1.0, by [Makzan](https://makzan.net)."
   ]
  },
  {
   "cell_type": "markdown",
   "metadata": {},
   "source": [
    "In this series, we will use 3 lectures to learn fetching data online. This includes:\n",
    "\n",
    "- Finding patterns in URL\n",
    "- Open web URL\n",
    "- Downloading files in Python\n",
    "- Fetch data with API\n",
    "- **Web scraping with Requests and BeautifulSoup**\n",
    "- Web automation with Selenium\n",
    "- Converting Wikipedia tabular data into CSV"
   ]
  },
  {
   "cell_type": "markdown",
   "metadata": {},
   "source": [
    "In this lesson, we will learn to download web page and parse the HTML to extract the data we need. We will use `requests` and `BeautifulSoup`. `Requests` downloads the web page HTML file and `BeautifulSoup` parses the HTML into tree structure for us to access and extract data."
   ]
  },
  {
   "cell_type": "markdown",
   "metadata": {},
   "source": [
    "## Web Scraping\n",
    "\n",
    "1. Querying web page\n",
    "1. Parse the DOM tree\n",
    "1. Get the data we want from the HTML code"
   ]
  },
  {
   "cell_type": "code",
   "execution_count": 35,
   "metadata": {},
   "outputs": [
    {
     "name": "stdout",
     "output_type": "stream",
     "text": [
      "社會工作局新任正副局長就職\n",
      "－記者會快訊（過去兩天澳門居民入境珠海豁免隔離醫學觀察的網上申請系統運作良好）－\n",
      "當事人需就沒有在訴訟程序中適時採取防禦手段承擔後果\n",
      "新型冠狀病毒感染應變協調中心查詢熱線統計數字(6月22日 08:00至16:00)\n",
      "－記者會快訊（北京疫情）－\n",
      "－記者會快訊（出入境及市面情況）－\n",
      "－記者會快訊（6月19-21日共新增354名入境人士須作醫學觀察）－\n",
      "－記者會快訊（有867人在指定酒店作醫學觀察）－\n",
      "托兒所友善措施首日運作暢順\n",
      "－記者會快訊（本澳最新疫情）－\n",
      "“消費補貼計劃”中期報告新聞發佈會\n",
      "行政長官賀一誠與香港特區政府保安局局長李家超一行會面\n",
      "行政長官賀一誠會見澳門理工學院校董會一行\n",
      "澳門歷史名人足跡（攝影：周文來）\n",
      "經香港國際機場返澳的居民今日下午乘坐特別渡輪服務抵達氹仔北安碼頭\n",
      "新城A區B4地段公共房屋建造工程 - 基礎及地庫公開開標\n",
      "【新聞局】消費補貼計劃中期報告新聞發佈會22-06\n",
      "【澳門都市更新股份有限公司】祐漢七棟樓群入戶調查\n",
      "【新聞局】消費補貼計劃中期報告新聞發佈會22-06\n",
      "新型冠狀病毒最新疫情及本澳各項防控措施新聞發佈會(19-06)\n",
      "【新聞局】市政署人員到冷凍倉庫、批發市場和街市採取樣本作新冠病毒核酸檢測\n",
      "【新聞局】經香港國際機場返澳的居民乘搭首班特別渡輪抵達氹仔北安碼頭\n",
      "【新聞局】新型冠狀病毒最新疫情及本澳各項防控措施新聞發佈會(17-06)\n",
      "【新聞局】心出發-遊澳門新聞發佈會16-06\n",
      "【新聞局】新型冠狀病毒最新疫情及本澳各項防控措施新聞發佈會(15-06)\n",
      "【新聞局】行政長官 賀一誠 栽種幼樹 宣揚珍惜大自然\n",
      "\n",
      "\n",
      "\n",
      "\n",
      "焯公亭 記華商 抗疫貢獻\n",
      "夜香行業七十年代式微 垃圾處理三十年前變天\n",
      "病疫影響城市規劃\n",
      "澳門藝術界 為抗疫打氣\n",
      "非強制央積金2020年度預算盈餘特別分配款項名單公佈\n",
      "明起重新開放澳門居民入境珠海豁免隔離預約系統        獲批人士可 7天內入境珠海獲豁免隔離\n",
      "“心出發‧遊澳門”明日起接受報名　冀逐步恢復旅遊業活動\n",
      "－記者會快訊（“心出發‧遊澳門”本地遊活動的統籌及詳情）－\n",
      "明起珠海對本澳合資格人士入境暫不實施集中醫學隔離安排 應變協調中心提醒市民留意獲批的開始日期及提早填報資料\n",
      "百億抗疫援助基金計劃款項6月16日起發放\n",
      "兩項防浸設備資助計劃月杪結束，呼籲商戶如有需要及早申請\n",
      "【圖文包】常住珠海屬內地居民的外地僱員 進入本澳前免14天醫學觀察\n",
      "－記者會快訊（申請豁免隔離入境珠海的網上系統明日重開）－\n",
      "行政長官賀一誠與香港保安局局長李家超會面\n"
     ]
    }
   ],
   "source": [
    "from bs4 import BeautifulSoup\n",
    "import requests\n",
    "\n",
    "\n",
    "res = requests.get(\"https://news.gov.mo/home/zh-hant\")\n",
    "soup = BeautifulSoup(res.text, \"html.parser\")\n",
    "\n",
    "for h5 in soup.select(\"h5\"):\n",
    "    print(h5.text.strip())\n"
   ]
  },
  {
   "cell_type": "markdown",
   "metadata": {},
   "source": [
    "## Extra: Fetching with try-except"
   ]
  },
  {
   "cell_type": "code",
   "execution_count": 36,
   "metadata": {},
   "outputs": [
    {
     "name": "stdout",
     "output_type": "stream",
     "text": [
      "社會工作局新任正副局長就職\n",
      "－記者會快訊（過去兩天澳門居民入境珠海豁免隔離醫學觀察的網上申請系統運作良好）－\n",
      "當事人需就沒有在訴訟程序中適時採取防禦手段承擔後果\n",
      "新型冠狀病毒感染應變協調中心查詢熱線統計數字(6月22日 08:00至16:00)\n",
      "－記者會快訊（北京疫情）－\n",
      "－記者會快訊（出入境及市面情況）－\n",
      "－記者會快訊（6月19-21日共新增354名入境人士須作醫學觀察）－\n",
      "－記者會快訊（有867人在指定酒店作醫學觀察）－\n",
      "托兒所友善措施首日運作暢順\n",
      "－記者會快訊（本澳最新疫情）－\n",
      "“消費補貼計劃”中期報告新聞發佈會\n",
      "行政長官賀一誠與香港特區政府保安局局長李家超一行會面\n",
      "行政長官賀一誠會見澳門理工學院校董會一行\n",
      "澳門歷史名人足跡（攝影：周文來）\n",
      "經香港國際機場返澳的居民今日下午乘坐特別渡輪服務抵達氹仔北安碼頭\n",
      "新城A區B4地段公共房屋建造工程 - 基礎及地庫公開開標\n",
      "【新聞局】消費補貼計劃中期報告新聞發佈會22-06\n",
      "【澳門都市更新股份有限公司】祐漢七棟樓群入戶調查\n",
      "【新聞局】消費補貼計劃中期報告新聞發佈會22-06\n",
      "新型冠狀病毒最新疫情及本澳各項防控措施新聞發佈會(19-06)\n",
      "【新聞局】市政署人員到冷凍倉庫、批發市場和街市採取樣本作新冠病毒核酸檢測\n",
      "【新聞局】經香港國際機場返澳的居民乘搭首班特別渡輪抵達氹仔北安碼頭\n",
      "【新聞局】新型冠狀病毒最新疫情及本澳各項防控措施新聞發佈會(17-06)\n",
      "【新聞局】心出發-遊澳門新聞發佈會16-06\n",
      "【新聞局】新型冠狀病毒最新疫情及本澳各項防控措施新聞發佈會(15-06)\n",
      "【新聞局】行政長官 賀一誠 栽種幼樹 宣揚珍惜大自然\n",
      "\n",
      "\n",
      "\n",
      "\n",
      "焯公亭 記華商 抗疫貢獻\n",
      "夜香行業七十年代式微 垃圾處理三十年前變天\n",
      "病疫影響城市規劃\n",
      "澳門藝術界 為抗疫打氣\n",
      "非強制央積金2020年度預算盈餘特別分配款項名單公佈\n",
      "明起重新開放澳門居民入境珠海豁免隔離預約系統        獲批人士可 7天內入境珠海獲豁免隔離\n",
      "“心出發‧遊澳門”明日起接受報名　冀逐步恢復旅遊業活動\n",
      "－記者會快訊（“心出發‧遊澳門”本地遊活動的統籌及詳情）－\n",
      "明起珠海對本澳合資格人士入境暫不實施集中醫學隔離安排 應變協調中心提醒市民留意獲批的開始日期及提早填報資料\n",
      "百億抗疫援助基金計劃款項6月16日起發放\n",
      "兩項防浸設備資助計劃月杪結束，呼籲商戶如有需要及早申請\n",
      "【圖文包】常住珠海屬內地居民的外地僱員 進入本澳前免14天醫學觀察\n",
      "－記者會快訊（申請豁免隔離入境珠海的網上系統明日重開）－\n",
      "行政長官賀一誠與香港保安局局長李家超會面\n"
     ]
    }
   ],
   "source": [
    "from bs4 import BeautifulSoup\n",
    "import requests\n",
    "\n",
    "try:\n",
    "    res = requests.get(\"https://news.gov.mo/home/zh-hant\")\n",
    "except requests.exceptions.ConnectionError:\n",
    "    print(\"Error: Invalid URL\")\n",
    "    exit()\n",
    "\n",
    "\n",
    "soup = BeautifulSoup(res.text, \"html.parser\")\n",
    "\n",
    "for h5 in soup.select(\"h5\"):\n",
    "    print(h5.text.strip())\n"
   ]
  },
  {
   "cell_type": "code",
   "execution_count": 34,
   "metadata": {
    "scrolled": true
   },
   "outputs": [
    {
     "name": "stdout",
     "output_type": "stream",
     "text": [
      "社會工作局新任正副局長就職\n",
      "\n",
      "\n",
      "社會工作局韓衛局長和鄧玉華副局長今（22）日在政府總部多功能廳宣誓就職，儀式由社會文化司歐陽瑜司長主持監誓，並由社會文化司司長辦公室何鈺珊主任、社會文化司轄下各部門領導、社會工作局轄下各單位主管等人員出席見證。\n",
      "韓衛局長表示，在履新後定必竭盡所能，團結社會工作局全體同事，切實執行社會工作領域的各項工作，持續提升社會服務的專業水平，增進民生福祉。作為一個服務市民的公務員，會時刻提醒自己要行公義、好憐憫、保持謙卑，同時要廉潔公正、以身作則、帶領團隊履行公務，服務社會大眾。\n",
      "韓衛擁有台灣大學心理學碩士學歷。自1995年進入公職，於當時的預防及治療藥物依賴辦公室擔任高級技術員職務，1997年起在該辦公室擔任治療技術中心監督。自1999年該辦公室納入社會工作局，自該時起韓衛分別擔任該局戒毒復康處處長、防治藥物依賴廳代廳長及廳長，並於2016年1月起擔任副局長，至2019年12月就任為代局長，具備專業能力及豐富工作經驗。根據社會文化司司長批示，委任韓衛自2020年6月20日起擔任社會工作局局長。\n",
      "鄧玉華擁有南京大學社會學博士學歷。自1988年進入公職，於社會工作司擔任社會工作助理技術員、技術員、助理、兒童及青年組協調員等職務，1999年至2020年分別擔任社會工作局高級技術員、預防藥物濫用處處長、家庭及社區服務廳廳長、防治賭毒成癮廳廳長，至2019年12月就任為代副局長，具備專業能力及豐富工作經驗。根據社會文化司司長批示，委任鄧玉華自2020年6月20日起擔任社會工作局副局長。\n",
      "\n",
      "---\n",
      "－記者會快訊（過去兩天澳門居民入境珠海豁免隔離醫學觀察的網上申請系統運作良好）－\n",
      "\n",
      "\n",
      "應變協調中心表示，於上周六對於澳門居民入境珠海豁免隔離醫學觀察的網上申請系統進行了優化，並增加了申請名額。過去的星期六和星期日，系統的運作整體大致良好，協調中心亦會盡快審核申請人士的資格，一旦有名額釋出，在當日傍晚六時會再開放名額供市民申請。\n",
      "協調中心表示，珠海方面允許澳門所提供的名額為1,000個，呼籲市民因應自身需要，把名額留給急切需要的人士優先使用。\n",
      "\n",
      "---\n",
      "當事人需就沒有在訴訟程序中適時採取防禦手段承擔後果\n",
      "\n",
      "\n",
      "甲針對乙公司向初級法院提起通常訴訟程序給付之訴，請求判處乙公司向其支付16,740,000.00澳門元的金額連同利息。乙公司被傳喚後作出答辯，提出甲主張的權利時效已完成。初級法院法官裁定乙公司提出的抗辯理由成立，駁回了甲的請求。甲向中級法院提起上訴，稱初級法院應首先查明是否發生了“時效中止或中斷”的事由，以及提出時效抗辯是否不構成“濫用權利”。中級法院指由於甲沒有就乙公司提出的“時效已完成”作出回應，因此也就失去了在針對認定存在這一情況的裁判提起的上訴中這麼做的可能性，裁定上訴敗訴，確認了初級法院的裁判。\n",
      "甲不服，向終審法院提起上訴，認為其未有反駁乙公司提出的時效抗辯，法院仍可能須就時效期間的起算點、時效有無中斷、時效抗辯的行使有無違反誠信原則或構成權利濫用等加以調查認定，此外，是否就此作出答覆是其訴訟權利，沒有透過反駁提出爭執並不意味著對於事實的自認。\n",
      "終審法院合議庭對案件作出審理。\n",
      "合議庭指“程序”是透過法院的介入而進行的用作公平地排解利益糾紛或爭端的一系列－有序，且不存在“隨意”及/或“即興”的行為。如果說一方面當事人擁有主張和請求的自由以及推動訴訟程序的“自主權”，那麼另一方面，在“自行負責原則”之下，他也必須履行某些“訴訟責任”，即那些可由當事人自行決定是否採取的對於行使某項權利或實現某項自身利益而言屬必需的行為。當事人自己有責任提出並採取其所擁有的攻擊和防禦手段，並在出現某項遺漏時承受相反的裁決。當事人的過失或失誤將不可避免地對其自身造成損害，因為這些過失或失誤不可以由法官主動作出行為予以彌補。而根據“時限原則”，程序有著嚴格的階段之分，每個階段都有著其特定的目標，形成“彼此封閉的空間”，因此未在專屬於其的階段作出的行為將不被考慮。一如本案的平常上訴是“再考量”性質的，其宗旨是結合案卷內(截至當時為止)所存在的限制條件和可用的資料對所作的裁決作出再審查，而並非提出未曾交予被上訴法院審查的“新問題”的專有訴訟手段。由於甲沒有適時提出任何在其看來阻礙作出時效已完成之宣告的“事由”，也沒有及時提出相關的“事實事宜”，因此，除了確認中級法院所作的裁定其上訴敗訴的決定外，沒有其他可行的解決方法。\n",
      "綜上所述，合議庭裁定上訴敗訴。\n",
      "參閱終審法院第125/2019號案的合議庭裁判。\n",
      "\n",
      "---\n",
      "新型冠狀病毒感染應變協調中心查詢熱線統計數字(6月22日 08:00至16:00)\n",
      "\n",
      "\n",
      "由2020年6月22日08H00至16H00，新型冠狀病毒感染應變協調中心的查詢熱線共接獲115宗電話查詢。\n",
      "當中，沒有電話查詢並不涉及疫情。關於疫情的115宗查詢，已即時轉線至相關部門代表跟進，情況如下：\n",
      "\n",
      "衛生局86宗 (涉及：查詢關於：隔離、核酸檢測、豁免；醫生證明書/其他最新措施/健康碼；其他。)；\n",
      "治安警察局20宗 (涉及：查詢澳門居民持居住證申請憑據入境珠海措施；查詢香港旅客從內地入境措施/內地探親證前往珠海措施/外國外僱入境澳門措施/內地探親證簽注地是北京入境澳門措施；查詢香港外僱從香港入境澳門措施/內地外僱從珠海入境。)；\n",
      "經濟局0宗；\n",
      "旅遊局2宗 (涉及：查詢持非永久居民身分證母親帶同沒有澳門居民身分證嬰兒機場購買船票問題；持有航空公司機票不在參與特別渡輪船務海空轉駁的航空公司名單內的旅客，船公司不予售票。)；\n",
      "教育暨青年局5宗(涉及：查詢學童久未見父親的心理支援；跨境學童在廣州回澳門；核酸檢測費用；申請跨境家長登記；中學生加拿大返澳特別交通安排。)；\n",
      "高等教育局0宗；\n",
      "海事及水務局0宗；\n",
      "博彩監察協調局0宗；\n",
      "勞工局0宗；\n",
      "財政局0宗；\n",
      "民航局0宗；\n",
      "交通事務局0宗；\n",
      "市政署0宗；\n",
      "澳門貿易投資促進局2宗 (涉及：查詢不獲審批原因；已獲批申請，名字輸入繁體會否影響出關。)。\n",
      "\n",
      "\n",
      "---\n",
      "－記者會快訊（北京疫情）－\n",
      "\n",
      "\n",
      "應變協調中心表示，收到國家衛健委的通報，6月22日零時至12時，北京新增新冠肺炎確診病例為5例，均為本土病例，新增疑似病例0例。自6月11日以來，北京市累計報告的本土確診病例為241例，當中11例是重症，目前疑似病例15例，累計死亡病例0例。\n",
      "\n",
      "---\n",
      "Done.\n"
     ]
    }
   ],
   "source": [
    "from bs4 import BeautifulSoup\n",
    "import requests\n",
    "\n",
    "\n",
    "res = requests.get(\"https://news.gov.mo/home/zh-hant\")\n",
    "soup = BeautifulSoup(res.text, \"html.parser\")\n",
    "\n",
    "for h5 in soup.select(\"h5\")[:5]:\n",
    "    print(h5.getText().strip())\n",
    "    \n",
    "    # Fetch the content\n",
    "    href = h5.select_one(\"a\")[\"href\"]\n",
    "    res = requests.get(\"https://news.gov.mo/\" + href)\n",
    "    soup2 = BeautifulSoup(res.text, \"html.parser\")\n",
    "    content = soup2.select_one(\".asideBody p:first-of-type\")\n",
    "    print(content.text)\n",
    "    print(\"---\")\n",
    "\n",
    "print(\"Done.\")"
   ]
  },
  {
   "cell_type": "markdown",
   "metadata": {},
   "source": [
    "## Fetchin Macao Daily news"
   ]
  },
  {
   "cell_type": "code",
   "execution_count": 42,
   "metadata": {},
   "outputs": [
    {
     "name": "stdout",
     "output_type": "stream",
     "text": [
      "\n",
      "A01：澳聞\n",
      "萬人空巷觀日食\n",
      "\n",
      "A02：廣告\n",
      "\n",
      "A03：廣告\n",
      "\n",
      "A04：廣告\n",
      "\n",
      "A05：廣告\n",
      "\n",
      "A06：廣告\n",
      "\n",
      "A07：廣告\n",
      "\n",
      "A08：廣告\n",
      "\n",
      "A09：要聞\n",
      "多國民眾爭睹“金戒指”\n",
      "中國公眾觀天狗食日\n",
      "（社論）博爾頓新書打擊特選情\n",
      "\n",
      "A10：經濟\n",
      "“本地遊”今出發 導遊先踩線\n",
      "（一家之言）反思不足 迎接未來機遇\n",
      "導遊：熟習資料  方便介紹\n",
      "赴台學做飯團 開店日賣逾二百個\n",
      "經營三問：\n",
      "品牌化重門面 講究內涵\n",
      "控制舖租佔比 拓展團購市場\n",
      "網上平台宣傳 開旅客市場\n",
      "開發周邊產品 提升人均消費\n",
      "\n",
      "A11：經濟\n",
      "憂疫情第二波 恆指二萬四拉鋸\n",
      "博爾頓新書捅一刀 特朗普連任艱難\n",
      "後疫情時代旅遊業新發展路徑\n",
      "港息短期波動 長期向下\n",
      "金蝶國際前景看俏\n",
      "Finished.\n"
     ]
    }
   ],
   "source": [
    "from bs4 import BeautifulSoup\n",
    "import requests\n",
    "\n",
    "today = datetime.date.today()\n",
    "year = today.year\n",
    "month = today.month\n",
    "day = today.day\n",
    "\n",
    "month = str(month).zfill(2)\n",
    "day = str(day).zfill(2)    \n",
    "res = requests.get(f\"http://www.macaodaily.com/html/{year}-{month}/{day}/node_1.htm\")\n",
    "\n",
    "res.encoding = \"utf-8\"\n",
    "\n",
    "soup = BeautifulSoup(res.text, \"html.parser\") # Be aware that you may need a different parser if \"lxml\" not found.\n",
    "\n",
    "links = soup.select(\"#all_article_list a\")\n",
    "for link in links[:40]:\n",
    "    print(link.text) \n",
    "\n",
    "\n",
    "print(\"Finished.\")"
   ]
  },
  {
   "cell_type": "markdown",
   "metadata": {},
   "source": [
    "## ✏️ Exercise time: Lab 3"
   ]
  },
  {
   "cell_type": "markdown",
   "metadata": {},
   "source": [
    "1. Please try to execute the code to see the program result.\n",
    "1. Please try to change the keyword inside the code to fetch different queries.\n",
    "1. Please try to make the code more flexible by changing the date and query into input.\n",
    "1. Please try to save the result into a text file.\n",
    "1. Please try to change the code to allow multiple searches until user enters \"q\"."
   ]
  },
  {
   "cell_type": "code",
   "execution_count": 46,
   "metadata": {},
   "outputs": [
    {
     "name": "stdout",
     "output_type": "stream",
     "text": [
      "2020-06-01: 穗力推大灣區軌道交通融合\n",
      "2020-06-07: 穗市長：四領域推進大灣區建設\n",
      "2020-06-09: 全國政協調研大灣區創新合作\n",
      "2020-06-09: 大灣區葡語教育聯盟成立\n",
      "2020-06-14: 粵發佈大灣區文遺遊徑\n",
      "2020-06-14: 再現大灣區詩歌地圖\n",
      "Finished.\n"
     ]
    }
   ],
   "source": [
    "from bs4 import BeautifulSoup\n",
    "import requests\n",
    "\n",
    "# Task 1: Change year and month into input\n",
    "year = \"2020\"\n",
    "month = \"06\"\n",
    "\n",
    "for i in range(1,32):\n",
    "    day = str(i).zfill(2)    \n",
    "    res = requests.get(f\"http://www.macaodaily.com/html/{year}-{month}/{day}/node_1.htm\")\n",
    "\n",
    "    res.encoding = \"utf-8\"\n",
    "\n",
    "    soup = BeautifulSoup(res.text, \"html.parser\")\n",
    "\n",
    "    links = soup.select(\"#all_article_list a\")\n",
    "    for link in links:\n",
    "        news_title = link.getText()\n",
    "\n",
    "        # Task 2: Change keyword into input\n",
    "        if \"大灣區\" in news_title:\n",
    "            # Task 3: Save the result in TXT intead of printing out.\n",
    "            print(f\"{year}-{month}-{day}: {news_title}\")\n",
    "\n",
    "print(\"Finished.\")\n"
   ]
  },
  {
   "cell_type": "markdown",
   "metadata": {},
   "source": [
    "Solution to Lab 3\n",
    "\n",
    "https://makclass.com/vimeo_players/335074765"
   ]
  },
  {
   "cell_type": "markdown",
   "metadata": {},
   "source": [
    "## When is the next holiday?"
   ]
  },
  {
   "cell_type": "code",
   "execution_count": 10,
   "metadata": {},
   "outputs": [
    {
     "name": "stdout",
     "output_type": "stream",
     "text": [
      " 接下來的公眾假期星期四25六月端午節公眾假期\n"
     ]
    }
   ],
   "source": [
    "import datetime\n",
    "\n",
    "url = f\"https://www.gov.mo/zh-hant/public-holidays/year-{datetime.date.today().year}/\"\n",
    "response = requests.get(url)\n",
    "soup = BeautifulSoup(response.text, \"html.parser\")\n",
    "\n",
    "print(soup.select(\"#public-holidays\")[0].text.replace('\\n',''))"
   ]
  },
  {
   "cell_type": "code",
   "execution_count": 11,
   "metadata": {},
   "outputs": [
    {
     "name": "stdout",
     "output_type": "stream",
     "text": [
      "接下來的公眾假期：端午節, 六月25日星期四\n"
     ]
    }
   ],
   "source": [
    "month = soup.select(\"#public-holidays .month\")[0].text\n",
    "day = soup.select(\"#public-holidays .day\")[0].text\n",
    "weekday = soup.select(\"#public-holidays .weekday\")[0].text\n",
    "description = soup.select(\"#next-holiday-description strong\")[0].text\n",
    "\n",
    "print(f\"接下來的公眾假期：{description}, {month}{day}日{weekday}\")"
   ]
  },
  {
   "cell_type": "markdown",
   "metadata": {},
   "source": [
    "## A list of holidays in Macao"
   ]
  },
  {
   "cell_type": "code",
   "execution_count": 12,
   "metadata": {},
   "outputs": [
    {
     "name": "stdout",
     "output_type": "stream",
     "text": [
      "1月1日: 元旦\n",
      "1月25日: 農曆正月初一\n",
      "1月26日: 農曆正月初二\n",
      "1月27日: 農曆正月初三\n",
      "4月4日: 清明節\n",
      "4月10日: 耶穌受難日\n",
      "4月11日: 復活節前日\n",
      "4月30日: 佛誕節\n",
      "5月1日: 勞動節\n",
      "6月25日: 端午節\n",
      "10月1日: 中華人民共和國國慶日\n",
      "10月2日: 中華人民共和國國慶日翌日\n",
      "10月2日: 中秋節翌日\n",
      "10月25日: 重陽節\n",
      "11月2日: 追思節\n",
      "12月8日: 聖母無原罪瞻禮\n",
      "12月20日: 澳門特別行政區成立紀念日\n",
      "12月21日: 冬至\n",
      "12月24日: 聖誕節前日\n",
      "12月25日: 聖誕節\n"
     ]
    }
   ],
   "source": [
    "import requests\n",
    "from bs4 import BeautifulSoup\n",
    "\n",
    "response = requests.get(\"https://www.gov.mo/zh-hant/public-holidays/year-2020/\")\n",
    "soup = BeautifulSoup(response.text, \"html.parser\")\n",
    "\n",
    "tables = soup.select(\".table\")\n",
    "\n",
    "for row in tables[0].select(\"tr\"):\n",
    "    if len(row.select(\"td\")) > 0:\n",
    "        date = row.select(\"td\")[1].text\n",
    "        name = row.select(\"td\")[3].text\n",
    "        print(f\"{date}: {name}\")\n",
    "  "
   ]
  },
  {
   "cell_type": "markdown",
   "metadata": {},
   "source": [
    "Only listing obligatory holidays"
   ]
  },
  {
   "cell_type": "code",
   "execution_count": 13,
   "metadata": {},
   "outputs": [
    {
     "name": "stdout",
     "output_type": "stream",
     "text": [
      "1月1日: 元旦\n",
      "1月25日: 農曆正月初一\n",
      "1月26日: 農曆正月初二\n",
      "1月27日: 農曆正月初三\n",
      "4月4日: 清明節\n",
      "5月1日: 勞動節\n",
      "10月1日: 中華人民共和國國慶日\n",
      "10月2日: 中秋節翌日\n",
      "10月25日: 重陽節\n",
      "12月20日: 澳門特別行政區成立紀念日\n"
     ]
    }
   ],
   "source": [
    "import requests\n",
    "from bs4 import BeautifulSoup\n",
    "\n",
    "response = requests.get(\"https://www.gov.mo/zh-hant/public-holidays/year-2020/\")\n",
    "soup = BeautifulSoup(response.text, \"html.parser\")\n",
    "\n",
    "tables = soup.select(\".table\")\n",
    "\n",
    "for row in tables[0].select(\"tr\"):\n",
    "    if len(row.select(\"td\")) > 0:\n",
    "        is_obligatory = (row.select(\"td\")[0].text == \"*\")\n",
    "        if is_obligatory:\n",
    "            date = row.select(\"td\")[1].text\n",
    "            name = row.select(\"td\")[3].text\n",
    "            print(f\"{date}: {name}\")\n",
    "  "
   ]
  },
  {
   "cell_type": "markdown",
   "metadata": {},
   "source": [
    "## Is today government holiday?"
   ]
  },
  {
   "cell_type": "code",
   "execution_count": 14,
   "metadata": {},
   "outputs": [
    {
     "name": "stdout",
     "output_type": "stream",
     "text": [
      "6月22日\n",
      "今天是星期日，但不是公眾假期。\n"
     ]
    }
   ],
   "source": [
    "import requests\n",
    "from bs4 import BeautifulSoup\n",
    "import datetime\n",
    "\n",
    "# Get today's year, month and day\n",
    "today = datetime.date.today()\n",
    "year = today.year\n",
    "month = today.month\n",
    "day = today.day\n",
    "today_weekday = today.weekday()\n",
    "today_date = f\"{month}月{day}日\"\n",
    "\n",
    "\n",
    "# Fetch gov.mo\n",
    "url = f\"https://www.gov.mo/zh-hant/public-holidays/year-{year}/\"\n",
    "response = requests.get(url)\n",
    "soup = BeautifulSoup(response.text, \"html.parser\")\n",
    "\n",
    "tables = soup.select(\".table\")\n",
    "\n",
    "holidays = {}\n",
    "\n",
    "for table in tables:\n",
    "    for row in table.select(\"tr\"):\n",
    "        if len(row.select(\"td\")) > 0:    \n",
    "            date = row.select(\"td\")[1].text\n",
    "            weekday = row.select(\"td\")[2].text\n",
    "            name = row.select(\"td\")[3].text\n",
    "            holidays[date] = name\n",
    "\n",
    "\n",
    "# Query holidays\n",
    "print(today_date)\n",
    "if today_date in holidays:\n",
    "    holiday = holidays[today_date]\n",
    "    print(f\"今天是公眾假期：{holiday}\")\n",
    "elif today_weekday == 0:\n",
    "    print(\"今天是星期日，但不是公眾假期。\")\n",
    "elif today_weekday == 6:\n",
    "    print(\"今天是星期六，但不是公眾假期。\")  \n",
    "else:\n",
    "    print(\"今天不是公眾假期。\")"
   ]
  },
  {
   "cell_type": "markdown",
   "metadata": {},
   "source": [
    "Our code is getting longer now. We can group the parts of the code that fetch gov.mo into a function. We name it `is_macao_holiday` and take a date parameter."
   ]
  },
  {
   "cell_type": "code",
   "execution_count": 15,
   "metadata": {},
   "outputs": [],
   "source": [
    "def is_macao_holiday(query_date):    \n",
    "    # Fetch gov.mo\n",
    "    url = f\"https://www.gov.mo/zh-hant/public-holidays/year-{query_date.year}/\"\n",
    "    response = requests.get(url)\n",
    "    soup = BeautifulSoup(response.text, \"html.parser\")\n",
    "\n",
    "    tables = soup.select(\".table\")\n",
    "\n",
    "    holidays = {}\n",
    "\n",
    "    for table in tables:\n",
    "        for row in table.select(\"tr\"):\n",
    "            if len(row.select(\"td\")) > 0:    \n",
    "                date = row.select(\"td\")[1].text\n",
    "                weekday = row.select(\"td\")[2].text\n",
    "                name = row.select(\"td\")[3].text\n",
    "                holidays[date] = name\n",
    "\n",
    "\n",
    "    # Query holidays\n",
    "    date_key = f\"{query_date.month}月{query_date.day}日\"\n",
    "\n",
    "    if date_key in holidays:        \n",
    "        holiday = holidays[date_key]\n",
    "        print(f\"{date_key}是公眾假期：{holiday}\")\n",
    "    elif query_date.weekday() == 0:\n",
    "        print(f\"{date_key}是星期日，但不是公眾假期。\")\n",
    "    elif query_date.weekday() == 6:\n",
    "        print(f\"{date_key}是星期六，但不是公眾假期。\")  \n",
    "    else:\n",
    "        print(f\"{date_key}不是公眾假期。\")"
   ]
  },
  {
   "cell_type": "code",
   "execution_count": 11,
   "metadata": {},
   "outputs": [
    {
     "name": "stdout",
     "output_type": "stream",
     "text": [
      "6月18日不是公眾假期。\n"
     ]
    }
   ],
   "source": [
    "is_macao_holiday(datetime.date.today())"
   ]
  },
  {
   "cell_type": "markdown",
   "metadata": {},
   "source": [
    "### Picking a date other than today"
   ]
  },
  {
   "cell_type": "markdown",
   "metadata": {},
   "source": [
    "We can use parser in `dateutil` to parse a given date in string format into date format."
   ]
  },
  {
   "cell_type": "code",
   "execution_count": 12,
   "metadata": {},
   "outputs": [
    {
     "name": "stdout",
     "output_type": "stream",
     "text": [
      "1月1日是公眾假期：元旦\n"
     ]
    }
   ],
   "source": [
    "import dateutil\n",
    "date = dateutil.parser.parse(\"2020-01-01\")\n",
    "is_macao_holiday(date)"
   ]
  },
  {
   "cell_type": "code",
   "execution_count": 13,
   "metadata": {},
   "outputs": [
    {
     "name": "stdout",
     "output_type": "stream",
     "text": [
      "10月26日是公眾假期：重陽節的補假\n"
     ]
    }
   ],
   "source": [
    "import dateutil\n",
    "date = dateutil.parser.parse(\"2020-10-26\")\n",
    "is_macao_holiday(date)"
   ]
  },
  {
   "cell_type": "markdown",
   "metadata": {},
   "source": [
    "Futhermore, we can store the result in dictionary for further querying."
   ]
  },
  {
   "cell_type": "code",
   "execution_count": 16,
   "metadata": {},
   "outputs": [],
   "source": [
    "import requests\n",
    "from bs4 import BeautifulSoup\n",
    "import datetime\n",
    "\n",
    "# Get today's year, month and day\n",
    "today = datetime.date.today()\n",
    "year = today.year\n",
    "month = today.month\n",
    "day = today.day\n",
    "today_weekday = today.weekday()\n",
    "today_date = f\"{month}月{day}日\"\n",
    "\n",
    "\n",
    "# Fetch gov.mo\n",
    "url = f\"https://www.gov.mo/zh-hant/public-holidays/year-{year}/\"\n",
    "response = requests.get(url)\n",
    "soup = BeautifulSoup(response.text, \"html.parser\")\n",
    "\n",
    "tables = soup.select(\".table\")\n",
    "\n",
    "holidays = {}\n",
    "\n",
    "for table in tables:\n",
    "    for row in table.select(\"tr\"):\n",
    "        if len(row.select(\"td\")) > 0:    \n",
    "            is_obligatory = (row.select(\"td\")[0].text == \"*\")\n",
    "            date = row.select(\"td\")[1].text\n",
    "            weekday = row.select(\"td\")[2].text\n",
    "            name = row.select(\"td\")[3].text\n",
    "            holidays[date] = {\n",
    "                'date': date,\n",
    "                'weekday': weekday,\n",
    "                'name': name,\n",
    "                'is_obligatory': is_obligatory,\n",
    "            }\n",
    "\n"
   ]
  },
  {
   "cell_type": "markdown",
   "metadata": {},
   "source": [
    "The result is stored in dictionary `holidays`."
   ]
  },
  {
   "cell_type": "code",
   "execution_count": 17,
   "metadata": {},
   "outputs": [
    {
     "data": {
      "text/plain": [
       "28"
      ]
     },
     "execution_count": 17,
     "metadata": {},
     "output_type": "execute_result"
    }
   ],
   "source": [
    "len(holidays)"
   ]
  },
  {
   "cell_type": "code",
   "execution_count": 18,
   "metadata": {},
   "outputs": [
    {
     "data": {
      "text/plain": [
       "{'1月1日': {'date': '1月1日',\n",
       "  'weekday': '星期三',\n",
       "  'name': '元旦',\n",
       "  'is_obligatory': True},\n",
       " '1月25日': {'date': '1月25日',\n",
       "  'weekday': '星期六',\n",
       "  'name': '農曆正月初一',\n",
       "  'is_obligatory': True},\n",
       " '1月26日': {'date': '1月26日',\n",
       "  'weekday': '星期日',\n",
       "  'name': '農曆正月初二',\n",
       "  'is_obligatory': True},\n",
       " '1月27日': {'date': '1月27日',\n",
       "  'weekday': '星期一',\n",
       "  'name': '農曆正月初三',\n",
       "  'is_obligatory': True},\n",
       " '4月4日': {'date': '4月4日',\n",
       "  'weekday': '星期六',\n",
       "  'name': '清明節',\n",
       "  'is_obligatory': True},\n",
       " '4月10日': {'date': '4月10日',\n",
       "  'weekday': '星期五',\n",
       "  'name': '耶穌受難日',\n",
       "  'is_obligatory': False},\n",
       " '4月11日': {'date': '4月11日',\n",
       "  'weekday': '星期六',\n",
       "  'name': '復活節前日',\n",
       "  'is_obligatory': False},\n",
       " '4月30日': {'date': '4月30日',\n",
       "  'weekday': '星期四',\n",
       "  'name': '佛誕節',\n",
       "  'is_obligatory': False},\n",
       " '5月1日': {'date': '5月1日',\n",
       "  'weekday': '星期五',\n",
       "  'name': '勞動節',\n",
       "  'is_obligatory': True},\n",
       " '6月25日': {'date': '6月25日',\n",
       "  'weekday': '星期四',\n",
       "  'name': '端午節',\n",
       "  'is_obligatory': False},\n",
       " '10月1日': {'date': '10月1日',\n",
       "  'weekday': '星期四',\n",
       "  'name': '中華人民共和國國慶日',\n",
       "  'is_obligatory': True},\n",
       " '10月2日': {'date': '10月2日',\n",
       "  'weekday': '星期五',\n",
       "  'name': '中秋節翌日',\n",
       "  'is_obligatory': True},\n",
       " '10月25日': {'date': '10月25日',\n",
       "  'weekday': '星期日',\n",
       "  'name': '重陽節',\n",
       "  'is_obligatory': True},\n",
       " '11月2日': {'date': '11月2日',\n",
       "  'weekday': '星期一',\n",
       "  'name': '追思節',\n",
       "  'is_obligatory': False},\n",
       " '12月8日': {'date': '12月8日',\n",
       "  'weekday': '星期二',\n",
       "  'name': '聖母無原罪瞻禮',\n",
       "  'is_obligatory': False},\n",
       " '12月20日': {'date': '12月20日',\n",
       "  'weekday': '星期日',\n",
       "  'name': '澳門特別行政區成立紀念日',\n",
       "  'is_obligatory': True},\n",
       " '12月21日': {'date': '12月21日',\n",
       "  'weekday': '星期一',\n",
       "  'name': '冬至',\n",
       "  'is_obligatory': False},\n",
       " '12月24日': {'date': '12月24日',\n",
       "  'weekday': '星期四',\n",
       "  'name': '聖誕節前日',\n",
       "  'is_obligatory': False},\n",
       " '12月25日': {'date': '12月25日',\n",
       "  'weekday': '星期五',\n",
       "  'name': '聖誕節',\n",
       "  'is_obligatory': False},\n",
       " '1月24日（下午）': {'date': '1月24日（下午）',\n",
       "  'weekday': '星期五',\n",
       "  'name': '農曆除夕',\n",
       "  'is_obligatory': False},\n",
       " '10月5日': {'date': '10月5日',\n",
       "  'weekday': '星期一',\n",
       "  'name': '中華人民共和國國慶日翌日及中秋節翌日重疊',\n",
       "  'is_obligatory': False},\n",
       " '12月31日（下午）': {'date': '12月31日（下午）',\n",
       "  'weekday': '星期四',\n",
       "  'name': '除夕',\n",
       "  'is_obligatory': False},\n",
       " '1月28日': {'date': '1月28日',\n",
       "  'weekday': '星期二',\n",
       "  'name': '農曆正月初一的補假',\n",
       "  'is_obligatory': False},\n",
       " '1月29日': {'date': '1月29日',\n",
       "  'weekday': '星期三',\n",
       "  'name': '農曆正月初二的補假',\n",
       "  'is_obligatory': False},\n",
       " '4月6日': {'date': '4月6日',\n",
       "  'weekday': '星期一',\n",
       "  'name': '清明節的補假',\n",
       "  'is_obligatory': False},\n",
       " '4月13日': {'date': '4月13日',\n",
       "  'weekday': '星期一',\n",
       "  'name': '復活節前日的補假',\n",
       "  'is_obligatory': False},\n",
       " '10月26日': {'date': '10月26日',\n",
       "  'weekday': '星期一',\n",
       "  'name': '重陽節的補假',\n",
       "  'is_obligatory': False},\n",
       " '12月22日': {'date': '12月22日',\n",
       "  'weekday': '星期二',\n",
       "  'name': '澳門特別行政區成立紀念日的補假',\n",
       "  'is_obligatory': False}}"
      ]
     },
     "execution_count": 18,
     "metadata": {},
     "output_type": "execute_result"
    }
   ],
   "source": [
    "holidays"
   ]
  },
  {
   "cell_type": "code",
   "execution_count": 19,
   "metadata": {},
   "outputs": [
    {
     "name": "stdout",
     "output_type": "stream",
     "text": [
      "6月22日\n",
      "今天是星期日，但不是公眾假期。\n"
     ]
    }
   ],
   "source": [
    "# Query holidays\n",
    "print(today_date)\n",
    "if today_date in holidays:\n",
    "    holiday = holidays[today_date]\n",
    "    if holiday['is_obligatory']:\n",
    "        print(f\"今天是強制公眾假期：{holiday['name']}\")\n",
    "    else:\n",
    "        print(f\"今天是公眾假期：{holiday['name']}\")\n",
    "elif today_weekday == 0:\n",
    "    print(\"今天是星期日，但不是公眾假期。\")\n",
    "elif today_weekday == 6:\n",
    "    print(\"今天是星期六，但不是公眾假期。\")  \n",
    "else:\n",
    "    print(\"今天不是公眾假期。\")"
   ]
  },
  {
   "cell_type": "markdown",
   "metadata": {},
   "source": [
    "## Summary\n",
    "\n",
    "In this lesson, we learned about using BeautifulSoup to extract data from the web."
   ]
  }
 ],
 "metadata": {
  "kernelspec": {
   "display_name": "Python 3",
   "language": "python",
   "name": "python3"
  },
  "language_info": {
   "codemirror_mode": {
    "name": "ipython",
    "version": 3
   },
   "file_extension": ".py",
   "mimetype": "text/x-python",
   "name": "python",
   "nbconvert_exporter": "python",
   "pygments_lexer": "ipython3",
   "version": "3.7.6"
  }
 },
 "nbformat": 4,
 "nbformat_minor": 4
}
