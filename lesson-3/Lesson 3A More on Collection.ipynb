{
 "cells": [
  {
   "cell_type": "markdown",
   "metadata": {},
   "source": [
    "# Lecture 3A: Quotes example: More examples on using collection"
   ]
  },
  {
   "cell_type": "markdown",
   "metadata": {},
   "source": [
    "Version 1.0. Prepared by [Makzan](https://makzan.net)."
   ]
  },
  {
   "cell_type": "markdown",
   "metadata": {},
   "source": [
    "In this example, we explore different ways to store multiple- collections. They are:\n",
    "\n",
    "- [List/Tuple with string spliting](#List-and-tuple)\n",
    "- [Nested List/Tuple](#Nested-list/tuple)\n",
    "- [Dictionary](#Using-Dictionary)\n",
    "- [namedtuple](#Using-namedtuple)"
   ]
  },
  {
   "cell_type": "markdown",
   "metadata": {},
   "source": [
    "## List and tuple\n",
    "\n",
    "If we do not need to separate the multiple columns, we dont necessary need to separate them.\n",
    "\n",
    "\n",
    "A list simply fulfils the job:"
   ]
  },
  {
   "cell_type": "code",
   "execution_count": 1,
   "metadata": {},
   "outputs": [
    {
     "name": "stdout",
     "output_type": "stream",
     "text": [
      "There are two ways of spreading light: to be the candle or the mirror that reflects it.—Edith Wharton\n"
     ]
    }
   ],
   "source": [
    "import random\n",
    "\n",
    "quotes = (\n",
    "    \"I want to put a ding in the universe.—Steve Jobs\",\n",
    "    \"Life is 10% what happens to you and 90% how you react to it.—Charles R. Swindoll\",\n",
    "    \"Family is not an important thing. It's everything.—Michael J. Fox\",\n",
    "    \"Nothing is impossible, the word itself says 'I'm possible'!—Audrey Hepburn\",\n",
    "    \"There are two ways of spreading light: to be the candle or the mirror that reflects it.—Edith Wharton\",\n",
    "    \"Try to be a rainbow in someone's cloud.—Maya Angelou\",\n",
    "    \"Be brave enough to live life creatively. The creative place where no one else has ever been.—Alan Alda\",\n",
    "    \"The secret of getting ahead is getting started.—Mark Twain\",\n",
    ")\n",
    "\n",
    "print( random.choice(quotes) )"
   ]
  },
  {
   "cell_type": "markdown",
   "metadata": {},
   "source": [
    "## Using string split"
   ]
  },
  {
   "cell_type": "markdown",
   "metadata": {},
   "source": [
    "Given that the data is only a list of string. Each string contains two data: the quote content and who was saying that. They are separated by a dash `—`.\n",
    "\n",
    "We can use `split()` to split any string by given \"separator\".\n",
    "\n",
    "For instance, we can use `split(\"—\")`."
   ]
  },
  {
   "cell_type": "code",
   "execution_count": 2,
   "metadata": {},
   "outputs": [
    {
     "name": "stdout",
     "output_type": "stream",
     "text": [
      "Steve Jobs said: I want to put a ding in the universe.\n"
     ]
    }
   ],
   "source": [
    "import random \n",
    "\n",
    "quotes = (\n",
    "    \"I want to put a ding in the universe.—Steve Jobs\",\n",
    "    \"Life is 10% what happens to you and 90% how you react to it.—Charles R. Swindoll\",\n",
    "    \"Family is not an important thing. It's everything.—Michael J. Fox\",\n",
    "    \"Nothing is impossible, the word itself says 'I'm possible'!—Audrey Hepburn\",\n",
    "    \"There are two ways of spreading light: to be the candle or the mirror that reflects it.—Edith Wharton\",\n",
    "    \"Try to be a rainbow in someone's cloud.—Maya Angelou\",\n",
    "    \"Be brave enough to live life creatively. The creative place where no one else has ever been.—Alan Alda\",\n",
    "    \"The secret of getting ahead is getting started.—Mark Twain\",\n",
    ")\n",
    "\n",
    "quote = random.choice(quotes).split(\"—\")\n",
    "\n",
    "print(f'{quote[1]} said: {quote[0]}')"
   ]
  },
  {
   "cell_type": "markdown",
   "metadata": {},
   "source": [
    "Line splitting may be used often when we cannot control the data source. Here is the pros and cons of using string splitting:\n",
    "\n",
    "Pros:\n",
    "\n",
    "- Simple data structure\n",
    "\n",
    "Cons:\n",
    "\n",
    "- Separating the columns relies on the content. If there is more than one dash in the string, the logic breaks.\n",
    "\n"
   ]
  },
  {
   "cell_type": "markdown",
   "metadata": {},
   "source": [
    "## Aside: Joining string together\n",
    "\n",
    "We can split string by using `split`. On the other hand, we can merge a list "
   ]
  },
  {
   "cell_type": "code",
   "execution_count": 2,
   "metadata": {},
   "outputs": [
    {
     "data": {
      "text/plain": [
       "['Steven said', 'Hello World']"
      ]
     },
     "execution_count": 2,
     "metadata": {},
     "output_type": "execute_result"
    }
   ],
   "source": [
    "string = \"Steven said: Hello World\"\n",
    "\n",
    "string.split(\": \")"
   ]
  },
  {
   "cell_type": "code",
   "execution_count": 1,
   "metadata": {},
   "outputs": [
    {
     "data": {
      "text/plain": [
       "'Steven said: Hello World'"
      ]
     },
     "execution_count": 1,
     "metadata": {},
     "output_type": "execute_result"
    }
   ],
   "source": [
    "sample_list = ['Steven said', 'Hello World']\n",
    "\n",
    "\": \".join(sample_list)"
   ]
  },
  {
   "cell_type": "markdown",
   "metadata": {},
   "source": [
    "## Nested list/tuple"
   ]
  },
  {
   "cell_type": "code",
   "execution_count": 3,
   "metadata": {},
   "outputs": [
    {
     "name": "stdout",
     "output_type": "stream",
     "text": [
      "Edith Wharton said: There are two ways of spreading light: to be the candle or the mirror that reflects it.\n"
     ]
    }
   ],
   "source": [
    "import random\n",
    "\n",
    "\n",
    "quotes = (\n",
    "            (\"I want to put a ding in the universe.\", \"Steve Jobs\"),\n",
    "            (\"Life is 10% what happens to you and 90% how you react to it.\", \"Charles R. Swindoll\"),\n",
    "            (\"Family is not an important thing. It's everything.\", \"Michael J. Fox\"),\n",
    "            (\"Nothing is impossible, the word itself says 'I'm possible'!\", \"Audrey Hepburn\"),\n",
    "            (\"There are two ways of spreading light: to be the candle or the mirror that reflects it.\", \"Edith Wharton\"),\n",
    "            (\"Try to be a rainbow in someone's cloud.\", \"Maya Angelou\"),\n",
    "            (\"Be brave enough to live life creatively. The creative place where no one else has ever been.\", \"Alan Alda\"),\n",
    "            (\"The secret of getting ahead is getting started.\", \"Mark Twain\"),\n",
    "        )\n",
    "\n",
    "quote = random.choice(quotes)\n",
    "\n",
    "print(f'{quote[1]} said: {quote[0]}')"
   ]
  },
  {
   "cell_type": "markdown",
   "metadata": {},
   "source": [
    "Pros and cons of nested list\n",
    "\n",
    "Pros:\n",
    "\n",
    "- We often meet this format when reading CSV or tabular data from external sources/files.\n",
    "- Quite easy to use\n",
    "- Separation not related to the content.\n",
    "\n",
    "Cons:\n",
    "\n",
    "- Correctness depends on the order of the list items."
   ]
  },
  {
   "cell_type": "markdown",
   "metadata": {},
   "source": [
    "## Using Dictionary"
   ]
  },
  {
   "cell_type": "code",
   "execution_count": 4,
   "metadata": {},
   "outputs": [
    {
     "name": "stdout",
     "output_type": "stream",
     "text": [
      "Mark Twain said: The secret of getting ahead is getting started.\n"
     ]
    }
   ],
   "source": [
    "import random\n",
    "\n",
    "quotes = (\n",
    "    {\"quote\":\"I want to put a ding in the universe.\", \"source\":\"Steve Jobs\"},\n",
    "    {\"quote\":\"Life is 10% what happens to you and 90% how you react to it.\", \"source\":\"Charles R. Swindoll\"},\n",
    "    {\"quote\":\"Family is not an important thing. It's everything.\", \"source\":\"Michael J. Fox\"},\n",
    "    {\"quote\":\"Nothing is impossible, the word itself says 'I'm possible'!\", \"source\":\"Audrey Hepburn\"},\n",
    "    {\"quote\":\"There are two ways of spreading light: to be the candle or the mirror that reflects it.\", \"source\":\"Edith Wharton\"},\n",
    "    {\"quote\":\"Try to be a rainbow in someone's cloud.\", \"source\":\"Maya Angelou\"},\n",
    "    {\"quote\":\"Be brave enough to live life creatively. The creative place where no one else has ever been.\", \"source\":\"Alan Alda\"},\n",
    "    {\"quote\":\"The secret of getting ahead is getting started.\", \"source\":\"Mark Twain\"},\n",
    ")\n",
    "\n",
    "quote = random.choice(quotes)\n",
    "content = quote[\"quote\"]\n",
    "source = quote[\"source\"]\n",
    "\n",
    "print(f'{source} said: {content}')"
   ]
  },
  {
   "cell_type": "markdown",
   "metadata": {},
   "source": [
    "Pros and cons of using dictionary:\n",
    "\n",
    "Pros:\n",
    "\n",
    "- Using key instead of order to improve code readability\n",
    "- Easier to maintain\n",
    "\n",
    "Cons:\n",
    "\n",
    "- A typo in the key may causes error that is not easily identifiable.\n",
    "\n"
   ]
  },
  {
   "cell_type": "markdown",
   "metadata": {},
   "source": [
    "## Using namedtuple"
   ]
  },
  {
   "cell_type": "code",
   "execution_count": 5,
   "metadata": {},
   "outputs": [
    {
     "name": "stdout",
     "output_type": "stream",
     "text": [
      "Alan Alda said: Be brave enough to live life creatively. The creative place where no one else has ever been.\n"
     ]
    }
   ],
   "source": [
    "import random\n",
    "from collections import namedtuple\n",
    "\n",
    "Quote = namedtuple(\"Quote\", \"content, source\")\n",
    "\n",
    "quotes = (\n",
    "    Quote(content=\"I want to put a ding in the universe.\", source=\"Steve Jobs\"),\n",
    "    Quote(content=\"Life is 10% what happens to you and 90% how you react to it.\", source=\"Charles R. Swindoll\"),\n",
    "    Quote(content=\"Family is not an important thing. It's everything.\", source=\"Michael J. Fox\"),\n",
    "    Quote(content=\"Nothing is impossible, the word itself says 'I'm possible'!\", source=\"Audrey Hepburn\"),\n",
    "    Quote(content=\"There are two ways of spreading light: to be the candle or the mirror that reflects it.\", source=\"Edith Wharton\"),\n",
    "    Quote(content=\"Try to be a rainbow in someone's cloud.\", source=\"Maya Angelou\"),\n",
    "    Quote(content=\"Be brave enough to live life creatively. The creative place where no one else has ever been.\", source=\"Alan Alda\"),\n",
    "    Quote(content=\"The secret of getting ahead is getting started.\", source=\"Mark Twain\"),\n",
    ")\n",
    "\n",
    "quote = random.choice(quotes)\n",
    "print(f'{quote.source} said: {quote.content}')"
   ]
  },
  {
   "cell_type": "markdown",
   "metadata": {},
   "source": [
    "Pros and cons of using namedtuple\n",
    "\n",
    "Pros\n",
    "\n",
    "- The column named is pre-defined, so the usage is predictable.\n",
    "- Typos will raise error at runtime, so it is easy to be identifiable.\n",
    "- Using column name instead of order to improve code readability\n",
    "\n",
    "Cons\n",
    "\n",
    "- Less flexible than the previous solutions"
   ]
  },
  {
   "cell_type": "markdown",
   "metadata": {},
   "source": [
    "## Summary\n",
    "\n",
    "In this section, we explored different way to store multi-columns data. It includes:\n",
    "\n",
    "- List/tuple\n",
    "- Nested list/tuple\n",
    "- Dictionary\n",
    "- namedtuple\n",
    "\n",
    "In future, we will further use pandas DataFrame and reading data from CSV and Excel for tabular data."
   ]
  }
 ],
 "metadata": {
  "kernelspec": {
   "display_name": "Python 3",
   "language": "python",
   "name": "python3"
  },
  "language_info": {
   "codemirror_mode": {
    "name": "ipython",
    "version": 3
   },
   "file_extension": ".py",
   "mimetype": "text/x-python",
   "name": "python",
   "nbconvert_exporter": "python",
   "pygments_lexer": "ipython3",
   "version": "3.7.1"
  }
 },
 "nbformat": 4,
 "nbformat_minor": 2
}
