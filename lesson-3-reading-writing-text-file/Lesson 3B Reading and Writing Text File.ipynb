{
 "cells": [
  {
   "cell_type": "markdown",
   "metadata": {},
   "source": [
    "# Lecture 3—File Reading and Writing"
   ]
  },
  {
   "cell_type": "markdown",
   "metadata": {},
   "source": [
    "In this lecture, we will explore reading and writing plain text files.\n",
    "\n",
    "We will learn:\n",
    "\n",
    "- [Read TXT file](#Reading-plain-text-file)\n",
    "- [Read CSV file](#Reading-CSV-file)\n",
    "- [Write TXT file](#Example-of-writing-plain-text-file:-Diary-logging)\n",
    "- [Write DOCX file](#Writing-DOCX)\n",
    "- [Reading paragraphs in DOCX file](#Reading-DOCX-file)\n",
    "- [Reading table of data in DOCX file](#Reading-tables-in-DOCX-file)\n",
    "- [Optional: Zipping mutliple columns into nested list](#Optional:-Zipping-multiple-list-into-a-multi-columns-list)\n",
    "- [Optional: Using pandas DataFrame](#Optional:-Converting-the-multi-columns-list-into-pandas-DataFrame)\n",
    "- [Optional: Process text using regular expression](#Optional:-Process-Text-with-Regular-Expression)\n",
    "- [Optional: Combining DataFrame and Regex](#Optional:-Combining-DataFrame-and-Regex)"
   ]
  },
  {
   "cell_type": "markdown",
   "metadata": {},
   "source": [
    "## Reading plain text file"
   ]
  },
  {
   "cell_type": "markdown",
   "metadata": {},
   "source": [
    "We can use `open()` to read and write plain text file. There are 3 modes when opening a file: \n",
    "\n",
    "- `r` for reading.\n",
    "- `w` for over-writing.\n",
    "- `a` for appending."
   ]
  },
  {
   "cell_type": "code",
   "execution_count": 22,
   "metadata": {
    "scrolled": false
   },
   "outputs": [
    {
     "data": {
      "text/plain": [
       "['I want to put a ding in the universe.—Steve Jobs',\n",
       " 'Life is 10% what happens to you and 90% how you react to it.—Charles R. Swindoll',\n",
       " \"Family is not an important thing. It's everything.—Michael J. Fox\",\n",
       " \"Nothing is impossible, the word itself says 'I'm possible'!—Audrey Hepburn\",\n",
       " 'There are two ways of spreading light: to be the candle or the mirror that reflects it.—Edith Wharton',\n",
       " \"Try to be a rainbow in someone's cloud.—Maya Angelou\",\n",
       " 'Be brave enough to live life creatively. The creative place where no one else has ever been.—Alan Alda',\n",
       " 'The secret of getting ahead is getting started.—Mark Twain']"
      ]
     },
     "execution_count": 22,
     "metadata": {},
     "output_type": "execute_result"
    }
   ],
   "source": [
    "with open(\"quotes.txt\") as file_obj:\n",
    "    quotes = file_obj.read().splitlines()\n",
    "    \n",
    "quotes"
   ]
  },
  {
   "cell_type": "code",
   "execution_count": 2,
   "metadata": {},
   "outputs": [
    {
     "name": "stdout",
     "output_type": "stream",
     "text": [
      "There are two ways of spreading light: to be the candle or the mirror that reflects it.—Edith Wharton\n"
     ]
    }
   ],
   "source": [
    "import random\n",
    "\n",
    "quote = random.choice(quotes)\n",
    "\n",
    "print(quote)"
   ]
  },
  {
   "cell_type": "markdown",
   "metadata": {},
   "source": [
    "## Reading CSV file"
   ]
  },
  {
   "cell_type": "markdown",
   "metadata": {},
   "source": [
    "We can further improve the storage by using CSV file format."
   ]
  },
  {
   "cell_type": "code",
   "execution_count": 3,
   "metadata": {},
   "outputs": [
    {
     "name": "stdout",
     "output_type": "stream",
     "text": [
      "['I want to put a ding in the universe.', 'Steve Jobs']\n",
      "['Life is 10% what happens to you and 90% how you react to it.', 'Charles R. Swindoll']\n",
      "[\"Family is not an important thing. It's everything.\", 'Michael J. Fox']\n",
      "[\"Nothing is impossible,the word itself says 'I'm possible'!\", 'Audrey Hepburn']\n",
      "['There are two ways of spreading light: to be the candle or the mirror that reflects it.', 'Edith Wharton']\n",
      "[\"Try to be a rainbow in someone's cloud.\", 'Maya Angelou']\n",
      "['Be brave enough to live life creatively. The creative place where no one else has ever been.', 'Alan Alda']\n",
      "['The secret of getting ahead is getting started.', 'Mark Twain']\n"
     ]
    }
   ],
   "source": [
    "import csv\n",
    "\n",
    "with open(\"quotes.csv\") as file_obj:\n",
    "    csv_reader = csv.reader(file_obj)\n",
    "    for line in csv_reader:\n",
    "        print(line)"
   ]
  },
  {
   "cell_type": "markdown",
   "metadata": {},
   "source": [
    "## Preview of using Pandas to read CSV file\n",
    "\n",
    "When using Pandas, we can read the CSV file into `DataFrame`."
   ]
  },
  {
   "cell_type": "code",
   "execution_count": 4,
   "metadata": {},
   "outputs": [
    {
     "data": {
      "text/html": [
       "<div>\n",
       "<style scoped>\n",
       "    .dataframe tbody tr th:only-of-type {\n",
       "        vertical-align: middle;\n",
       "    }\n",
       "\n",
       "    .dataframe tbody tr th {\n",
       "        vertical-align: top;\n",
       "    }\n",
       "\n",
       "    .dataframe thead th {\n",
       "        text-align: right;\n",
       "    }\n",
       "</style>\n",
       "<table border=\"1\" class=\"dataframe\">\n",
       "  <thead>\n",
       "    <tr style=\"text-align: right;\">\n",
       "      <th></th>\n",
       "      <th>I want to put a ding in the universe.</th>\n",
       "      <th>Steve Jobs</th>\n",
       "    </tr>\n",
       "  </thead>\n",
       "  <tbody>\n",
       "    <tr>\n",
       "      <th>0</th>\n",
       "      <td>Life is 10% what happens to you and 90% how yo...</td>\n",
       "      <td>Charles R. Swindoll</td>\n",
       "    </tr>\n",
       "    <tr>\n",
       "      <th>1</th>\n",
       "      <td>Family is not an important thing. It's everyth...</td>\n",
       "      <td>Michael J. Fox</td>\n",
       "    </tr>\n",
       "    <tr>\n",
       "      <th>2</th>\n",
       "      <td>Nothing is impossible,the word itself says 'I'...</td>\n",
       "      <td>Audrey Hepburn</td>\n",
       "    </tr>\n",
       "    <tr>\n",
       "      <th>3</th>\n",
       "      <td>There are two ways of spreading light: to be t...</td>\n",
       "      <td>Edith Wharton</td>\n",
       "    </tr>\n",
       "    <tr>\n",
       "      <th>4</th>\n",
       "      <td>Try to be a rainbow in someone's cloud.</td>\n",
       "      <td>Maya Angelou</td>\n",
       "    </tr>\n",
       "    <tr>\n",
       "      <th>5</th>\n",
       "      <td>Be brave enough to live life creatively. The c...</td>\n",
       "      <td>Alan Alda</td>\n",
       "    </tr>\n",
       "    <tr>\n",
       "      <th>6</th>\n",
       "      <td>The secret of getting ahead is getting started.</td>\n",
       "      <td>Mark Twain</td>\n",
       "    </tr>\n",
       "  </tbody>\n",
       "</table>\n",
       "</div>"
      ],
      "text/plain": [
       "               I want to put a ding in the universe.           Steve Jobs\n",
       "0  Life is 10% what happens to you and 90% how yo...  Charles R. Swindoll\n",
       "1  Family is not an important thing. It's everyth...       Michael J. Fox\n",
       "2  Nothing is impossible,the word itself says 'I'...       Audrey Hepburn\n",
       "3  There are two ways of spreading light: to be t...        Edith Wharton\n",
       "4            Try to be a rainbow in someone's cloud.         Maya Angelou\n",
       "5  Be brave enough to live life creatively. The c...            Alan Alda\n",
       "6    The secret of getting ahead is getting started.           Mark Twain"
      ]
     },
     "execution_count": 4,
     "metadata": {},
     "output_type": "execute_result"
    }
   ],
   "source": [
    "import pandas as pd\n",
    "\n",
    "pd.read_csv(\"quotes.csv\")"
   ]
  },
  {
   "cell_type": "markdown",
   "metadata": {},
   "source": [
    "## Example of writing plain text file: Diary logging\n"
   ]
  },
  {
   "cell_type": "code",
   "execution_count": 5,
   "metadata": {},
   "outputs": [
    {
     "name": "stdout",
     "output_type": "stream",
     "text": [
      "What do you want to say to Mr. Diary? Hello\n",
      "2020-06-10: Hello\n",
      "2020-06-10: Hello\n",
      "2020-06-11: Hello\n"
     ]
    }
   ],
   "source": [
    "import datetime\n",
    "\n",
    "content = input(\"What do you want to say to Mr. Diary? \")\n",
    "if len(content) > 0:\n",
    "    with open('diary.txt', \"a\") as file_obj:\n",
    "        today = str(datetime.date.today())\n",
    "        file_obj.write(today + \": \" + content + \"\\n\")\n",
    "\n",
    "with open('diary.txt', \"r\") as file_obj:\n",
    "    lines = file_obj.readlines()\n",
    "    for line in lines[-3:]:\n",
    "        print(line.rstrip())\n"
   ]
  },
  {
   "cell_type": "markdown",
   "metadata": {},
   "source": [
    "## Writing DOCX\n",
    "\n",
    "We can use `python-docx` module to write content to DOCX.\n",
    "\n",
    "First, we need to install the module by calling `pip install python-docx` once in terminal or in Jupyter."
   ]
  },
  {
   "cell_type": "code",
   "execution_count": 6,
   "metadata": {},
   "outputs": [
    {
     "name": "stdout",
     "output_type": "stream",
     "text": [
      "Requirement already satisfied: python-docx in /private/var/mobile/Containers/Data/Application/8F879E4C-8D79-4BDE-8FB3-2E6B2D2BD6C6/Library/lib/python3.7/site-packages (0.8.10)\n",
      "Requirement already satisfied: lxml>=2.3.2 in /private/var/mobile/Containers/Data/Application/8F879E4C-8D79-4BDE-8FB3-2E6B2D2BD6C6/Library/lib/python3.7/site-packages/lxml-4.4.2-py3.7-macosx-10.9-x86_64.egg (from python-docx) (4.4.2)\n",
      "Note: you may need to restart the kernel to use updated packages.\n"
     ]
    }
   ],
   "source": [
    "pip install python-docx"
   ]
  },
  {
   "cell_type": "code",
   "execution_count": 7,
   "metadata": {},
   "outputs": [
    {
     "name": "stdout",
     "output_type": "stream",
     "text": [
      "What do you want to say to Mr. Diary? Hello\n",
      "Hello is written to diary.docx\n"
     ]
    }
   ],
   "source": [
    "import datetime\n",
    "import docx\n",
    "import os\n",
    "\n",
    "content = input(\"What do you want to say to Mr. Diary? \")\n",
    "if len(content) > 0:\n",
    "    with open('diary.txt', \"a\") as file_obj:\n",
    "        today = str(datetime.date.today())\n",
    "        file_obj.write(today + \": \" + content + \"\\n\")\n",
    "\n",
    "if os.path.isfile(\"diary.docx\"):\n",
    "    doc = docx.Document(\"diary.docx\")\n",
    "else:\n",
    "    doc = docx.Document()\n",
    "doc.add_paragraph(content)\n",
    "doc.save(\"diary.docx\")\n",
    "    \n",
    "print(f\"{content} is written to diary.docx\")"
   ]
  },
  {
   "cell_type": "markdown",
   "metadata": {},
   "source": [
    "## Reading DOCX file\n",
    "\n",
    "Given that we have a DOCX file named `Sample Document.docx`. We can read all the paragrahs in the DOCX file."
   ]
  },
  {
   "cell_type": "code",
   "execution_count": 8,
   "metadata": {},
   "outputs": [],
   "source": [
    "import docx\n",
    "\n",
    "doc = docx.Document(\"Sample Document.docx\")"
   ]
  },
  {
   "cell_type": "code",
   "execution_count": 9,
   "metadata": {},
   "outputs": [
    {
     "name": "stdout",
     "output_type": "stream",
     "text": [
      "Sample Document\n",
      "\n",
      "This is a sample paragraph.\n",
      "\n",
      "This is the second paragraph.\n",
      "\n",
      "Here is the result\n",
      "\n",
      "Summary\n",
      "\n",
      "This is the summary of the sample report document.\n"
     ]
    }
   ],
   "source": [
    "for paragraph in doc.paragraphs:\n",
    "    print(paragraph.text)"
   ]
  },
  {
   "cell_type": "markdown",
   "metadata": {},
   "source": [
    "## Reading tables in DOCX file"
   ]
  },
  {
   "cell_type": "markdown",
   "metadata": {},
   "source": [
    "We can also read the tables and the content."
   ]
  },
  {
   "cell_type": "code",
   "execution_count": 10,
   "metadata": {},
   "outputs": [
    {
     "data": {
      "text/plain": [
       "[<docx.table.Table at 0x1385d0f60>]"
      ]
     },
     "execution_count": 10,
     "metadata": {},
     "output_type": "execute_result"
    }
   ],
   "source": [
    "doc.tables"
   ]
  },
  {
   "cell_type": "markdown",
   "metadata": {},
   "source": [
    "The following code read the data row by row into 3 lists: `dates`, `morning_visitors`, `evening_visitors`."
   ]
  },
  {
   "cell_type": "code",
   "execution_count": 11,
   "metadata": {},
   "outputs": [
    {
     "data": {
      "text/plain": [
       "['2020-06-01',\n",
       " '2020-06-02',\n",
       " '2020-06-03',\n",
       " '2020-06-04',\n",
       " '2020-06-05',\n",
       " '2020-06-06',\n",
       " '2020-06-07']"
      ]
     },
     "execution_count": 11,
     "metadata": {},
     "output_type": "execute_result"
    }
   ],
   "source": [
    "table = doc.tables[0]\n",
    "\n",
    "dates = []\n",
    "morning_visitors = []\n",
    "evening_visitors = []\n",
    "\n",
    "for row in table.rows[1:]:\n",
    "    dates.append(row.cells[0].text)\n",
    "    morning_visitors.append(int(row.cells[1].text))\n",
    "    evening_visitors.append(int(row.cells[2].text))\n",
    "\n",
    "dates"
   ]
  },
  {
   "cell_type": "code",
   "execution_count": 12,
   "metadata": {},
   "outputs": [
    {
     "data": {
      "text/plain": [
       "[23, 25, 24, 26, 25, 24, 23]"
      ]
     },
     "execution_count": 12,
     "metadata": {},
     "output_type": "execute_result"
    }
   ],
   "source": [
    "morning_visitors"
   ]
  },
  {
   "cell_type": "code",
   "execution_count": 13,
   "metadata": {},
   "outputs": [
    {
     "data": {
      "text/plain": [
       "170"
      ]
     },
     "execution_count": 13,
     "metadata": {},
     "output_type": "execute_result"
    }
   ],
   "source": [
    "sum(morning_visitors)"
   ]
  },
  {
   "cell_type": "code",
   "execution_count": 14,
   "metadata": {},
   "outputs": [
    {
     "data": {
      "text/plain": [
       "[17, 16, 16, 15, 16, 17, 18]"
      ]
     },
     "execution_count": 14,
     "metadata": {},
     "output_type": "execute_result"
    }
   ],
   "source": [
    "evening_visitors"
   ]
  },
  {
   "cell_type": "code",
   "execution_count": 15,
   "metadata": {},
   "outputs": [
    {
     "data": {
      "text/plain": [
       "285"
      ]
     },
     "execution_count": 15,
     "metadata": {},
     "output_type": "execute_result"
    }
   ],
   "source": [
    "sum(morning_visitors) + sum(evening_visitors)"
   ]
  },
  {
   "cell_type": "markdown",
   "metadata": {},
   "source": [
    "## Optional: Zipping multiple-list into a multi-columns list"
   ]
  },
  {
   "cell_type": "markdown",
   "metadata": {},
   "source": [
    "The following section about zipping and data frame is a preview of data processing. We will go through detail usage of pandas and data frame in lecture 8."
   ]
  },
  {
   "cell_type": "markdown",
   "metadata": {},
   "source": [
    "Have 3 separated lists for the same purpose of data makes it hard to maintain. Usually we want to have a tabular data to hold all related data into rows and columns."
   ]
  },
  {
   "cell_type": "code",
   "execution_count": 16,
   "metadata": {},
   "outputs": [
    {
     "data": {
      "text/plain": [
       "[('2020-06-01', 23, 17),\n",
       " ('2020-06-02', 25, 16),\n",
       " ('2020-06-03', 24, 16),\n",
       " ('2020-06-04', 26, 15),\n",
       " ('2020-06-05', 25, 16),\n",
       " ('2020-06-06', 24, 17),\n",
       " ('2020-06-07', 23, 18)]"
      ]
     },
     "execution_count": 16,
     "metadata": {},
     "output_type": "execute_result"
    }
   ],
   "source": [
    "zipped_list = list(zip(dates, morning_visitors, evening_visitors))\n",
    "\n",
    "zipped_list"
   ]
  },
  {
   "cell_type": "code",
   "execution_count": 17,
   "metadata": {},
   "outputs": [
    {
     "data": {
      "text/plain": [
       "('2020-06-04', 26, 15)"
      ]
     },
     "execution_count": 17,
     "metadata": {},
     "output_type": "execute_result"
    }
   ],
   "source": [
    "zipped_list[3]"
   ]
  },
  {
   "cell_type": "markdown",
   "metadata": {},
   "source": [
    "## Optional: Converting the multi-columns list into pandas DataFrame"
   ]
  },
  {
   "cell_type": "markdown",
   "metadata": {},
   "source": [
    "We will learn pandas and DataFrame in lecture 8. But let’s have a glimpse on how we can process multi-columns of data in handy way by using it."
   ]
  },
  {
   "cell_type": "code",
   "execution_count": 18,
   "metadata": {},
   "outputs": [],
   "source": [
    "import pandas as pd\n",
    "\n",
    "df = pd.DataFrame(zipped_list, columns=['Date', 'Morning Visitors', 'Evening Visitors'])"
   ]
  },
  {
   "cell_type": "code",
   "execution_count": 19,
   "metadata": {},
   "outputs": [
    {
     "data": {
      "text/html": [
       "<div>\n",
       "<style scoped>\n",
       "    .dataframe tbody tr th:only-of-type {\n",
       "        vertical-align: middle;\n",
       "    }\n",
       "\n",
       "    .dataframe tbody tr th {\n",
       "        vertical-align: top;\n",
       "    }\n",
       "\n",
       "    .dataframe thead th {\n",
       "        text-align: right;\n",
       "    }\n",
       "</style>\n",
       "<table border=\"1\" class=\"dataframe\">\n",
       "  <thead>\n",
       "    <tr style=\"text-align: right;\">\n",
       "      <th></th>\n",
       "      <th>Date</th>\n",
       "      <th>Morning Visitors</th>\n",
       "      <th>Evening Visitors</th>\n",
       "    </tr>\n",
       "  </thead>\n",
       "  <tbody>\n",
       "    <tr>\n",
       "      <th>0</th>\n",
       "      <td>2020-06-01</td>\n",
       "      <td>23</td>\n",
       "      <td>17</td>\n",
       "    </tr>\n",
       "    <tr>\n",
       "      <th>1</th>\n",
       "      <td>2020-06-02</td>\n",
       "      <td>25</td>\n",
       "      <td>16</td>\n",
       "    </tr>\n",
       "    <tr>\n",
       "      <th>2</th>\n",
       "      <td>2020-06-03</td>\n",
       "      <td>24</td>\n",
       "      <td>16</td>\n",
       "    </tr>\n",
       "    <tr>\n",
       "      <th>3</th>\n",
       "      <td>2020-06-04</td>\n",
       "      <td>26</td>\n",
       "      <td>15</td>\n",
       "    </tr>\n",
       "    <tr>\n",
       "      <th>4</th>\n",
       "      <td>2020-06-05</td>\n",
       "      <td>25</td>\n",
       "      <td>16</td>\n",
       "    </tr>\n",
       "    <tr>\n",
       "      <th>5</th>\n",
       "      <td>2020-06-06</td>\n",
       "      <td>24</td>\n",
       "      <td>17</td>\n",
       "    </tr>\n",
       "    <tr>\n",
       "      <th>6</th>\n",
       "      <td>2020-06-07</td>\n",
       "      <td>23</td>\n",
       "      <td>18</td>\n",
       "    </tr>\n",
       "  </tbody>\n",
       "</table>\n",
       "</div>"
      ],
      "text/plain": [
       "         Date  Morning Visitors  Evening Visitors\n",
       "0  2020-06-01                23                17\n",
       "1  2020-06-02                25                16\n",
       "2  2020-06-03                24                16\n",
       "3  2020-06-04                26                15\n",
       "4  2020-06-05                25                16\n",
       "5  2020-06-06                24                17\n",
       "6  2020-06-07                23                18"
      ]
     },
     "execution_count": 19,
     "metadata": {},
     "output_type": "execute_result"
    }
   ],
   "source": [
    "df"
   ]
  },
  {
   "cell_type": "markdown",
   "metadata": {},
   "source": [
    "What’re the Benefits of using data frame? We can perform column-based calcuations to all data at once."
   ]
  },
  {
   "cell_type": "code",
   "execution_count": 20,
   "metadata": {},
   "outputs": [],
   "source": [
    "df['Total'] = df['Morning Visitors'] + df['Evening Visitors']"
   ]
  },
  {
   "cell_type": "code",
   "execution_count": 21,
   "metadata": {},
   "outputs": [
    {
     "data": {
      "text/html": [
       "<div>\n",
       "<style scoped>\n",
       "    .dataframe tbody tr th:only-of-type {\n",
       "        vertical-align: middle;\n",
       "    }\n",
       "\n",
       "    .dataframe tbody tr th {\n",
       "        vertical-align: top;\n",
       "    }\n",
       "\n",
       "    .dataframe thead th {\n",
       "        text-align: right;\n",
       "    }\n",
       "</style>\n",
       "<table border=\"1\" class=\"dataframe\">\n",
       "  <thead>\n",
       "    <tr style=\"text-align: right;\">\n",
       "      <th></th>\n",
       "      <th>Date</th>\n",
       "      <th>Morning Visitors</th>\n",
       "      <th>Evening Visitors</th>\n",
       "      <th>Total</th>\n",
       "    </tr>\n",
       "  </thead>\n",
       "  <tbody>\n",
       "    <tr>\n",
       "      <th>0</th>\n",
       "      <td>2020-06-01</td>\n",
       "      <td>23</td>\n",
       "      <td>17</td>\n",
       "      <td>40</td>\n",
       "    </tr>\n",
       "    <tr>\n",
       "      <th>1</th>\n",
       "      <td>2020-06-02</td>\n",
       "      <td>25</td>\n",
       "      <td>16</td>\n",
       "      <td>41</td>\n",
       "    </tr>\n",
       "    <tr>\n",
       "      <th>2</th>\n",
       "      <td>2020-06-03</td>\n",
       "      <td>24</td>\n",
       "      <td>16</td>\n",
       "      <td>40</td>\n",
       "    </tr>\n",
       "    <tr>\n",
       "      <th>3</th>\n",
       "      <td>2020-06-04</td>\n",
       "      <td>26</td>\n",
       "      <td>15</td>\n",
       "      <td>41</td>\n",
       "    </tr>\n",
       "    <tr>\n",
       "      <th>4</th>\n",
       "      <td>2020-06-05</td>\n",
       "      <td>25</td>\n",
       "      <td>16</td>\n",
       "      <td>41</td>\n",
       "    </tr>\n",
       "    <tr>\n",
       "      <th>5</th>\n",
       "      <td>2020-06-06</td>\n",
       "      <td>24</td>\n",
       "      <td>17</td>\n",
       "      <td>41</td>\n",
       "    </tr>\n",
       "    <tr>\n",
       "      <th>6</th>\n",
       "      <td>2020-06-07</td>\n",
       "      <td>23</td>\n",
       "      <td>18</td>\n",
       "      <td>41</td>\n",
       "    </tr>\n",
       "  </tbody>\n",
       "</table>\n",
       "</div>"
      ],
      "text/plain": [
       "         Date  Morning Visitors  Evening Visitors  Total\n",
       "0  2020-06-01                23                17     40\n",
       "1  2020-06-02                25                16     41\n",
       "2  2020-06-03                24                16     40\n",
       "3  2020-06-04                26                15     41\n",
       "4  2020-06-05                25                16     41\n",
       "5  2020-06-06                24                17     41\n",
       "6  2020-06-07                23                18     41"
      ]
     },
     "execution_count": 21,
     "metadata": {},
     "output_type": "execute_result"
    }
   ],
   "source": [
    "df"
   ]
  },
  {
   "cell_type": "markdown",
   "metadata": {},
   "source": [
    "## Optional: Process Text with Regular Expression\n",
    "\n",
    "We can use Regular Expression to process text with patterns."
   ]
  },
  {
   "cell_type": "code",
   "execution_count": 13,
   "metadata": {},
   "outputs": [
    {
     "data": {
      "text/plain": [
       "['Steven Hawking was born in 1942.',\n",
       " 'Albert Einstein was born in 1879',\n",
       " 'Albert Einstein won Nobel Prize in 1921.',\n",
       " 'Stephen Curry wear No. 30.',\n",
       " 'Stephen Curry went into NBA in 2009',\n",
       " 'Stephen Curry won NBA MVP in 2015 and 2016.',\n",
       " 'Micheal Jordan was born in 1963.']"
      ]
     },
     "execution_count": 13,
     "metadata": {},
     "output_type": "execute_result"
    }
   ],
   "source": [
    "with open(\"sample-years.txt\") as file_obj:\n",
    "    lines = file_obj.read().splitlines()\n",
    "    \n",
    "lines"
   ]
  },
  {
   "cell_type": "markdown",
   "metadata": {},
   "source": [
    "The following code finds all the years in the text document."
   ]
  },
  {
   "cell_type": "code",
   "execution_count": 14,
   "metadata": {},
   "outputs": [
    {
     "name": "stdout",
     "output_type": "stream",
     "text": [
      "['1942']\n",
      "['1879']\n",
      "['1921']\n",
      "[]\n",
      "['2009']\n",
      "['2015', '2016']\n",
      "['1963']\n"
     ]
    }
   ],
   "source": [
    "import re\n",
    "\n",
    "for line in lines:\n",
    "    pattern = '\\d{4}'\n",
    "    print(re.findall(pattern, line))\n"
   ]
  },
  {
   "cell_type": "markdown",
   "metadata": {},
   "source": [
    "What if we only want the first year found? \n",
    "\n",
    "Let’s try using `[0]` to get the first result for each line. And then, we have an error:"
   ]
  },
  {
   "cell_type": "code",
   "execution_count": 18,
   "metadata": {},
   "outputs": [
    {
     "name": "stdout",
     "output_type": "stream",
     "text": [
      "1942\n",
      "1879\n",
      "1921\n"
     ]
    },
    {
     "ename": "IndexError",
     "evalue": "list index out of range",
     "output_type": "error",
     "traceback": [
      "\u001b[0;31m---------------------------------------------------------------------------\u001b[0m",
      "\u001b[0;31mIndexError\u001b[0m                                Traceback (most recent call last)",
      "\u001b[0;32m<ipython-input-18-f0bcda632400>\u001b[0m in \u001b[0;36m<module>\u001b[0;34m\u001b[0m\n\u001b[1;32m      3\u001b[0m \u001b[0;32mfor\u001b[0m \u001b[0mline\u001b[0m \u001b[0;32min\u001b[0m \u001b[0mlines\u001b[0m\u001b[0;34m:\u001b[0m\u001b[0;34m\u001b[0m\u001b[0;34m\u001b[0m\u001b[0m\n\u001b[1;32m      4\u001b[0m     \u001b[0mpattern\u001b[0m \u001b[0;34m=\u001b[0m \u001b[0;34m'\\d{4}'\u001b[0m\u001b[0;34m\u001b[0m\u001b[0;34m\u001b[0m\u001b[0m\n\u001b[0;32m----> 5\u001b[0;31m     \u001b[0mprint\u001b[0m\u001b[0;34m(\u001b[0m\u001b[0mre\u001b[0m\u001b[0;34m.\u001b[0m\u001b[0mfindall\u001b[0m\u001b[0;34m(\u001b[0m\u001b[0mpattern\u001b[0m\u001b[0;34m,\u001b[0m \u001b[0mline\u001b[0m\u001b[0;34m)\u001b[0m\u001b[0;34m[\u001b[0m\u001b[0;36m0\u001b[0m\u001b[0;34m]\u001b[0m\u001b[0;34m)\u001b[0m\u001b[0;34m\u001b[0m\u001b[0;34m\u001b[0m\u001b[0m\n\u001b[0m",
      "\u001b[0;31mIndexError\u001b[0m: list index out of range"
     ]
    }
   ],
   "source": [
    "import re\n",
    "\n",
    "for line in lines:\n",
    "    pattern = '\\d{4}'\n",
    "    print(re.findall(pattern, line)[0])\n"
   ]
  },
  {
   "cell_type": "markdown",
   "metadata": {},
   "source": [
    "The error occurs because there is one line that failed to find any year result.\n",
    "\n",
    "We can ensure there is empty result by searching the ending of line too. This result in an extra result in every reuslt:"
   ]
  },
  {
   "cell_type": "code",
   "execution_count": 20,
   "metadata": {},
   "outputs": [
    {
     "name": "stdout",
     "output_type": "stream",
     "text": [
      "['1942', '']\n",
      "['1879', '']\n",
      "['1921', '']\n",
      "['']\n",
      "['2009', '']\n",
      "['2015', '2016', '']\n",
      "['1963', '']\n"
     ]
    }
   ],
   "source": [
    "import re\n",
    "\n",
    "for line in lines:\n",
    "    pattern = '\\d{4}|$'\n",
    "    print(re.findall(pattern, line))\n"
   ]
  },
  {
   "cell_type": "markdown",
   "metadata": {},
   "source": [
    "But it is useful if we need to ensure the first result."
   ]
  },
  {
   "cell_type": "code",
   "execution_count": 21,
   "metadata": {},
   "outputs": [
    {
     "name": "stdout",
     "output_type": "stream",
     "text": [
      "1942\n",
      "1879\n",
      "1921\n",
      "\n",
      "2009\n",
      "2015\n",
      "1963\n"
     ]
    }
   ],
   "source": [
    "import re\n",
    "\n",
    "for line in lines:\n",
    "    pattern = '\\d{4}|$'\n",
    "    print(re.findall(pattern, line)[0])\n"
   ]
  },
  {
   "cell_type": "markdown",
   "metadata": {},
   "source": [
    "The following code finds all the names in the text document"
   ]
  },
  {
   "cell_type": "code",
   "execution_count": 15,
   "metadata": {},
   "outputs": [
    {
     "name": "stdout",
     "output_type": "stream",
     "text": [
      "['Steven Hawking']\n",
      "['Albert Einstein']\n",
      "['Albert Einstein', 'Nobel Prize']\n",
      "['Stephen Curry']\n",
      "['Stephen Curry']\n",
      "['Stephen Curry', 'A M']\n",
      "['Micheal Jordan']\n"
     ]
    }
   ],
   "source": [
    "import re\n",
    "\n",
    "for line in lines:\n",
    "    pattern = '[A-Z][a-z]* [A-Z][a-z]*'\n",
    "    print(re.findall(pattern, line))\n"
   ]
  },
  {
   "cell_type": "code",
   "execution_count": 16,
   "metadata": {},
   "outputs": [
    {
     "name": "stdout",
     "output_type": "stream",
     "text": [
      "['Steven Hawking']\n",
      "['Albert Einstein']\n",
      "['Albert Einstein', 'Nobel Prize']\n",
      "['Stephen Curry']\n",
      "['Stephen Curry']\n",
      "['Stephen Curry']\n",
      "['Micheal Jordan']\n"
     ]
    }
   ],
   "source": [
    "import re\n",
    "\n",
    "for line in lines:\n",
    "    pattern = '[A-Z][a-z]+ [A-Z][a-z]+'\n",
    "    print(re.findall(pattern, line))\n"
   ]
  },
  {
   "cell_type": "code",
   "execution_count": 17,
   "metadata": {},
   "outputs": [
    {
     "name": "stdout",
     "output_type": "stream",
     "text": [
      "['Steven Hawking']\n",
      "['Albert Einstein']\n",
      "['Albert Einstein']\n",
      "['Stephen Curry']\n",
      "['Stephen Curry']\n",
      "['Stephen Curry']\n",
      "['Micheal Jordan']\n"
     ]
    }
   ],
   "source": [
    "import re\n",
    "\n",
    "for line in lines:\n",
    "    pattern = '^[A-Z][a-z]+ [A-Z][a-z]+'\n",
    "    print(re.findall(pattern, line))\n"
   ]
  },
  {
   "cell_type": "markdown",
   "metadata": {},
   "source": [
    "You can read more examples of [using Regular Expression on Programiz.com](https://www.programiz.com/python-programming/regex)."
   ]
  },
  {
   "cell_type": "markdown",
   "metadata": {},
   "source": [
    "## Optional: Combining DataFrame and Regex\n",
    "\n",
    "We can combine data frame and regular expression to perform column-based operation to all data at once."
   ]
  },
  {
   "cell_type": "code",
   "execution_count": 3,
   "metadata": {},
   "outputs": [
    {
     "data": {
      "text/html": [
       "<div>\n",
       "<style scoped>\n",
       "    .dataframe tbody tr th:only-of-type {\n",
       "        vertical-align: middle;\n",
       "    }\n",
       "\n",
       "    .dataframe tbody tr th {\n",
       "        vertical-align: top;\n",
       "    }\n",
       "\n",
       "    .dataframe thead th {\n",
       "        text-align: right;\n",
       "    }\n",
       "</style>\n",
       "<table border=\"1\" class=\"dataframe\">\n",
       "  <thead>\n",
       "    <tr style=\"text-align: right;\">\n",
       "      <th></th>\n",
       "      <th>Original Text</th>\n",
       "    </tr>\n",
       "  </thead>\n",
       "  <tbody>\n",
       "    <tr>\n",
       "      <th>0</th>\n",
       "      <td>Steven Hawking was born in 1942.</td>\n",
       "    </tr>\n",
       "    <tr>\n",
       "      <th>1</th>\n",
       "      <td>Albert Einstein was born in 1879</td>\n",
       "    </tr>\n",
       "    <tr>\n",
       "      <th>2</th>\n",
       "      <td>Albert Einstein won Nobel Prize in 1921.</td>\n",
       "    </tr>\n",
       "    <tr>\n",
       "      <th>3</th>\n",
       "      <td>Stephen Curry wear No. 30.</td>\n",
       "    </tr>\n",
       "    <tr>\n",
       "      <th>4</th>\n",
       "      <td>Stephen Curry went into NBA in 2009</td>\n",
       "    </tr>\n",
       "    <tr>\n",
       "      <th>5</th>\n",
       "      <td>Stephen Curry won NBA MVP in 2015 and 2016.</td>\n",
       "    </tr>\n",
       "    <tr>\n",
       "      <th>6</th>\n",
       "      <td>Micheal Jordan was born in 1963.</td>\n",
       "    </tr>\n",
       "  </tbody>\n",
       "</table>\n",
       "</div>"
      ],
      "text/plain": [
       "                                 Original Text\n",
       "0             Steven Hawking was born in 1942.\n",
       "1             Albert Einstein was born in 1879\n",
       "2     Albert Einstein won Nobel Prize in 1921.\n",
       "3                   Stephen Curry wear No. 30.\n",
       "4          Stephen Curry went into NBA in 2009\n",
       "5  Stephen Curry won NBA MVP in 2015 and 2016.\n",
       "6             Micheal Jordan was born in 1963."
      ]
     },
     "execution_count": 3,
     "metadata": {},
     "output_type": "execute_result"
    }
   ],
   "source": [
    "import pandas as pd\n",
    "\n",
    "df = pd.read_csv('sample-years.txt', header=None, names=['Original Text'])\n",
    "\n",
    "df"
   ]
  },
  {
   "cell_type": "markdown",
   "metadata": {},
   "source": [
    "Now that we loaded the text into a column, we can create a new column that applies our own transformation.\n",
    "\n",
    "We define the function that find first year and name given the string parameter input."
   ]
  },
  {
   "cell_type": "code",
   "execution_count": 4,
   "metadata": {},
   "outputs": [],
   "source": [
    "def find_first_year(string):\n",
    "    pattern = '\\d{4}|$'\n",
    "    return re.findall(pattern, string)[0]\n",
    "\n",
    "def find_first_name(string):\n",
    "    pattern = '^[A-Z][a-z]+ [A-Z][a-z]+|$'\n",
    "    return re.findall(pattern, string)[0]"
   ]
  },
  {
   "cell_type": "code",
   "execution_count": 5,
   "metadata": {
    "scrolled": true
   },
   "outputs": [
    {
     "data": {
      "text/html": [
       "<div>\n",
       "<style scoped>\n",
       "    .dataframe tbody tr th:only-of-type {\n",
       "        vertical-align: middle;\n",
       "    }\n",
       "\n",
       "    .dataframe tbody tr th {\n",
       "        vertical-align: top;\n",
       "    }\n",
       "\n",
       "    .dataframe thead th {\n",
       "        text-align: right;\n",
       "    }\n",
       "</style>\n",
       "<table border=\"1\" class=\"dataframe\">\n",
       "  <thead>\n",
       "    <tr style=\"text-align: right;\">\n",
       "      <th></th>\n",
       "      <th>Original Text</th>\n",
       "      <th>Years</th>\n",
       "      <th>Name</th>\n",
       "    </tr>\n",
       "  </thead>\n",
       "  <tbody>\n",
       "    <tr>\n",
       "      <th>0</th>\n",
       "      <td>Steven Hawking was born in 1942.</td>\n",
       "      <td>1942</td>\n",
       "      <td>Steven Hawking</td>\n",
       "    </tr>\n",
       "    <tr>\n",
       "      <th>1</th>\n",
       "      <td>Albert Einstein was born in 1879</td>\n",
       "      <td>1879</td>\n",
       "      <td>Albert Einstein</td>\n",
       "    </tr>\n",
       "    <tr>\n",
       "      <th>2</th>\n",
       "      <td>Albert Einstein won Nobel Prize in 1921.</td>\n",
       "      <td>1921</td>\n",
       "      <td>Albert Einstein</td>\n",
       "    </tr>\n",
       "    <tr>\n",
       "      <th>3</th>\n",
       "      <td>Stephen Curry wear No. 30.</td>\n",
       "      <td></td>\n",
       "      <td>Stephen Curry</td>\n",
       "    </tr>\n",
       "    <tr>\n",
       "      <th>4</th>\n",
       "      <td>Stephen Curry went into NBA in 2009</td>\n",
       "      <td>2009</td>\n",
       "      <td>Stephen Curry</td>\n",
       "    </tr>\n",
       "    <tr>\n",
       "      <th>5</th>\n",
       "      <td>Stephen Curry won NBA MVP in 2015 and 2016.</td>\n",
       "      <td>2015</td>\n",
       "      <td>Stephen Curry</td>\n",
       "    </tr>\n",
       "    <tr>\n",
       "      <th>6</th>\n",
       "      <td>Micheal Jordan was born in 1963.</td>\n",
       "      <td>1963</td>\n",
       "      <td>Micheal Jordan</td>\n",
       "    </tr>\n",
       "  </tbody>\n",
       "</table>\n",
       "</div>"
      ],
      "text/plain": [
       "                                 Original Text Years             Name\n",
       "0             Steven Hawking was born in 1942.  1942   Steven Hawking\n",
       "1             Albert Einstein was born in 1879  1879  Albert Einstein\n",
       "2     Albert Einstein won Nobel Prize in 1921.  1921  Albert Einstein\n",
       "3                   Stephen Curry wear No. 30.          Stephen Curry\n",
       "4          Stephen Curry went into NBA in 2009  2009    Stephen Curry\n",
       "5  Stephen Curry won NBA MVP in 2015 and 2016.  2015    Stephen Curry\n",
       "6             Micheal Jordan was born in 1963.  1963   Micheal Jordan"
      ]
     },
     "execution_count": 5,
     "metadata": {},
     "output_type": "execute_result"
    }
   ],
   "source": [
    "import re\n",
    "\n",
    "df[\"Years\"] = df['Original Text'].apply(find_first_year)\n",
    "df[\"Name\"] = df['Original Text'].apply(find_first_name)\n",
    "\n",
    "df"
   ]
  },
  {
   "cell_type": "code",
   "execution_count": 6,
   "metadata": {},
   "outputs": [
    {
     "data": {
      "text/html": [
       "<div>\n",
       "<style scoped>\n",
       "    .dataframe tbody tr th:only-of-type {\n",
       "        vertical-align: middle;\n",
       "    }\n",
       "\n",
       "    .dataframe tbody tr th {\n",
       "        vertical-align: top;\n",
       "    }\n",
       "\n",
       "    .dataframe thead th {\n",
       "        text-align: right;\n",
       "    }\n",
       "</style>\n",
       "<table border=\"1\" class=\"dataframe\">\n",
       "  <thead>\n",
       "    <tr style=\"text-align: right;\">\n",
       "      <th></th>\n",
       "      <th>Original Text</th>\n",
       "      <th>Years</th>\n",
       "      <th>Name</th>\n",
       "    </tr>\n",
       "  </thead>\n",
       "  <tbody>\n",
       "    <tr>\n",
       "      <th>3</th>\n",
       "      <td>Stephen Curry wear No. 30.</td>\n",
       "      <td></td>\n",
       "      <td>Stephen Curry</td>\n",
       "    </tr>\n",
       "    <tr>\n",
       "      <th>1</th>\n",
       "      <td>Albert Einstein was born in 1879</td>\n",
       "      <td>1879</td>\n",
       "      <td>Albert Einstein</td>\n",
       "    </tr>\n",
       "    <tr>\n",
       "      <th>2</th>\n",
       "      <td>Albert Einstein won Nobel Prize in 1921.</td>\n",
       "      <td>1921</td>\n",
       "      <td>Albert Einstein</td>\n",
       "    </tr>\n",
       "    <tr>\n",
       "      <th>0</th>\n",
       "      <td>Steven Hawking was born in 1942.</td>\n",
       "      <td>1942</td>\n",
       "      <td>Steven Hawking</td>\n",
       "    </tr>\n",
       "    <tr>\n",
       "      <th>6</th>\n",
       "      <td>Micheal Jordan was born in 1963.</td>\n",
       "      <td>1963</td>\n",
       "      <td>Micheal Jordan</td>\n",
       "    </tr>\n",
       "    <tr>\n",
       "      <th>4</th>\n",
       "      <td>Stephen Curry went into NBA in 2009</td>\n",
       "      <td>2009</td>\n",
       "      <td>Stephen Curry</td>\n",
       "    </tr>\n",
       "    <tr>\n",
       "      <th>5</th>\n",
       "      <td>Stephen Curry won NBA MVP in 2015 and 2016.</td>\n",
       "      <td>2015</td>\n",
       "      <td>Stephen Curry</td>\n",
       "    </tr>\n",
       "  </tbody>\n",
       "</table>\n",
       "</div>"
      ],
      "text/plain": [
       "                                 Original Text Years             Name\n",
       "3                   Stephen Curry wear No. 30.          Stephen Curry\n",
       "1             Albert Einstein was born in 1879  1879  Albert Einstein\n",
       "2     Albert Einstein won Nobel Prize in 1921.  1921  Albert Einstein\n",
       "0             Steven Hawking was born in 1942.  1942   Steven Hawking\n",
       "6             Micheal Jordan was born in 1963.  1963   Micheal Jordan\n",
       "4          Stephen Curry went into NBA in 2009  2009    Stephen Curry\n",
       "5  Stephen Curry won NBA MVP in 2015 and 2016.  2015    Stephen Curry"
      ]
     },
     "execution_count": 6,
     "metadata": {},
     "output_type": "execute_result"
    }
   ],
   "source": [
    "df.sort_values(by=\"Years\")"
   ]
  },
  {
   "cell_type": "code",
   "execution_count": 7,
   "metadata": {
    "scrolled": true
   },
   "outputs": [
    {
     "data": {
      "text/html": [
       "<div>\n",
       "<style scoped>\n",
       "    .dataframe tbody tr th:only-of-type {\n",
       "        vertical-align: middle;\n",
       "    }\n",
       "\n",
       "    .dataframe tbody tr th {\n",
       "        vertical-align: top;\n",
       "    }\n",
       "\n",
       "    .dataframe thead th {\n",
       "        text-align: right;\n",
       "    }\n",
       "</style>\n",
       "<table border=\"1\" class=\"dataframe\">\n",
       "  <thead>\n",
       "    <tr style=\"text-align: right;\">\n",
       "      <th></th>\n",
       "      <th>Original Text</th>\n",
       "      <th>Years</th>\n",
       "      <th>Name</th>\n",
       "    </tr>\n",
       "  </thead>\n",
       "  <tbody>\n",
       "    <tr>\n",
       "      <th>1</th>\n",
       "      <td>Albert Einstein was born in 1879</td>\n",
       "      <td>1879</td>\n",
       "      <td>Albert Einstein</td>\n",
       "    </tr>\n",
       "    <tr>\n",
       "      <th>2</th>\n",
       "      <td>Albert Einstein won Nobel Prize in 1921.</td>\n",
       "      <td>1921</td>\n",
       "      <td>Albert Einstein</td>\n",
       "    </tr>\n",
       "    <tr>\n",
       "      <th>6</th>\n",
       "      <td>Micheal Jordan was born in 1963.</td>\n",
       "      <td>1963</td>\n",
       "      <td>Micheal Jordan</td>\n",
       "    </tr>\n",
       "    <tr>\n",
       "      <th>3</th>\n",
       "      <td>Stephen Curry wear No. 30.</td>\n",
       "      <td></td>\n",
       "      <td>Stephen Curry</td>\n",
       "    </tr>\n",
       "    <tr>\n",
       "      <th>4</th>\n",
       "      <td>Stephen Curry went into NBA in 2009</td>\n",
       "      <td>2009</td>\n",
       "      <td>Stephen Curry</td>\n",
       "    </tr>\n",
       "    <tr>\n",
       "      <th>5</th>\n",
       "      <td>Stephen Curry won NBA MVP in 2015 and 2016.</td>\n",
       "      <td>2015</td>\n",
       "      <td>Stephen Curry</td>\n",
       "    </tr>\n",
       "    <tr>\n",
       "      <th>0</th>\n",
       "      <td>Steven Hawking was born in 1942.</td>\n",
       "      <td>1942</td>\n",
       "      <td>Steven Hawking</td>\n",
       "    </tr>\n",
       "  </tbody>\n",
       "</table>\n",
       "</div>"
      ],
      "text/plain": [
       "                                 Original Text Years             Name\n",
       "1             Albert Einstein was born in 1879  1879  Albert Einstein\n",
       "2     Albert Einstein won Nobel Prize in 1921.  1921  Albert Einstein\n",
       "6             Micheal Jordan was born in 1963.  1963   Micheal Jordan\n",
       "3                   Stephen Curry wear No. 30.          Stephen Curry\n",
       "4          Stephen Curry went into NBA in 2009  2009    Stephen Curry\n",
       "5  Stephen Curry won NBA MVP in 2015 and 2016.  2015    Stephen Curry\n",
       "0             Steven Hawking was born in 1942.  1942   Steven Hawking"
      ]
     },
     "execution_count": 7,
     "metadata": {},
     "output_type": "execute_result"
    }
   ],
   "source": [
    "df.sort_values(by=\"Name\")"
   ]
  },
  {
   "cell_type": "markdown",
   "metadata": {},
   "source": [
    "More on [sort_values](https://pandas.pydata.org/pandas-docs/stable/reference/api/pandas.DataFrame.sort_values.html) on pandas documentation."
   ]
  },
  {
   "cell_type": "markdown",
   "metadata": {},
   "source": [
    "## Summary\n",
    "\n",
    "In this section, we learned to read and write plain text file. We also read and write DOCX file. Then, we process the tablular data read from the DOCX file into nested list and even pandas DataFrame."
   ]
  },
  {
   "cell_type": "markdown",
   "metadata": {},
   "source": [
    "Furthermore, you may read more examples about [reading excel document](http://automatetheboringstuff.com/2e/chapter13/) on AutomateTheBoringStuff.com. And examples about [reading PDF/DOCX document](http://automatetheboringstuff.com/2e/chapter15/).\n",
    "\n",
    "We will also use pandas to read Excel data into DataFrame in Lecture 8."
   ]
  }
 ],
 "metadata": {
  "kernelspec": {
   "display_name": "Python 3",
   "language": "python",
   "name": "python3"
  },
  "language_info": {
   "codemirror_mode": {
    "name": "ipython",
    "version": 3
   },
   "file_extension": ".py",
   "mimetype": "text/x-python",
   "name": "python",
   "nbconvert_exporter": "python",
   "pygments_lexer": "ipython3",
   "version": "3.7.3"
  }
 },
 "nbformat": 4,
 "nbformat_minor": 2
}
