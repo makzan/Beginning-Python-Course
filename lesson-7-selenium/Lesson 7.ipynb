{
 "cells": [
  {
   "cell_type": "markdown",
   "metadata": {},
   "source": [
    "# Lesson 7—Web Automation with Selenium\n",
    "\n",
    "\n",
    "\n"
   ]
  },
  {
   "cell_type": "markdown",
   "metadata": {},
   "source": [
    "In this series, we will use 3 lectures to learn fetching data online. This includes:\n",
    "\n",
    "- Finding patterns in URL\n",
    "- Open web URL\n",
    "- Downloading files in Python\n",
    "- Fetch data with API\n",
    "- Web scraping with Requests and BeautifulSoup\n",
    "- **Web automation with Selenium**\n",
    "- **Converting Wikipedia tabular data into CSV**"
   ]
  },
  {
   "cell_type": "markdown",
   "metadata": {},
   "source": [
    "We use Selenium when:\n",
    "- When Requests and BeautifulSoup does not work.\n",
    "- When page requires JavaScript to render the data.\n",
    "\n",
    "Pros:\n",
    "- It launches real browser and automate browser.\n",
    "- Better compatibility .\n",
    "\n",
    "Cons:\n",
    "- Slow because it launches real browser.\n"
   ]
  },
  {
   "cell_type": "markdown",
   "metadata": {},
   "source": [
    "## Downloading browser driver\n",
    "\n",
    "We need web browser driver to use Selenium. \n",
    "\n",
    "- [Gecko Driver for Firefox](https://github.com/mozilla/geckodriver/releases)\n",
    "- [Chrome Driver](https://chromedriver.chromium.org/)"
   ]
  },
  {
   "cell_type": "code",
   "execution_count": null,
   "metadata": {},
   "outputs": [],
   "source": [
    "browser = webdriver.Chrome(options=options)\n",
    "browser.quit()"
   ]
  },
  {
   "cell_type": "markdown",
   "metadata": {},
   "source": [
    "If Selenium raises an error about missing PATH for chrome driver, we may need to specific the PATH when creating the browser instance:"
   ]
  },
  {
   "cell_type": "code",
   "execution_count": null,
   "metadata": {},
   "outputs": [],
   "source": [
    "browser = webdriver.Chrome('./chromedriver', options=options)\n",
    "browser.quit()"
   ]
  },
  {
   "cell_type": "markdown",
   "metadata": {},
   "source": [
    "https://codoid.com/selenium-webdriver-python-cheat-sheet/"
   ]
  },
  {
   "cell_type": "markdown",
   "metadata": {},
   "source": [
    "## Taking screenshot"
   ]
  },
  {
   "cell_type": "code",
   "execution_count": 3,
   "metadata": {},
   "outputs": [],
   "source": [
    "'''Capture the screenshot of a website via Headless Firefox.'''\n",
    "\n",
    "from selenium import webdriver\n",
    "from selenium.webdriver.chrome.options import Options\n",
    "\n",
    "options = Options()\n",
    "options.add_argument('-headless')\n",
    "\n",
    "browser = webdriver.Chrome(options=options)\n",
    "browser.maximize_window()\n",
    "browser.get('https://makclass.com/')\n",
    "browser.save_screenshot('makclass.png')\n",
    "browser.quit()"
   ]
  },
  {
   "cell_type": "code",
   "execution_count": null,
   "metadata": {},
   "outputs": [],
   "source": []
  },
  {
   "cell_type": "code",
   "execution_count": null,
   "metadata": {},
   "outputs": [],
   "source": []
  },
  {
   "cell_type": "code",
   "execution_count": null,
   "metadata": {},
   "outputs": [],
   "source": [
    "'''Fetch current stock from aastock.'''\n",
    "\n",
    "from selenium import webdriver\n",
    "from selenium.webdriver.chrome.options import Options\n",
    "import time\n",
    "\n",
    "stock_number = '0001'\n",
    "\n",
    "options = Options()\n",
    "options.add_argument('-headless')\n",
    "\n",
    "browser = webdriver.Firefox(options=options)\n",
    "browser.maximize_window()\n",
    "\n",
    "browser.get('http://www.aastocks.com/tc/stocks/aboutus/companyinfo.aspx')\n",
    "element = browser.find_element_by_css_selector('#txtHKQuote')\n",
    "element.send_keys(stock_number)\n",
    "browser.execute_script(\"shhkquote($('#txtHKQuote').val(), 'quote', mainPageMarket)\")\n",
    "\n",
    "time.sleep(3)\n",
    "\n",
    "element = browser.find_element_by_css_selector('.font28')\n",
    "print(element.text)\n",
    "\n",
    "\n",
    "browser.quit()"
   ]
  },
  {
   "cell_type": "code",
   "execution_count": null,
   "metadata": {},
   "outputs": [],
   "source": [
    "holidays"
   ]
  }
 ],
 "metadata": {
  "kernelspec": {
   "display_name": "Python 3",
   "language": "python",
   "name": "python3"
  },
  "language_info": {
   "codemirror_mode": {
    "name": "ipython",
    "version": 3
   },
   "file_extension": ".py",
   "mimetype": "text/x-python",
   "name": "python",
   "nbconvert_exporter": "python",
   "pygments_lexer": "ipython3",
   "version": "3.7.6"
  }
 },
 "nbformat": 4,
 "nbformat_minor": 4
}
